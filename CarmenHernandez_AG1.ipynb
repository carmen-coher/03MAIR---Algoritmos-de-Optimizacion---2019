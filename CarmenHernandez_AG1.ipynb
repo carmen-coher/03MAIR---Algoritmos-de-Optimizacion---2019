{
  "nbformat": 4,
  "nbformat_minor": 0,
  "metadata": {
    "colab": {
      "name": "CarmenHernandez-AG1.ipynb",
      "provenance": [],
      "collapsed_sections": [],
      "include_colab_link": true
    },
    "kernelspec": {
      "name": "python3",
      "display_name": "Python 3"
    }
  },
  "cells": [
    {
      "cell_type": "markdown",
      "metadata": {
        "id": "view-in-github",
        "colab_type": "text"
      },
      "source": [
        "<a href=\"https://colab.research.google.com/github/carmen-herlo/03MAIR---Algoritmos-de-Optimizacion---2019/blob/master/CarmenHernandez_AG1.ipynb\" target=\"_parent\"><img src=\"https://colab.research.google.com/assets/colab-badge.svg\" alt=\"Open In Colab\"/></a>"
      ]
    },
    {
      "cell_type": "markdown",
      "metadata": {
        "id": "VIfh5omblC53",
        "colab_type": "text"
      },
      "source": [
        "# Actividad Guiada  1 - AG1\n",
        "Carmen Hernández\n",
        "\n",
        "https://colab.research.google.com/drive/13sK1SnTY5OrQltA19rpaPEo5hUqEe9CJ\n",
        "\n",
        "https://github.com/carmen-herlo"
      ]
    },
    {
      "cell_type": "code",
      "metadata": {
        "id": "4TXH5bG8hhmP",
        "colab_type": "code",
        "colab": {}
      },
      "source": [
        "import numpy as np\n",
        "import random\n",
        "import math"
      ],
      "execution_count": 0,
      "outputs": []
    },
    {
      "cell_type": "code",
      "metadata": {
        "id": "dttc4Z8JlKuU",
        "colab_type": "code",
        "colab": {}
      },
      "source": [
        "from functools import wraps\n",
        "from time import time\n",
        "\n",
        "def calcular_tiempo(f):\n",
        "    @wraps(f)\n",
        "    def cronometro(*args, **kwargs):\n",
        "        t_inicial = time()\n",
        "        salida = f(*args, **kwargs)\n",
        "        t_final = time()\n",
        "        print('Tiempo transcurrido (segundos): {}'.format(t_final-t_inicial))\n",
        "        return salida\n",
        "    return cronometro"
      ],
      "execution_count": 0,
      "outputs": []
    },
    {
      "cell_type": "code",
      "metadata": {
        "id": "2-N-W7rlqXZg",
        "colab_type": "code",
        "colab": {}
      },
      "source": [
        "A  = list(np.random.randint(1, 1e4, size=600))"
      ],
      "execution_count": 0,
      "outputs": []
    },
    {
      "cell_type": "markdown",
      "metadata": {
        "id": "Y9Rq7LvShxkZ",
        "colab_type": "text"
      },
      "source": [
        "# Función algoritmo Quick Sort y mejora de pivote.\n",
        "\n",
        "Lo ideal para la selección del pivote es que éste sea la mediana, pero dado que para obtener la mediana se debe ordenar los elementos y éste es precisamente el objeto de nuestro análisis, se puede tomar como solución la media de tres elementos: el primero, el del medio y  el último. \n",
        "\n",
        "Incluso se puede ser más preciso –sin gran coste computacional– y tomar cinco elementos: el primero, los cuartiles Q1, Q2 y Q3, y el último.\n",
        "\n",
        "¿Por qué seleccionamos como pivote la media de estos elementos en lugar de, por ejemplo, la media de los tres primeros o de los tres últimos? Pues porque la lista puede estar parcialmente ordenada o pueden existir dependencias lineales entre los elementos. Dicho ésto, escogiendo valores que están repartidos a lo largo del array se evita obtener un pivote sesgado por la tendencia o naturaleza intrínseca del propio array."
      ]
    },
    {
      "cell_type": "code",
      "metadata": {
        "id": "JdOD6biesMkt",
        "colab_type": "code",
        "colab": {}
      },
      "source": [
        "# =============================================================================\n",
        "# Función algoritmo Quick Sort\n",
        "# =============================================================================\n",
        "def quick_sort(A):\n",
        "    if len(A) == 1:\n",
        "        return A\n",
        "    if len(A) == 2:\n",
        "        return [min(A),max(A)]\n",
        "\n",
        "    pivote = (A[0] + A[int(len(A)/4)] + A[int(len(A)/2)] + A[int(len(A)*3/4)] + A[len(A)-1]) / 5\n",
        "    \n",
        "    IZQ = []\n",
        "    DER = []\n",
        "    for n in A:\n",
        "        if n < pivote:\n",
        "            IZQ.append(n)\n",
        "        else:\n",
        "            DER.append(n)\n",
        "    \n",
        "    return quick_sort(IZQ) + quick_sort(DER)"
      ],
      "execution_count": 0,
      "outputs": []
    },
    {
      "cell_type": "code",
      "metadata": {
        "id": "LQlp9srFsvQO",
        "colab_type": "code",
        "outputId": "a83846a0-83d9-46c0-a112-f650982e0356",
        "colab": {
          "base_uri": "https://localhost:8080/",
          "height": 74
        }
      },
      "source": [
        "# =============================================================================\n",
        "# Imprime lista ordenada y calcula tiempo de la función Quick Sort\n",
        "# =============================================================================\n",
        "@calcular_tiempo\n",
        "def ordenar(A):\n",
        "    print(quick_sort(A))\n",
        "    \n",
        "ordenar(A)   "
      ],
      "execution_count": 0,
      "outputs": [
        {
          "output_type": "stream",
          "text": [
            "[10, 19, 43, 92, 110, 119, 129, 134, 146, 150, 150, 168, 170, 173, 192, 194, 212, 248, 282, 302, 308, 342, 348, 354, 356, 424, 431, 431, 445, 473, 503, 517, 530, 539, 583, 590, 622, 631, 638, 677, 715, 729, 741, 742, 743, 751, 761, 765, 789, 797, 817, 837, 850, 886, 886, 892, 897, 945, 982, 995, 1016, 1035, 1035, 1052, 1083, 1142, 1158, 1163, 1193, 1193, 1202, 1215, 1223, 1270, 1283, 1284, 1289, 1292, 1307, 1313, 1323, 1331, 1357, 1360, 1372, 1398, 1402, 1421, 1431, 1446, 1446, 1501, 1507, 1517, 1519, 1522, 1526, 1537, 1551, 1555, 1566, 1572, 1585, 1598, 1616, 1643, 1660, 1678, 1691, 1697, 1726, 1733, 1745, 1747, 1758, 1758, 1766, 1775, 1785, 1801, 1802, 1822, 1846, 1868, 1891, 1911, 1915, 1917, 1927, 1928, 1946, 1950, 1963, 1965, 1974, 1981, 2041, 2043, 2044, 2050, 2057, 2060, 2074, 2076, 2089, 2115, 2125, 2142, 2149, 2173, 2186, 2226, 2260, 2301, 2348, 2359, 2361, 2371, 2378, 2427, 2447, 2465, 2483, 2490, 2506, 2540, 2583, 2617, 2625, 2625, 2632, 2643, 2661, 2663, 2666, 2684, 2690, 2695, 2696, 2719, 2729, 2738, 2754, 2773, 2782, 2798, 2803, 2803, 2806, 2845, 2878, 2917, 2957, 2964, 2973, 2990, 3007, 3060, 3072, 3079, 3083, 3097, 3111, 3127, 3145, 3186, 3203, 3215, 3228, 3332, 3359, 3373, 3411, 3444, 3460, 3476, 3490, 3575, 3582, 3585, 3586, 3589, 3609, 3615, 3626, 3657, 3660, 3695, 3703, 3744, 3763, 3769, 3777, 3825, 3828, 3856, 3880, 3906, 3908, 3908, 3919, 3960, 3965, 3984, 4008, 4010, 4040, 4075, 4084, 4093, 4124, 4125, 4130, 4144, 4146, 4147, 4150, 4162, 4174, 4198, 4212, 4212, 4218, 4273, 4278, 4291, 4299, 4339, 4347, 4360, 4388, 4406, 4411, 4414, 4446, 4457, 4483, 4495, 4510, 4518, 4539, 4561, 4572, 4582, 4600, 4616, 4634, 4648, 4659, 4670, 4675, 4676, 4698, 4703, 4731, 4753, 4783, 4786, 4827, 4846, 4849, 4907, 4916, 4919, 4921, 4929, 4930, 4996, 5047, 5063, 5075, 5123, 5130, 5130, 5135, 5177, 5189, 5200, 5213, 5224, 5228, 5236, 5245, 5257, 5266, 5273, 5283, 5303, 5313, 5324, 5337, 5375, 5442, 5447, 5529, 5547, 5563, 5571, 5604, 5612, 5627, 5630, 5672, 5673, 5686, 5692, 5707, 5726, 5726, 5734, 5744, 5751, 5752, 5768, 5772, 5774, 5776, 5823, 5854, 5865, 5875, 5894, 5898, 5921, 5924, 5938, 5956, 5966, 6003, 6058, 6064, 6079, 6104, 6113, 6142, 6150, 6158, 6160, 6177, 6196, 6233, 6254, 6287, 6294, 6296, 6356, 6389, 6391, 6399, 6419, 6419, 6482, 6488, 6507, 6517, 6531, 6564, 6571, 6587, 6589, 6589, 6595, 6619, 6631, 6631, 6651, 6668, 6677, 6678, 6680, 6690, 6809, 6839, 6845, 6853, 6865, 6873, 6888, 6888, 6896, 6908, 6909, 6912, 6919, 6966, 6982, 6984, 7023, 7069, 7078, 7104, 7113, 7117, 7134, 7138, 7140, 7145, 7172, 7192, 7235, 7268, 7283, 7293, 7348, 7384, 7433, 7434, 7445, 7448, 7456, 7459, 7471, 7475, 7484, 7495, 7495, 7503, 7540, 7542, 7559, 7560, 7597, 7620, 7629, 7692, 7716, 7747, 7757, 7761, 7770, 7793, 7812, 7823, 7823, 7846, 7860, 7880, 7895, 7897, 7913, 8001, 8005, 8054, 8132, 8134, 8162, 8173, 8179, 8200, 8216, 8250, 8267, 8283, 8307, 8307, 8309, 8315, 8328, 8408, 8418, 8422, 8425, 8435, 8438, 8440, 8443, 8469, 8492, 8515, 8543, 8603, 8627, 8658, 8664, 8677, 8700, 8734, 8735, 8765, 8776, 8788, 8812, 8841, 8862, 8890, 8895, 8900, 8906, 8913, 8914, 8919, 8928, 8936, 8937, 8942, 8949, 8950, 8981, 8992, 9005, 9011, 9040, 9064, 9083, 9085, 9103, 9112, 9116, 9143, 9153, 9190, 9194, 9205, 9209, 9213, 9220, 9224, 9228, 9236, 9270, 9280, 9282, 9298, 9334, 9369, 9377, 9384, 9387, 9388, 9395, 9413, 9450, 9459, 9460, 9477, 9483, 9496, 9497, 9512, 9523, 9549, 9577, 9646, 9692, 9724, 9732, 9746, 9755, 9776, 9798, 9817, 9825, 9836, 9856, 9860, 9865, 9874, 9905, 9965, 9987]\n",
            "Tiempo transcurrido (segundos): 0.015457630157470703\n"
          ],
          "name": "stdout"
        }
      ]
    },
    {
      "cell_type": "markdown",
      "metadata": {
        "id": "JN05n0jzlKnU",
        "colab_type": "text"
      },
      "source": [
        "# Algoritmo voraz para la devolución del cambio.\n",
        "\n",
        "Emplearemos un algoritmo voraz para el problema de la devolución del cambio. El objetivo es devolver el cambio de monedas con el menor número de monedas posibles."
      ]
    },
    {
      "cell_type": "markdown",
      "metadata": {
        "id": "fbqGJLBxmW9m",
        "colab_type": "text"
      },
      "source": [
        "El sistema monetario a introducir en nuestro algoritmo voraz debe estar ordenado de mayor a menor:"
      ]
    },
    {
      "cell_type": "code",
      "metadata": {
        "id": "x-4aq0sylmp6",
        "colab_type": "code",
        "outputId": "7b6127d9-6814-4380-ecab-ea25a254fce3",
        "colab": {
          "base_uri": "https://localhost:8080/",
          "height": 35
        }
      },
      "source": [
        "SISTEMA  = [10, 1, 5, 25]\n",
        "SISTEMA = quick_sort(SISTEMA)\n",
        "SISTEMA.reverse()\n",
        "print(SISTEMA)"
      ],
      "execution_count": 0,
      "outputs": [
        {
          "output_type": "stream",
          "text": [
            "[25, 10, 5, 1]\n"
          ],
          "name": "stdout"
        }
      ]
    },
    {
      "cell_type": "markdown",
      "metadata": {
        "id": "VsQMax6fnTVp",
        "colab_type": "text"
      },
      "source": [
        "Se da el valor a alcanzar que denotaremos con la letra 'C' (lo que es el cambio) y el algoritmo obtiene la cantidad total de monedas:"
      ]
    },
    {
      "cell_type": "code",
      "metadata": {
        "id": "v2cYsDWWlQzh",
        "colab_type": "code",
        "outputId": "389ac41a-bf6e-4b8e-e66b-f33c9f4cfe32",
        "colab": {
          "base_uri": "https://localhost:8080/",
          "height": 54
        }
      },
      "source": [
        "# =============================================================================\n",
        "# ALGORITMO VORAZ PARA LA DEVOLUCIÓN DEL CAMBIO\n",
        "# =============================================================================\n",
        "C = 123\n",
        "\n",
        "@calcular_tiempo\n",
        "def cambio_monedas(CANTIDAD, SISTEMA):\n",
        "#    list(np.zeros(len(SISTEMA),dtype=int))\n",
        "    SOLUCION = [0 for i in range(len(SISTEMA))]\n",
        "    \n",
        "    VALOR_ACUMULADO = 0\n",
        "    \n",
        "    for i in range(len(SISTEMA)):\n",
        "        monedas = (CANTIDAD - VALOR_ACUMULADO)//SISTEMA[i]\n",
        "        SOLUCION[i] = monedas\n",
        "        VALOR_ACUMULADO = VALOR_ACUMULADO + monedas*SISTEMA[i]\n",
        "        \n",
        "        if VALOR_ACUMULADO == CANTIDAD:\n",
        "            return SOLUCION\n",
        "\n",
        "print(cambio_monedas(C, SISTEMA))"
      ],
      "execution_count": 0,
      "outputs": [
        {
          "output_type": "stream",
          "text": [
            "Tiempo transcurrido (segundos): 5.9604644775390625e-06\n",
            "[4, 2, 0, 3]\n"
          ],
          "name": "stdout"
        }
      ]
    },
    {
      "cell_type": "markdown",
      "metadata": {
        "id": "I-Nxdm1Coy3T",
        "colab_type": "text"
      },
      "source": [
        "# Bactracking (vuelta atrás) para el problema de las N-Reinas.\n",
        "\n",
        "El algoritmo deberá comprobar:\n",
        "\n",
        "- que no hay reinas en la misma fila (no hay  dos elementos iguales en la solución)\n",
        "\n",
        "- Que no hay reinas en la misma diagonal ($|i-j|=\\left|Xi-Xj\\right|$ para todos los $i, j$ de la SOLUCIÓN) "
      ]
    },
    {
      "cell_type": "markdown",
      "metadata": {
        "id": "JFYX5Pf3qOXE",
        "colab_type": "text"
      },
      "source": [
        "Ejemplo con 8 reinas:"
      ]
    },
    {
      "cell_type": "code",
      "metadata": {
        "id": "y2tXxDFRldaq",
        "colab_type": "code",
        "outputId": "c3b3a2a6-ef99-4770-94e3-1929229fae42",
        "colab": {
          "base_uri": "https://localhost:8080/",
          "height": 90
        }
      },
      "source": [
        "N = 8  # nº de reinas\n",
        "\n",
        "def es_prometedora(SOLUCION, etapa):\n",
        "    #Comprueba que no hay  reinas en la misma fila (no hay dos elementos iguales en la solucion)\n",
        "    #Comprueba que no hay reinas en la misma diagonal (|i-j|=|Xi-Xj| para todos los i,j de la SOLUCION)\n",
        "    for i in range(etapa+1):\n",
        "        if SOLUCION.count(SOLUCION[i]) > 1:\n",
        "            return False\n",
        "        for j in range(i+1, etapa+1):\n",
        "            if abs(i-j) == abs(SOLUCION[i]-SOLUCION[j]):\n",
        "                return False\n",
        "    return True\n",
        "\n",
        "\n",
        "def reinas(N, solucion=[], etapa=0):\n",
        "    if len(solucion) == 0:\n",
        "        solucion = [0 for i in range(N)]\n",
        "    \n",
        "    for i in range(1, N+1):\n",
        "        solucion[etapa] = i\n",
        "        \n",
        "        if es_prometedora(solucion, etapa):\n",
        "            if etapa == N-1:\n",
        "                print('La solución es', solucion)\n",
        "            else:\n",
        "                reinas(N, solucion, etapa+1)\n",
        "        else:\n",
        "            None\n",
        "        \n",
        "reinas(N)"
      ],
      "execution_count": 0,
      "outputs": [
        {
          "output_type": "stream",
          "text": [
            "La solución es [4, 7, 5, 2, 6, 1, 3, 8]\n",
            "La solución es [5, 7, 2, 6, 3, 1, 4, 8]\n",
            "La solución es [6, 3, 5, 7, 1, 4, 2, 8]\n",
            "La solución es [6, 4, 7, 1, 3, 5, 2, 8]\n"
          ],
          "name": "stdout"
        }
      ]
    },
    {
      "cell_type": "markdown",
      "metadata": {
        "id": "0Hoxek-8qV2v",
        "colab_type": "text"
      },
      "source": [
        "# Ejercicio encontrar los dos puntos más cercanos\n",
        "\n",
        "Se implementará una función que sirva para calcular los puntos de mínima distancia tanto en 1D, 2D y 3D:\n",
        "\n"
      ]
    },
    {
      "cell_type": "code",
      "metadata": {
        "id": "CZ2Lzvng21In",
        "colab_type": "code",
        "colab": {}
      },
      "source": [
        "#función que calcula la distancia euclídea entre dos puntos de la misma dimensión N\n",
        "def calcula_distancia(v1,v2):\n",
        "    if type(v1)==int:\n",
        "        return abs(v1-v2)\n",
        "    else:\n",
        "        temp = []\n",
        "        for i in range(len(v1)):\n",
        "            temp.append((v1[i]-v2[i])**2)\n",
        "        return (sum(temp))**(1/2)"
      ],
      "execution_count": 0,
      "outputs": []
    },
    {
      "cell_type": "code",
      "metadata": {
        "id": "3wXeeDJGktS6",
        "colab_type": "code",
        "colab": {}
      },
      "source": [
        "def minima_distancia(A):\n",
        "    # =============================================================================\n",
        "    # 1. Restas de todos con todos\n",
        "    # =============================================================================\n",
        "    distancias = {}\n",
        "    for i in range (m):\n",
        "        for j in range (i+1,m):\n",
        "            if A[i]!=A[j]:\n",
        "                #distancias[i,j] = np.linalg.norm(np.array(A[i])-np.array(A[j]))\n",
        "                distancias[i,j] = calcula_distancia(A[i], A[j])\n",
        "                \n",
        "    # =============================================================================\n",
        "    # 2. Buscar mínima distancia\n",
        "    # =============================================================================\n",
        "    min_value =  min(distancias.values())\n",
        "    min_keys = [k for k in distancias if distancias[k]==min_value]\n",
        "    \n",
        "    # =============================================================================\n",
        "    # 3. Agrupar el/los punto/s de mínima distancia en una lista y mostrar:        \n",
        "    # =============================================================================\n",
        "    print('\\nPuntos de mínima distancia:')\n",
        "    dot_ls=[]\n",
        "    for i in range(len(min_keys)):\n",
        "        dot1 = min(A[min_keys[i][0]],A[min_keys[i][1]])\n",
        "        dot2 = max(A[min_keys[i][0]],A[min_keys[i][1]])\n",
        "        dot_ls.append((dot1,dot2))\n",
        "    print(dot_ls)\n",
        "    print('con una distancia de {} unidades'.format(np.round(min_value,4)))"
      ],
      "execution_count": 0,
      "outputs": []
    },
    {
      "cell_type": "markdown",
      "metadata": {
        "id": "O6xI-yhKrC6G",
        "colab_type": "text"
      },
      "source": [
        "Se escriben los arrays en 1D, 2D y 3D, flexibles en cuanto a su composición: valor mínimo, valor máximo y tamaño:"
      ]
    },
    {
      "cell_type": "code",
      "metadata": {
        "id": "99qBOWYPqyBd",
        "colab_type": "code",
        "colab": {}
      },
      "source": [
        "# =============================================================================\n",
        "# CONSTANTES\n",
        "# =============================================================================\n",
        "n_min, n_max, size = 0, 255, 100\n",
        "\n",
        "A_1D = [random.randrange(n_min,n_max) for i in range(size)]\n",
        "A_2D = [(random.randrange(n_min,n_max), random.randrange(n_min,n_max)) for i in range(size)]\n",
        "A_3D = [(random.randrange(n_min,n_max), random.randrange(n_min,n_max), random.randrange(n_min,n_max)) for i in range(size)]"
      ],
      "execution_count": 0,
      "outputs": []
    },
    {
      "cell_type": "markdown",
      "metadata": {
        "id": "gbnTY_NurfNK",
        "colab_type": "text"
      },
      "source": [
        "Se trata de una combinatoria, así que el número de combinaciones posibles es:"
      ]
    },
    {
      "cell_type": "code",
      "metadata": {
        "id": "niPvGTPqrCMt",
        "colab_type": "code",
        "outputId": "96708679-67a5-44cb-fe05-ff2b7243a063",
        "colab": {
          "base_uri": "https://localhost:8080/",
          "height": 35
        }
      },
      "source": [
        "m = size\n",
        "n = 2\n",
        "combinatoria = math.factorial(m) / (math.factorial(n)*math.factorial(m-n))\n",
        "print('Para un array de {} puntos, el número de combinaciones posibles para obtener la distancia entre todos los puntos es {}'.format(size,int(combinatoria)))"
      ],
      "execution_count": 0,
      "outputs": [
        {
          "output_type": "stream",
          "text": [
            "Para un array de 100 puntos, el número de combinaciones posibles para obtener la distancia entre todos los puntos es 4950\n"
          ],
          "name": "stdout"
        }
      ]
    },
    {
      "cell_type": "markdown",
      "metadata": {
        "id": "Bo1IQRnusw-Z",
        "colab_type": "text"
      },
      "source": [
        "Esta combinatoria no está teniendo en cuenta que en el propio array pueden existir valores repetidos. En nuestro algoritmo descartaremos calcular la distancia de dos  valores repetidos (pues no tiene sentido  calcular la  distancia entre un punto y él mismo). Dicho ésto, para arrays de gran tamaño con mayor probabilidad de valores repetidos, el número de combinaciones a realizar será probablemente menor que  el que nos ofrece el cálculo de combinatoria ejecutado anteriormente.\n",
        "\n",
        "Una forma de saber el número de combinaciones exactas sería eliminar del array los valores repetidos (si los hubiera) y luego ejecutar la fórmula de la combinatoria con el tamaño de nuestro nuevo array, pero ésto supone un coste computacional que no es necesario para el objetivo del ejercicio.\n",
        "\n",
        "El objetivo de mostrar la combinatoria no es imprescindible, sino que se trata de un cálculo añadido para que el usuario pueda hacerse a la idea del coste computacional."
      ]
    },
    {
      "cell_type": "code",
      "metadata": {
        "id": "GVGIKSp4so-9",
        "colab_type": "code",
        "outputId": "73434e39-f3d7-46f8-ef8b-11f8305596d7",
        "colab": {
          "base_uri": "https://localhost:8080/",
          "height": 257
        }
      },
      "source": [
        "# =============================================================================\n",
        "# Ejecutamos función\n",
        "# =============================================================================\n",
        "minima_distancia(A_1D)\n",
        "minima_distancia(A_2D)\n",
        "minima_distancia(A_3D)"
      ],
      "execution_count": 0,
      "outputs": [
        {
          "output_type": "stream",
          "text": [
            "\n",
            "Puntos de mínima distancia:\n",
            "[(70, 71), (150, 151), (149, 150), (144, 145), (144, 145), (96, 97), (121, 122), (122, 123), (93, 94), (100, 101), (100, 101), (97, 98), (186, 187), (105, 106), (106, 107), (150, 151), (151, 152), (93, 94), (221, 222), (222, 223), (252, 253), (149, 150), (202, 203), (220, 221), (129, 130), (76, 77), (167, 168), (118, 119), (118, 119), (203, 204), (242, 243), (176, 177), (129, 130), (117, 118), (105, 106), (106, 107), (180, 181), (63, 64), (186, 187), (52, 53), (77, 78), (117, 118), (116, 117)]\n",
            "con una distancia de 1 unidades\n",
            "\n",
            "Puntos de mínima distancia:\n",
            "[((171, 45), (171, 46))]\n",
            "con una distancia de 1.0 unidades\n",
            "\n",
            "Puntos de mínima distancia:\n",
            "[((42, 62, 12), (51, 74, 13))]\n",
            "con una distancia de 15.0333 unidades\n"
          ],
          "name": "stdout"
        }
      ]
    }
  ]
}