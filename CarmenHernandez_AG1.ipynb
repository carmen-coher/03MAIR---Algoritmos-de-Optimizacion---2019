{
  "nbformat": 4,
  "nbformat_minor": 0,
  "metadata": {
    "colab": {
      "name": "CarmenHernandez-AG1.ipynb",
      "provenance": [],
      "collapsed_sections": [],
      "include_colab_link": true
    },
    "kernelspec": {
      "name": "python3",
      "display_name": "Python 3"
    }
  },
  "cells": [
    {
      "cell_type": "markdown",
      "metadata": {
        "id": "view-in-github",
        "colab_type": "text"
      },
      "source": [
        "<a href=\"https://colab.research.google.com/github/carmen-herlo/03MAIR---Algoritmos-de-Optimizacion---2019/blob/master/CarmenHernandez_AG1.ipynb\" target=\"_parent\"><img src=\"https://colab.research.google.com/assets/colab-badge.svg\" alt=\"Open In Colab\"/></a>"
      ]
    },
    {
      "cell_type": "markdown",
      "metadata": {
        "id": "VIfh5omblC53",
        "colab_type": "text"
      },
      "source": [
        "# Actividad Guiada  1 - AG1\n",
        "Carmen Hernández\n",
        "\n",
        "https://colab.research.google.com/drive/13sK1SnTY5OrQltA19rpaPEo5hUqEe9CJ\n",
        "\n",
        "https://github.com/carmen-herlo"
      ]
    },
    {
      "cell_type": "code",
      "metadata": {
        "id": "4TXH5bG8hhmP",
        "colab_type": "code",
        "colab": {}
      },
      "source": [
        "import numpy as np\n",
        "import random\n",
        "import math"
      ],
      "execution_count": 0,
      "outputs": []
    },
    {
      "cell_type": "code",
      "metadata": {
        "id": "dttc4Z8JlKuU",
        "colab_type": "code",
        "colab": {}
      },
      "source": [
        "from functools import wraps\n",
        "from time import time\n",
        "\n",
        "def calcular_tiempo(f):\n",
        "    @wraps(f)\n",
        "    def cronometro(*args, **kwargs):\n",
        "        t_inicial = time()\n",
        "        salida = f(*args, **kwargs)\n",
        "        t_final = time()\n",
        "        print('Tiempo transcurrido (segundos): {}'.format(t_final-t_inicial))\n",
        "        return salida\n",
        "    return cronometro"
      ],
      "execution_count": 0,
      "outputs": []
    },
    {
      "cell_type": "code",
      "metadata": {
        "id": "2-N-W7rlqXZg",
        "colab_type": "code",
        "colab": {}
      },
      "source": [
        "A  = list(np.random.randint(1, 1e4, size=600))"
      ],
      "execution_count": 0,
      "outputs": []
    },
    {
      "cell_type": "markdown",
      "metadata": {
        "id": "Y9Rq7LvShxkZ",
        "colab_type": "text"
      },
      "source": [
        "# Función algoritmo Quick Sort y mejora de pivote.\n",
        "\n",
        "Lo ideal para la selección del pivote es que éste sea la mediana, pero dado que para obtener la mediana se debe ordenar los elementos y éste es precisamente el objeto de nuestro análisis, se puede tomar como solución la media de tres elementos: el primero, el del medio y  el último. \n",
        "\n",
        "Incluso se puede ser más preciso –sin gran coste computacional– y tomar cinco elementos: el primero, los cuartiles Q1, Q2 y Q3, y el último.\n",
        "\n",
        "¿Por qué seleccionamos como pivote la media de estos elementos en lugar de, por ejemplo, la media de los tres primeros o de los tres últimos? Pues porque la lista puede estar parcialmente ordenada o pueden existir dependencias lineales entre los elementos. Dicho ésto, escogiendo valores que están repartidos a lo largo del array se evita obtener un pivote sesgado por la tendencia o naturaleza intrínseca del propio array."
      ]
    },
    {
      "cell_type": "code",
      "metadata": {
        "id": "JdOD6biesMkt",
        "colab_type": "code",
        "colab": {}
      },
      "source": [
        "# =============================================================================\n",
        "# Función algoritmo Quick Sort\n",
        "# =============================================================================\n",
        "def quick_sort(A):\n",
        "    if len(A) == 1:\n",
        "        return A\n",
        "    if len(A) == 2:\n",
        "        return [min(A),max(A)]\n",
        "\n",
        "    pivote = (A[0] + A[int(len(A)/4)] + A[int(len(A)/2)] + A[int(len(A)*3/4)] + A[len(A)-1]) / 5\n",
        "    \n",
        "    IZQ = []\n",
        "    DER = []\n",
        "    for n in A:\n",
        "        if n < pivote:\n",
        "            IZQ.append(n)\n",
        "        else:\n",
        "            DER.append(n)\n",
        "    \n",
        "    return quick_sort(IZQ) + quick_sort(DER)"
      ],
      "execution_count": 0,
      "outputs": []
    },
    {
      "cell_type": "code",
      "metadata": {
        "id": "LQlp9srFsvQO",
        "colab_type": "code",
        "outputId": "585ee748-eecc-4f2c-9fd1-27a9808c266a",
        "colab": {
          "base_uri": "https://localhost:8080/",
          "height": 74
        }
      },
      "source": [
        "# =============================================================================\n",
        "# Imprime lista ordenada y calcula tiempo de la función Quick Sort\n",
        "# =============================================================================\n",
        "@calcular_tiempo\n",
        "def ordenar(A):\n",
        "    print(quick_sort(A))\n",
        "    \n",
        "ordenar(A)   "
      ],
      "execution_count": 0,
      "outputs": [
        {
          "output_type": "stream",
          "text": [
            "[5, 14, 94, 105, 127, 136, 169, 173, 224, 227, 256, 268, 269, 310, 328, 334, 341, 343, 345, 345, 347, 412, 413, 421, 430, 450, 471, 500, 517, 559, 560, 573, 584, 590, 602, 604, 682, 682, 693, 698, 720, 745, 755, 761, 789, 798, 823, 837, 882, 894, 895, 897, 899, 903, 905, 910, 940, 941, 958, 962, 982, 1004, 1022, 1030, 1031, 1052, 1064, 1064, 1091, 1097, 1097, 1099, 1107, 1124, 1138, 1139, 1155, 1159, 1161, 1163, 1170, 1181, 1220, 1222, 1247, 1260, 1268, 1277, 1358, 1374, 1392, 1398, 1451, 1471, 1479, 1501, 1527, 1541, 1549, 1558, 1570, 1608, 1634, 1644, 1670, 1673, 1684, 1710, 1743, 1748, 1752, 1757, 1779, 1788, 1789, 1799, 1800, 1819, 1840, 1864, 1884, 1901, 1912, 1951, 1971, 1987, 1992, 2020, 2032, 2046, 2051, 2052, 2056, 2094, 2109, 2128, 2152, 2169, 2169, 2181, 2194, 2231, 2231, 2248, 2251, 2261, 2293, 2296, 2316, 2332, 2336, 2363, 2375, 2390, 2401, 2401, 2484, 2487, 2496, 2497, 2516, 2523, 2527, 2527, 2539, 2545, 2585, 2586, 2587, 2595, 2597, 2606, 2615, 2660, 2684, 2687, 2703, 2711, 2748, 2753, 2774, 2774, 2778, 2779, 2791, 2842, 2846, 2887, 2890, 2892, 2892, 2896, 2899, 2902, 2930, 2949, 2959, 2968, 2976, 2985, 2999, 2999, 3062, 3072, 3098, 3115, 3122, 3139, 3164, 3263, 3269, 3280, 3305, 3314, 3386, 3392, 3409, 3434, 3463, 3480, 3509, 3532, 3538, 3551, 3560, 3597, 3603, 3612, 3618, 3620, 3635, 3641, 3648, 3650, 3677, 3692, 3717, 3733, 3758, 3760, 3761, 3766, 3782, 3784, 3807, 3808, 3841, 3844, 3856, 3861, 3864, 3874, 3879, 3890, 3908, 3920, 3949, 3953, 3953, 4004, 4017, 4054, 4084, 4099, 4117, 4126, 4132, 4136, 4163, 4190, 4191, 4194, 4196, 4210, 4222, 4223, 4226, 4229, 4251, 4289, 4291, 4293, 4330, 4336, 4371, 4395, 4405, 4443, 4473, 4479, 4483, 4513, 4551, 4561, 4569, 4609, 4625, 4643, 4645, 4667, 4688, 4715, 4729, 4752, 4782, 4783, 4827, 4836, 4848, 4861, 4864, 4865, 4907, 4909, 4944, 4975, 4979, 5019, 5045, 5121, 5140, 5201, 5204, 5211, 5361, 5367, 5370, 5390, 5437, 5443, 5453, 5459, 5466, 5468, 5495, 5502, 5510, 5522, 5538, 5540, 5582, 5595, 5634, 5659, 5684, 5699, 5710, 5720, 5732, 5733, 5749, 5755, 5818, 5831, 5847, 5862, 5882, 5885, 5898, 5911, 5930, 5933, 5947, 5948, 5970, 6000, 6028, 6068, 6071, 6072, 6119, 6150, 6190, 6219, 6241, 6246, 6255, 6259, 6259, 6278, 6297, 6304, 6309, 6324, 6348, 6355, 6380, 6385, 6400, 6407, 6419, 6432, 6435, 6485, 6512, 6533, 6554, 6558, 6601, 6609, 6612, 6616, 6663, 6665, 6668, 6668, 6679, 6706, 6712, 6718, 6749, 6754, 6762, 6800, 6804, 6809, 6843, 6843, 6858, 6866, 6971, 6979, 6986, 6991, 7016, 7042, 7049, 7050, 7073, 7077, 7110, 7118, 7146, 7162, 7168, 7170, 7190, 7194, 7214, 7216, 7229, 7237, 7262, 7290, 7309, 7356, 7365, 7432, 7451, 7462, 7479, 7482, 7488, 7491, 7505, 7543, 7557, 7580, 7599, 7602, 7624, 7634, 7688, 7703, 7792, 7796, 7824, 7885, 7923, 7926, 7934, 7942, 7956, 7985, 7992, 7999, 8011, 8054, 8067, 8093, 8100, 8142, 8146, 8188, 8246, 8265, 8270, 8272, 8276, 8276, 8298, 8313, 8397, 8397, 8402, 8416, 8426, 8426, 8427, 8449, 8456, 8472, 8481, 8495, 8504, 8511, 8529, 8541, 8544, 8546, 8547, 8579, 8604, 8619, 8632, 8689, 8709, 8726, 8730, 8737, 8749, 8764, 8777, 8778, 8786, 8798, 8844, 8876, 8890, 8905, 8919, 8924, 8929, 8935, 8946, 8957, 8967, 8974, 8981, 8985, 8987, 8994, 8996, 9026, 9047, 9050, 9057, 9089, 9092, 9129, 9139, 9148, 9213, 9214, 9255, 9273, 9293, 9303, 9307, 9321, 9341, 9370, 9440, 9472, 9472, 9481, 9482, 9489, 9492, 9516, 9543, 9552, 9561, 9575, 9592, 9657, 9657, 9659, 9685, 9707, 9724, 9743, 9749, 9764, 9784, 9812, 9818, 9841, 9843, 9894, 9898, 9913, 9915, 9918, 9921, 9921, 9947, 9956, 9958, 9987]\n",
            "Tiempo transcurrido (segundos): 0.01773977279663086\n"
          ],
          "name": "stdout"
        }
      ]
    },
    {
      "cell_type": "markdown",
      "metadata": {
        "id": "JN05n0jzlKnU",
        "colab_type": "text"
      },
      "source": [
        "# Algoritmo voraz para la devolución del cambio.\n",
        "\n",
        "Emplearemos un algoritmo voraz para el problema de la devolución del cambio. El objetivo es devolver el cambio de monedas con el menor número de monedas posibles."
      ]
    },
    {
      "cell_type": "markdown",
      "metadata": {
        "id": "fbqGJLBxmW9m",
        "colab_type": "text"
      },
      "source": [
        "El sistema monetario a introducir en nuestro algoritmo voraz debe estar ordenado de mayor a menor:"
      ]
    },
    {
      "cell_type": "code",
      "metadata": {
        "id": "x-4aq0sylmp6",
        "colab_type": "code",
        "outputId": "d8e6b2c7-786c-45fa-f029-90738e8ccb8a",
        "colab": {
          "base_uri": "https://localhost:8080/",
          "height": 35
        }
      },
      "source": [
        "SISTEMA  = [10, 1, 5, 25]\n",
        "SISTEMA = quick_sort(SISTEMA)\n",
        "SISTEMA.reverse()\n",
        "print(SISTEMA)"
      ],
      "execution_count": 0,
      "outputs": [
        {
          "output_type": "stream",
          "text": [
            "[25, 10, 5, 1]\n"
          ],
          "name": "stdout"
        }
      ]
    },
    {
      "cell_type": "markdown",
      "metadata": {
        "id": "VsQMax6fnTVp",
        "colab_type": "text"
      },
      "source": [
        "Se da el valor a alcanzar que denotaremos con la letra 'C' (lo que es el cambio) y el algoritmo obtiene la cantidad total de monedas:"
      ]
    },
    {
      "cell_type": "code",
      "metadata": {
        "id": "v2cYsDWWlQzh",
        "colab_type": "code",
        "outputId": "163880ec-b4f2-4a39-ccf0-307a70c274d2",
        "colab": {
          "base_uri": "https://localhost:8080/",
          "height": 54
        }
      },
      "source": [
        "# =============================================================================\n",
        "# ALGORITMO VORAZ PARA LA DEVOLUCIÓN DEL CAMBIO\n",
        "# =============================================================================\n",
        "C = 123\n",
        "\n",
        "@calcular_tiempo\n",
        "def cambio_monedas(CANTIDAD, SISTEMA):\n",
        "#    list(np.zeros(len(SISTEMA),dtype=int))\n",
        "    SOLUCION = [0 for i in range(len(SISTEMA))]\n",
        "    \n",
        "    VALOR_ACUMULADO = 0\n",
        "    \n",
        "    for i in range(len(SISTEMA)):\n",
        "        monedas = (CANTIDAD - VALOR_ACUMULADO)//SISTEMA[i]\n",
        "        SOLUCION[i] = monedas\n",
        "        VALOR_ACUMULADO = VALOR_ACUMULADO + monedas*SISTEMA[i]\n",
        "        \n",
        "        if VALOR_ACUMULADO == CANTIDAD:\n",
        "            return SOLUCION\n",
        "\n",
        "print(cambio_monedas(C, SISTEMA))"
      ],
      "execution_count": 0,
      "outputs": [
        {
          "output_type": "stream",
          "text": [
            "Tiempo transcurrido (segundos): 7.3909759521484375e-06\n",
            "[4, 2, 0, 3]\n"
          ],
          "name": "stdout"
        }
      ]
    },
    {
      "cell_type": "markdown",
      "metadata": {
        "id": "I-Nxdm1Coy3T",
        "colab_type": "text"
      },
      "source": [
        "# Bactracking (vuelta atrás) para el problema de las N-Reinas.\n",
        "\n",
        "El algoritmo deberá comprobar:\n",
        "\n",
        "- que no hay reinas en la misma fila (no hay  dos elementos iguales en la solución)\n",
        "\n",
        "- Que no hay reinas en la misma diagonal ($|i-j|=\\left|Xi-Xj\\right|$ para todos los $i, j$ de la SOLUCIÓN) "
      ]
    },
    {
      "cell_type": "markdown",
      "metadata": {
        "id": "JFYX5Pf3qOXE",
        "colab_type": "text"
      },
      "source": [
        "Ejemplo con 8 reinas:"
      ]
    },
    {
      "cell_type": "code",
      "metadata": {
        "id": "y2tXxDFRldaq",
        "colab_type": "code",
        "outputId": "8eabe3ff-e4f4-4c87-8562-c176d59ab442",
        "colab": {
          "base_uri": "https://localhost:8080/",
          "height": 90
        }
      },
      "source": [
        "N = 8  # nº de reinas\n",
        "\n",
        "def es_prometedora(SOLUCION, etapa):\n",
        "    #Comprueba que no hay  reinas en la misma fila (no hay dos elementos iguales en la solucion)\n",
        "    #Comprueba que no hay reinas en la misma diagonal (|i-j|=|Xi-Xj| para todos los i,j de la SOLUCION)\n",
        "    for i in range(etapa+1):\n",
        "        if SOLUCION.count(SOLUCION[i]) > 1:\n",
        "            return False\n",
        "        for j in range(i+1, etapa+1):\n",
        "            if abs(i-j) == abs(SOLUCION[i]-SOLUCION[j]):\n",
        "                return False\n",
        "    return True\n",
        "\n",
        "\n",
        "def reinas(N, solucion=[], etapa=0):\n",
        "    if len(solucion) == 0:\n",
        "        solucion = [0 for i in range(N)]\n",
        "    \n",
        "    for i in range(1, N+1):\n",
        "        solucion[etapa] = i\n",
        "        \n",
        "        if es_prometedora(solucion, etapa):\n",
        "            if etapa == N-1:\n",
        "                print('La solución es', solucion)\n",
        "            else:\n",
        "                reinas(N, solucion, etapa+1)\n",
        "        else:\n",
        "            None\n",
        "        \n",
        "reinas(N)"
      ],
      "execution_count": 0,
      "outputs": [
        {
          "output_type": "stream",
          "text": [
            "La solución es [4, 7, 5, 2, 6, 1, 3, 8]\n",
            "La solución es [5, 7, 2, 6, 3, 1, 4, 8]\n",
            "La solución es [6, 3, 5, 7, 1, 4, 2, 8]\n",
            "La solución es [6, 4, 7, 1, 3, 5, 2, 8]\n"
          ],
          "name": "stdout"
        }
      ]
    },
    {
      "cell_type": "markdown",
      "metadata": {
        "id": "0Hoxek-8qV2v",
        "colab_type": "text"
      },
      "source": [
        "# Ejercicio encontrar los dos puntos más cercanos\n",
        "\n",
        "Se implementará una función que sirva para calcular los puntos de mínima distancia tanto en 1D, 2D y 3D:\n",
        "\n"
      ]
    },
    {
      "cell_type": "code",
      "metadata": {
        "id": "3wXeeDJGktS6",
        "colab_type": "code",
        "colab": {}
      },
      "source": [
        "def minima_distancia(A):\n",
        "    # =============================================================================\n",
        "    # 1. Restas de todos con todos\n",
        "    # =============================================================================\n",
        "    distancias = {}\n",
        "    for i in range (m):\n",
        "        for j in range (i+1,m):\n",
        "            if A[i]!=A[j]:\n",
        "                distancias[i,j] = np.linalg.norm(np.array(A[i])-np.array(A[j]))\n",
        "                \n",
        "    # =============================================================================\n",
        "    # 2. Buscar mínima distancia\n",
        "    # =============================================================================\n",
        "    min_value =  min(distancias.values())\n",
        "    min_keys = [k for k in distancias if distancias[k]==min_value]\n",
        "    \n",
        "    # =============================================================================\n",
        "    # 3. Agrupar el/los punto/s de mínima distancia en una lista y mostrar:        \n",
        "    # =============================================================================\n",
        "    print('\\nPuntos de mínima distancia:')\n",
        "    dot_ls=[]\n",
        "    for i in range(len(min_keys)):\n",
        "        dot1 = min(A[min_keys[i][0]],A[min_keys[i][1]])\n",
        "        dot2 = max(A[min_keys[i][0]],A[min_keys[i][1]])\n",
        "        dot_ls.append((dot1,dot2))\n",
        "    print(dot_ls)\n",
        "    print('con una distancia de {} unidades'.format(np.round(min_value,4)))"
      ],
      "execution_count": 0,
      "outputs": []
    },
    {
      "cell_type": "markdown",
      "metadata": {
        "id": "O6xI-yhKrC6G",
        "colab_type": "text"
      },
      "source": [
        "Se escriben los arrays en 1D, 2D y 3D, flexibles en cuanto a su composición: valor mínimo, valor máximo y tamaño:"
      ]
    },
    {
      "cell_type": "code",
      "metadata": {
        "id": "99qBOWYPqyBd",
        "colab_type": "code",
        "colab": {}
      },
      "source": [
        "# =============================================================================\n",
        "# CONSTANTES\n",
        "# =============================================================================\n",
        "n_min, n_max, size = 0, 255, 100\n",
        "\n",
        "A_1D = [random.randrange(n_min,n_max) for i in range(size)]\n",
        "A_2D = [(random.randrange(n_min,n_max), random.randrange(n_min,n_max)) for i in range(size)]\n",
        "A_3D = [(random.randrange(n_min,n_max), random.randrange(n_min,n_max), random.randrange(n_min,n_max)) for i in range(size)]"
      ],
      "execution_count": 0,
      "outputs": []
    },
    {
      "cell_type": "markdown",
      "metadata": {
        "id": "gbnTY_NurfNK",
        "colab_type": "text"
      },
      "source": [
        "Se trata de una combinatoria, así que el número de combinaciones posibles es:"
      ]
    },
    {
      "cell_type": "code",
      "metadata": {
        "id": "niPvGTPqrCMt",
        "colab_type": "code",
        "outputId": "0a38464a-158f-484d-ddd2-b292dbb523a7",
        "colab": {
          "base_uri": "https://localhost:8080/",
          "height": 35
        }
      },
      "source": [
        "m = size\n",
        "n = 2\n",
        "combinatoria = math.factorial(m) / (math.factorial(n)*math.factorial(m-n))\n",
        "print('Para un array de {} puntos, el número de combinaciones posibles para obtener la distancia entre todos los puntos es {}'.format(size,int(combinatoria)))"
      ],
      "execution_count": 0,
      "outputs": [
        {
          "output_type": "stream",
          "text": [
            "Para un array de 100 puntos, el número de combinaciones posibles para obtener la distancia entre todos los puntos es 4950\n"
          ],
          "name": "stdout"
        }
      ]
    },
    {
      "cell_type": "markdown",
      "metadata": {
        "id": "Bo1IQRnusw-Z",
        "colab_type": "text"
      },
      "source": [
        "Esta combinatoria no está teniendo en cuenta que en el propio array pueden existir valores repetidos. En nuestro algoritmo descartaremos calcular la distancia de dos  valores repetidos (pues no tiene sentido  calcular la  distancia entre un punto y él mismo). Dicho ésto, para arrays de gran tamaño con mayor probabilidad de valores repetidos, el número de combinaciones a realizar será probablemente menor que  el que nos ofrece el cálculo de combinatoria ejecutado anteriormente.\n",
        "\n",
        "Una forma de saber el número de combinaciones exactas sería eliminar del array los valores repetidos (si los hubiera) y luego ejecutar la fórmula de la combinatoria con el tamaño de nuestro nuevo array, pero ésto supone un coste computacional que no es necesario para el objetivo del ejercicio.\n",
        "\n",
        "El objetivo de mostrar la combinatoria no es imprescindible, sino que se trata de un cálculo añadido para que el usuario pueda hacerse a la idea del coste computacional."
      ]
    },
    {
      "cell_type": "code",
      "metadata": {
        "id": "GVGIKSp4so-9",
        "colab_type": "code",
        "outputId": "c288ff83-9322-45e0-f4ac-df8ee7a08f61",
        "colab": {
          "base_uri": "https://localhost:8080/",
          "height": 257
        }
      },
      "source": [
        "# =============================================================================\n",
        "# Ejecutamos función\n",
        "# =============================================================================\n",
        "minima_distancia(A_1D)\n",
        "minima_distancia(A_2D)\n",
        "minima_distancia(A_3D)"
      ],
      "execution_count": 0,
      "outputs": [
        {
          "output_type": "stream",
          "text": [
            "\n",
            "Puntos de mínima distancia:\n",
            "[(198, 199), (172, 173), (46, 47), (85, 86), (188, 189), (78, 79), (172, 173), (238, 239), (239, 240), (212, 213), (130, 131), (129, 130), (140, 141), (1, 2), (89, 90), (179, 180), (100, 101), (242, 243), (241, 242), (241, 242), (123, 124), (206, 207), (236, 237), (10, 11), (237, 238), (158, 159), (189, 190), (242, 243), (101, 102), (241, 242), (241, 242), (32, 33), (32, 33), (158, 159), (240, 241), (240, 241), (33, 34), (33, 34), (205, 206), (128, 129), (128, 129)]\n",
            "con una distancia de 1.0 unidades\n",
            "\n",
            "Puntos de mínima distancia:\n",
            "[((94, 211), (94, 213))]\n",
            "con una distancia de 2.0 unidades\n",
            "\n",
            "Puntos de mínima distancia:\n",
            "[((192, 214, 245), (192, 220, 244))]\n",
            "con una distancia de 6.0828 unidades\n"
          ],
          "name": "stdout"
        }
      ]
    }
  ]
}