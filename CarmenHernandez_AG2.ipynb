{
  "nbformat": 4,
  "nbformat_minor": 0,
  "metadata": {
    "colab": {
      "name": "CarmenHernandez-AG2.ipynb",
      "provenance": [],
      "include_colab_link": true
    },
    "kernelspec": {
      "name": "python3",
      "display_name": "Python 3"
    }
  },
  "cells": [
    {
      "cell_type": "markdown",
      "metadata": {
        "id": "view-in-github",
        "colab_type": "text"
      },
      "source": [
        "<a href=\"https://colab.research.google.com/github/carmen-herlo/03MAIR---Algoritmos-de-Optimizacion---2019/blob/master/CarmenHernandez_AG2.ipynb\" target=\"_parent\"><img src=\"https://colab.research.google.com/assets/colab-badge.svg\" alt=\"Open In Colab\"/></a>"
      ]
    },
    {
      "cell_type": "markdown",
      "metadata": {
        "id": "mHCGGh7NOMAB",
        "colab_type": "text"
      },
      "source": [
        "# Actividad Guiada 2 - AG2\n",
        "\n",
        "Carmen Hernández\n",
        "\n",
        "https://colab.research.google.com/drive/1VLuAswBfi9nU5vrlmYOpYe-w7mBO-e3Z\n",
        "\n",
        "https://github.com/carmen-herlo"
      ]
    },
    {
      "cell_type": "markdown",
      "metadata": {
        "id": "5nM6vkPfOycm",
        "colab_type": "text"
      },
      "source": [
        "# Problema viaje por el río. Programación dinámica."
      ]
    },
    {
      "cell_type": "code",
      "metadata": {
        "id": "L3lgR5n6OZeZ",
        "colab_type": "code",
        "colab": {}
      },
      "source": [
        "TARIFAS = [\n",
        "        [0,5,4,3,999,999,999],\n",
        "        [999,0,999,2,3,999,11],\n",
        "        [999,999,0,1,999,4,10],\n",
        "        [999,999,999,0,5,6,9],\n",
        "        [999,999,999,999,0,999,4],\n",
        "        [999,999,999,999,999,0,3],\n",
        "        [999,999,999,999,999,999,0]\n",
        "        ]"
      ],
      "execution_count": 0,
      "outputs": []
    },
    {
      "cell_type": "code",
      "metadata": {
        "id": "0eW5KXhvO8rU",
        "colab_type": "code",
        "colab": {}
      },
      "source": [
        "def precios(TARIFAS):\n",
        "    \n",
        "    N = len(TARIFAS)\n",
        "    \n",
        "    PRECIOS = [[9999]*N for i in [9999]*N]\n",
        "    RUTAS = [[\"\"]*N for i in [\"\"]*N]\n",
        "    \n",
        "    for i in range(N-1):\n",
        "        for j in range(i+1, N):\n",
        "            MIN = TARIFAS[i][j]\n",
        "            RUTAS[i][j] = i #del nodo i al j lo mejor es pasar por i\n",
        "            \n",
        "            for k in range(i,j):\n",
        "                if PRECIOS[i][k] + TARIFAS[k][j] < MIN:\n",
        "                    MIN = PRECIOS[i][k] + TARIFAS[k][j]\n",
        "                    RUTAS[i][j] = k\n",
        "            \n",
        "            PRECIOS[i][j] = MIN\n",
        "            \n",
        "    return PRECIOS, RUTAS\n",
        "\n",
        "precios, rutas = precios(TARIFAS)"
      ],
      "execution_count": 0,
      "outputs": []
    },
    {
      "cell_type": "code",
      "metadata": {
        "id": "lJhU6Wc-O_SJ",
        "colab_type": "code",
        "colab": {}
      },
      "source": [
        "def calcular_ruta(RUTAS, desde, hasta):\n",
        "    if desde == hasta:\n",
        "        return desde\n",
        "    else:\n",
        "        return str(calcular_ruta(RUTAS, desde, RUTAS[desde][hasta])) + ' - ' + str(RUTAS[desde][hasta])"
      ],
      "execution_count": 0,
      "outputs": []
    },
    {
      "cell_type": "code",
      "metadata": {
        "id": "znVkrznzPG8I",
        "colab_type": "code",
        "outputId": "d3f40a76-bc67-43c8-fecf-ad535f08c26b",
        "colab": {
          "base_uri": "https://localhost:8080/",
          "height": 34
        }
      },
      "source": [
        "print(calcular_ruta(rutas, 0, 6))"
      ],
      "execution_count": 0,
      "outputs": [
        {
          "output_type": "stream",
          "text": [
            "0 - 0 - 2 - 5\n"
          ],
          "name": "stdout"
        }
      ]
    },
    {
      "cell_type": "markdown",
      "metadata": {
        "id": "7ndtAswhRFe6",
        "colab_type": "text"
      },
      "source": [
        "# Problema asignación de tareas. Ramificación y poda."
      ]
    },
    {
      "cell_type": "code",
      "metadata": {
        "id": "ivC66ZtzRJyj",
        "colab_type": "code",
        "colab": {}
      },
      "source": [
        "costes  = [[11,12,18,40], # AGENTE 0\n",
        "           [14,15,13,22], # AGENTE 1\n",
        "           [11,17,19,23], # AGENTE 2\n",
        "           [17,14,20,28]] # AGENTE 3"
      ],
      "execution_count": 0,
      "outputs": []
    },
    {
      "cell_type": "code",
      "metadata": {
        "id": "udkbZRy5PA-c",
        "colab_type": "code",
        "colab": {}
      },
      "source": [
        "# retorna el coste de una determinada configuración. Ej. # valor((0,1,2,3), costes)\n",
        "def valor(s, costes):\n",
        "    valor = 0\n",
        "    for i in range(len(s)):\n",
        "        valor += costes[i][s[i]]\n",
        "        \n",
        "    return valor"
      ],
      "execution_count": 0,
      "outputs": []
    },
    {
      "cell_type": "code",
      "metadata": {
        "id": "PT1Ae5FSUXwY",
        "colab_type": "code",
        "colab": {}
      },
      "source": [
        "import itertools"
      ],
      "execution_count": 0,
      "outputs": []
    },
    {
      "cell_type": "code",
      "metadata": {
        "id": "4fGrkjcMO3ln",
        "colab_type": "code",
        "outputId": "6f162582-ed2b-4fd7-8304-b3930a720e46",
        "colab": {
          "base_uri": "https://localhost:8080/",
          "height": 51
        }
      },
      "source": [
        "# mejor solución por fuerza bruta\n",
        "def fuerza_bruta(costes):\n",
        "    mejor_valor=10e10\n",
        "    mejor_solucion = ''\n",
        "    for s in list(itertools.permutations(range(len(costes)))):\n",
        "        valor_tmp = valor(s, costes)\n",
        "        if valor_tmp < mejor_valor:\n",
        "            mejor_solucion = s\n",
        "            mejor_valor = valor_tmp\n",
        "    \n",
        "    print('\\tNúmero de permutaciones: ',len(list(itertools.permutations(range(len(costes))))))\n",
        "    print('\\tLa mejor solución es :',mejor_solucion)\n",
        "    \n",
        "fuerza_bruta(costes)"
      ],
      "execution_count": 0,
      "outputs": [
        {
          "output_type": "stream",
          "text": [
            "\tNúmero de permutaciones:  24\n",
            "\tLa mejor solución es : (0, 2, 3, 1)\n"
          ],
          "name": "stdout"
        }
      ]
    },
    {
      "cell_type": "code",
      "metadata": {
        "id": "Bqb3OEUdUNKj",
        "colab_type": "code",
        "outputId": "1ff97c83-7e97-4e16-8c35-94d094d0ed8a",
        "colab": {
          "base_uri": "https://localhost:8080/",
          "height": 34
        }
      },
      "source": [
        "# =============================================================================\n",
        "# Ramificación y poda\n",
        "# =============================================================================\n",
        "\n",
        "# Coste  inferior para soluciones parciales\n",
        "# (1,3) se asigna la tarea 1 al agente 0 y la tarea 3 al agente 1\n",
        "\n",
        "def CI(s, costes):\n",
        "    valor = 0\n",
        "    # valores establecidos\n",
        "    for i in range (len(s)):\n",
        "        valor += costes[i][s[i]]\n",
        "    \n",
        "    # estimación\n",
        "    for i in range (len(costes)):\n",
        "        if i not in s:\n",
        "            valor += min( [costes[j][i] for j in  range (len(s), len(costes))] )\n",
        "    \n",
        "    return valor\n",
        "\n",
        "print(CI((1,2), costes))"
      ],
      "execution_count": 0,
      "outputs": [
        {
          "output_type": "stream",
          "text": [
            "59\n"
          ],
          "name": "stdout"
        }
      ]
    },
    {
      "cell_type": "code",
      "metadata": {
        "id": "RjZtVk2aUntC",
        "colab_type": "code",
        "outputId": "604e8bf0-937b-4548-fc8b-b9a14220c8c9",
        "colab": {
          "base_uri": "https://localhost:8080/",
          "height": 34
        }
      },
      "source": [
        "#(0,2) ->  (0,2,1),  (0,2,3)\n",
        "# {'s':(0,2), 'ci':34}\n",
        "def crear_hijos(nodo, N):\n",
        "    hijos = []\n",
        "    for i in range(N):\n",
        "        if i not in nodo:\n",
        "            hijos.append({'s':nodo+(i,)})\n",
        "            \n",
        "    return hijos\n",
        "\n",
        "print(crear_hijos((0,2),4))"
      ],
      "execution_count": 0,
      "outputs": [
        {
          "output_type": "stream",
          "text": [
            "[{'s': (0, 2, 1)}, {'s': (0, 2, 3)}]\n"
          ],
          "name": "stdout"
        }
      ]
    },
    {
      "cell_type": "code",
      "metadata": {
        "id": "4FOggkybUt_t",
        "colab_type": "code",
        "outputId": "cc69dea0-a550-4f0e-e903-35b1e237a012",
        "colab": {
          "base_uri": "https://localhost:8080/",
          "height": 51
        }
      },
      "source": [
        "def ramificacion_y_poda(costes):\n",
        "    dimension= len(costes)\n",
        "    #(0,1,2,3)\n",
        "    mejor_solucion = tuple(i for i in range(dimension))\n",
        "    \n",
        "    cotaSup = valor(mejor_solucion, costes)\n",
        "    \n",
        "    nodos=[]\n",
        "    nodos.append({'s':(),  'CI': CI((), costes)})\n",
        "    \n",
        "    iteracion=0\n",
        "    \n",
        "    while(len(nodos) > 0):\n",
        "        iteracion += 1\n",
        "        \n",
        "        nodo_prometedor = min(nodos, key=lambda x:x['CI'])\n",
        "        \n",
        "        # hijos\n",
        "        hijos = [ {'s':x['s'], 'CI':CI(x['s'], costes)} for x in crear_hijos(nodo_prometedor['s'], dimension)]\n",
        "        \n",
        "        nodo_final = [ x for x in hijos if len(x['s'])==dimension ]\n",
        "        if len(nodo_final) > 0:\n",
        "            if nodo_final[0]['CI']<cotaSup:\n",
        "                cotaSup = nodo_final[0]['CI']\n",
        "                mejor_solucion = nodo_final[0]\n",
        "            \n",
        "        # poda\n",
        "        hijos = [ x for x in hijos if x['CI']<cotaSup ]\n",
        "        \n",
        "        \n",
        "        # eliminamos el nodo  expandido\n",
        "        nodos =  [ x for x in nodos if x['s']!=nodo_prometedor['s'] ]\n",
        "        \n",
        "        # añadimos los hijos\n",
        "        nodos.extend(hijos)\n",
        "        \n",
        "    print('\\tnº iteraciones: ',iteracion)    \n",
        "    print('\\tLa mejor solución es:',mejor_solucion)\n",
        "        \n",
        "    \n",
        "ramificacion_y_poda(costes)"
      ],
      "execution_count": 0,
      "outputs": [
        {
          "output_type": "stream",
          "text": [
            "\tnº iteraciones:  93\n",
            "\tLa mejor solución es: {'s': (7, 0, 2, 1, 3, 6, 5, 8, 4), 'CI': 15}\n"
          ],
          "name": "stdout"
        }
      ]
    },
    {
      "cell_type": "markdown",
      "metadata": {
        "id": "_kpdgFxisrhg",
        "colab_type": "text"
      },
      "source": [
        "# Mejora\n",
        "\n",
        "\n",
        "Generamos matrices de valores aleatorios de mayores dimensiones y ejecutamos ambos algoritmos."
      ]
    },
    {
      "cell_type": "code",
      "metadata": {
        "id": "DrRss1HEU0cf",
        "colab_type": "code",
        "outputId": "df59acd3-f40c-4103-f279-62712bb2c9aa",
        "colab": {
          "base_uri": "https://localhost:8080/",
          "height": 782
        }
      },
      "source": [
        "import numpy as np\n",
        "\n",
        "valor_min=1 #Valor mínimo de las tareas\n",
        "valor_max=10 #valor máximo de las tareas\n",
        "N=[5,6,7,8,9] #lista de dimensiones\n",
        "for n in N:\n",
        "    costes=np.random.randint(valor_min, valor_max, size=(n,n))\n",
        "    print('Matriz de {}x{}'.format(n,n))\n",
        "    print('Fuerza Bruta:')\n",
        "    fuerza_bruta(costes)\n",
        "    print('Ramificación y poda:')\n",
        "    ramificacion_y_poda(costes)\n",
        "    print('\\n')"
      ],
      "execution_count": 0,
      "outputs": [
        {
          "output_type": "stream",
          "text": [
            "Matriz de 5x5\n",
            "Fuerza Bruta:\n",
            "\tNúmero de permutaciones:  120\n",
            "\tLa mejor solución es : (1, 2, 3, 0, 4)\n",
            "Ramificación y poda:\n",
            "\tnº iteraciones:  38\n",
            "\tLa mejor solución es: {'s': (3, 2, 0, 1, 4), 'CI': 15}\n",
            "\n",
            "\n",
            "Matriz de 6x6\n",
            "Fuerza Bruta:\n",
            "\tNúmero de permutaciones:  720\n",
            "\tLa mejor solución es : (2, 1, 4, 5, 3, 0)\n",
            "Ramificación y poda:\n",
            "\tnº iteraciones:  90\n",
            "\tLa mejor solución es: {'s': (3, 5, 4, 1, 2, 0), 'CI': 17}\n",
            "\n",
            "\n",
            "Matriz de 7x7\n",
            "Fuerza Bruta:\n",
            "\tNúmero de permutaciones:  5040\n",
            "\tLa mejor solución es : (1, 3, 4, 2, 0, 5, 6)\n",
            "Ramificación y poda:\n",
            "\tnº iteraciones:  86\n",
            "\tLa mejor solución es: {'s': (1, 3, 4, 2, 0, 5, 6), 'CI': 11}\n",
            "\n",
            "\n",
            "Matriz de 8x8\n",
            "Fuerza Bruta:\n",
            "\tNúmero de permutaciones:  40320\n",
            "\tLa mejor solución es : (4, 7, 3, 6, 0, 5, 1, 2)\n",
            "Ramificación y poda:\n",
            "\tnº iteraciones:  177\n",
            "\tLa mejor solución es: {'s': (4, 7, 3, 6, 0, 5, 1, 2), 'CI': 22}\n",
            "\n",
            "\n",
            "Matriz de 9x9\n",
            "Fuerza Bruta:\n",
            "\tNúmero de permutaciones:  362880\n",
            "\tLa mejor solución es : (7, 0, 8, 3, 2, 4, 1, 6, 5)\n",
            "Ramificación y poda:\n",
            "\tnº iteraciones:  808\n",
            "\tLa mejor solución es: {'s': (7, 1, 8, 3, 2, 4, 0, 6, 5), 'CI': 20}\n",
            "\n",
            "\n"
          ],
          "name": "stdout"
        }
      ]
    },
    {
      "cell_type": "markdown",
      "metadata": {
        "id": "jo4kP1FSs9Rr",
        "colab_type": "text"
      },
      "source": [
        "Podemos observar cómo al aumentar las dimensiones de la matriz el número de permutaciones crece mucho más rápido que el de iteraciones de ramificación y poda, por lo que, además de ser más lento, su crecimiento exponencial lo hace inviable para matrices de gran tamaño."
      ]
    }
  ]
}