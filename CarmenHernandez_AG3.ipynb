{
  "nbformat": 4,
  "nbformat_minor": 0,
  "metadata": {
    "colab": {
      "name": "CarmenHernandez-AG3.ipynb",
      "provenance": [],
      "include_colab_link": true
    },
    "kernelspec": {
      "name": "python3",
      "display_name": "Python 3"
    }
  },
  "cells": [
    {
      "cell_type": "markdown",
      "metadata": {
        "id": "view-in-github",
        "colab_type": "text"
      },
      "source": [
        "<a href=\"https://colab.research.google.com/github/carmen-herlo/03MAIR---Algoritmos-de-Optimizacion---2019/blob/master/CarmenHernandez_AG3.ipynb\" target=\"_parent\"><img src=\"https://colab.research.google.com/assets/colab-badge.svg\" alt=\"Open In Colab\"/></a>"
      ]
    },
    {
      "cell_type": "markdown",
      "metadata": {
        "id": "uWW9YIM2zg02",
        "colab_type": "text"
      },
      "source": [
        "# Actividad Guiada 3 - AG3\n",
        "\n",
        "Carmen Hernández\n",
        "\n",
        "https://colab.research.google.com/drive/1G-Y5Mihf5MB_rLgKHPlfiAf6CxLNqhAD\n",
        "\n",
        "https://github.com/carmen-herlo"
      ]
    },
    {
      "cell_type": "markdown",
      "metadata": {
        "id": "HkoClk9Mz2dD",
        "colab_type": "text"
      },
      "source": [
        "# Problema del agente Viajero - Búsqueda aleatoria"
      ]
    },
    {
      "cell_type": "code",
      "metadata": {
        "id": "CGG7aUSxz9BX",
        "colab_type": "code",
        "colab": {}
      },
      "source": [
        "#!pip install request"
      ],
      "execution_count": 0,
      "outputs": []
    },
    {
      "cell_type": "code",
      "metadata": {
        "id": "hYY53wA30IZp",
        "colab_type": "code",
        "outputId": "84095343-d055-4eda-d8a0-eb7a61d1122a",
        "colab": {
          "base_uri": "https://localhost:8080/",
          "height": 34
        }
      },
      "source": [
        "import urllib.request\n",
        "\n",
        "file = 'swiss42.tsp'\n",
        "\n",
        "urllib.request.urlretrieve('http://elib.zib.de/pub/mp-testdata/tsp/tsplib/tsp/swiss42.tsp', file)"
      ],
      "execution_count": 0,
      "outputs": [
        {
          "output_type": "execute_result",
          "data": {
            "text/plain": [
              "('swiss42.tsp', <http.client.HTTPMessage at 0x7f4dcec110b8>)"
            ]
          },
          "metadata": {
            "tags": []
          },
          "execution_count": 4
        }
      ]
    },
    {
      "cell_type": "code",
      "metadata": {
        "id": "9TalWzrrzpDC",
        "colab_type": "code",
        "colab": {}
      },
      "source": [
        "#!pip install tsplib95"
      ],
      "execution_count": 0,
      "outputs": []
    },
    {
      "cell_type": "code",
      "metadata": {
        "id": "mr_kwOHZ0aqw",
        "colab_type": "code",
        "colab": {}
      },
      "source": [
        "import tsplib95\n",
        "import random\n",
        "from math import e\n",
        "\n",
        "problem = tsplib95.load_problem(file)\n",
        "\n",
        "nodos = list(problem.get_nodes())"
      ],
      "execution_count": 0,
      "outputs": []
    },
    {
      "cell_type": "code",
      "metadata": {
        "id": "qXZfUT9u2GXd",
        "colab_type": "code",
        "colab": {}
      },
      "source": [
        "#Devuelve la distancia entre dos nodos\n",
        "def distancia(a, b, problem):\n",
        "    return problem.wfunc(a,b)\n",
        "\n",
        "#Se genera una solución aleatoria con comienzo en el nodo 0\n",
        "def crear_solucion(nodos):\n",
        "    solucion = [0]\n",
        "    for _ in range(len(nodos)-1):\n",
        "        solucion = solucion + [ random.choice( list(set(nodos)-set({0})-set(solucion)) )]\n",
        "    return solucion\n",
        "\n",
        "\n",
        "#Devuelve la distancia total de una trayectoria/solucion\n",
        "def distancia_total(solucion, problem):\n",
        "    distancia_ret = 0\n",
        "    for i in range(len(solucion)-1):\n",
        "        distancia_ret += distancia(solucion[i], solucion[i+1], problem)\n",
        "    return distancia_ret + distancia(solucion[len(solucion)-1], solucion[0], problem)"
      ],
      "execution_count": 0,
      "outputs": []
    },
    {
      "cell_type": "code",
      "metadata": {
        "id": "ykFasney0n7e",
        "colab_type": "code",
        "outputId": "7a41b9f9-13ff-4dc4-f287-778bd1febc36",
        "colab": {
          "base_uri": "https://localhost:8080/",
          "height": 51
        }
      },
      "source": [
        "# =============================================================================\n",
        "# BÚSQUEDA ALEATORIA\n",
        "# =============================================================================\n",
        "\n",
        "def busqueda_aleatoria(problem, N):\n",
        "    nodos = list(problem.get_nodes())\n",
        "    \n",
        "    mejor_solucion = []\n",
        "    mejor_distancia = 10e10\n",
        "    \n",
        "    for i in range(N):\n",
        "        solucion = crear_solucion(nodos)\n",
        "        distancia_solucion = distancia_total(solucion, problem)\n",
        "        \n",
        "        if distancia_solucion < mejor_distancia:\n",
        "            mejor_solucion = solucion\n",
        "            mejor_distancia = distancia_solucion\n",
        "            \n",
        "    print('Mejor distancia: ',mejor_distancia)\n",
        "    print('Mejor solución: ',mejor_solucion)\n",
        "    \n",
        "    return mejor_solucion\n",
        "\n",
        "mejor_solucion = busqueda_aleatoria(problem, 100)"
      ],
      "execution_count": 0,
      "outputs": [
        {
          "output_type": "stream",
          "text": [
            "Mejor distancia:  4042\n",
            "Mejor solución:  [0, 40, 9, 28, 31, 25, 7, 4, 41, 11, 26, 13, 10, 21, 23, 22, 39, 30, 24, 20, 36, 27, 33, 37, 16, 35, 15, 19, 18, 5, 34, 1, 2, 17, 14, 12, 38, 6, 3, 8, 32, 29]\n"
          ],
          "name": "stdout"
        }
      ]
    },
    {
      "cell_type": "markdown",
      "metadata": {
        "id": "_i-eEIWV13Nx",
        "colab_type": "text"
      },
      "source": [
        "# Problema del agente Viajero - Búsqueda local"
      ]
    },
    {
      "cell_type": "code",
      "metadata": {
        "id": "CVF3Rdoa0xus",
        "colab_type": "code",
        "colab": {}
      },
      "source": [
        "def generar_vecina(solucion, problem):\n",
        "    mejor_solucion = []\n",
        "    mejor_distancia = 10e10\n",
        "    for i in range(1, len(solucion)-1): #desde el segundo nodo hasta el penúltimo\n",
        "        for j in range(i+1, len(solucion)):\n",
        "            vecina = solucion[:i] + [solucion[j]] + solucion[i+1:j] + [solucion[i]] + solucion[j+1:] #intercambio de i por j\n",
        "            distancia_vecina = distancia_total(vecina, problem)\n",
        "            if distancia_vecina <= mejor_distancia:\n",
        "                mejor_solucion = vecina\n",
        "                mejor_distancia = distancia_vecina\n",
        "    return mejor_solucion"
      ],
      "execution_count": 0,
      "outputs": []
    },
    {
      "cell_type": "code",
      "metadata": {
        "id": "0VCGQJ7L0m0n",
        "colab_type": "code",
        "outputId": "130f04fe-04d3-48d1-a251-2f14336f9d9f",
        "colab": {
          "base_uri": "https://localhost:8080/",
          "height": 51
        }
      },
      "source": [
        "# =============================================================================\n",
        "# BÚSQUEDA LOCAL\n",
        "# =============================================================================\n",
        "\n",
        "def busqueda_local(problem, N):\n",
        "    mejor_solucion = []\n",
        "    mejor_distancia = 10e10\n",
        "    \n",
        "    nodos = list(problem.get_nodes())\n",
        "    \n",
        "    solucion_referencia = crear_solucion(nodos)\n",
        "    \n",
        "    for i in range (N):\n",
        "        vecina = generar_vecina(solucion_referencia, problem)\n",
        "        distancia_vecina = distancia_total(vecina, problem)\n",
        "        if distancia_vecina < mejor_distancia:\n",
        "            mejor_solucion = vecina\n",
        "            mejor_distancia = distancia_vecina\n",
        "            \n",
        "        solucion_referencia = mejor_solucion\n",
        "        \n",
        "    print('Mejor distancia: ',distancia_total(mejor_solucion, problem))\n",
        "    print('Mejor solución: ',mejor_solucion)\n",
        "    \n",
        "        \n",
        "    return mejor_solucion\n",
        "\n",
        "mejor_solucion = busqueda_local(problem, 100)"
      ],
      "execution_count": 0,
      "outputs": [
        {
          "output_type": "stream",
          "text": [
            "Mejor distancia:  1767\n",
            "Mejor solución:  [0, 31, 35, 36, 17, 37, 7, 1, 3, 27, 2, 4, 18, 12, 11, 25, 10, 34, 33, 20, 32, 30, 29, 38, 22, 39, 21, 24, 40, 41, 26, 5, 13, 19, 14, 16, 15, 6, 8, 23, 9, 28]\n"
          ],
          "name": "stdout"
        }
      ]
    },
    {
      "cell_type": "markdown",
      "metadata": {
        "id": "k3srm4rs3Bqu",
        "colab_type": "text"
      },
      "source": [
        "# Problema del agente Viajero - Recocido simulado"
      ]
    },
    {
      "cell_type": "code",
      "metadata": {
        "id": "E6YtnT6o3JoO",
        "colab_type": "code",
        "colab": {}
      },
      "source": [
        "def probabilidad(T, d):\n",
        "    r = random.random()\n",
        "    if r < e**(-1*d/T):\n",
        "#    if r >= e**(-1*(d/(T**.5*10**(-5)))):\n",
        "        return True\n",
        "    else:\n",
        "        return False\n",
        "\n",
        "def bajar_temperatura(T):\n",
        "    return T*0.999"
      ],
      "execution_count": 0,
      "outputs": []
    },
    {
      "cell_type": "code",
      "metadata": {
        "id": "6rAtJDHt3N6_",
        "colab_type": "code",
        "outputId": "cef395a7-5655-4db8-f9b2-d06b51dcf155",
        "colab": {
          "base_uri": "https://localhost:8080/",
          "height": 51
        }
      },
      "source": [
        "# =============================================================================\n",
        "# RECOCIDO SIMULADO\n",
        "# =============================================================================\n",
        "\n",
        "def recocido_simulado(problem, TEMPERATURA):\n",
        "    \n",
        "    solucion_referencia = crear_solucion(nodos)\n",
        "    \n",
        "    distancia_referencia = distancia_total(solucion_referencia, problem)\n",
        "    \n",
        "    mejor_solucion = []\n",
        "    mejor_distancia = 10e10\n",
        "    \n",
        "    while TEMPERATURA > 1: \n",
        "        vecina = generar_vecina(solucion_referencia, problem)\n",
        "        distancia_vecina = distancia_total(vecina, problem)\n",
        "        \n",
        "        if distancia_vecina < mejor_distancia:\n",
        "            mejor_solucion = vecina\n",
        "            mejor_distancia = distancia_vecina\n",
        "            \n",
        "        if distancia_vecina < distancia_referencia or probabilidad(TEMPERATURA, abs(distancia_referencia-distancia_vecina)):\n",
        "            solucion_referencia = vecina\n",
        "            distancia_referencia = distancia_vecina\n",
        "            \n",
        "        TEMPERATURA = bajar_temperatura(TEMPERATURA)\n",
        "        \n",
        "        print('Mejor distancia: ',mejor_distancia)\n",
        "        print('Mejor solución: ',mejor_solucion)\n",
        "        \n",
        "        return mejor_solucion\n",
        "        \n",
        "mejor_solucion = recocido_simulado(problem, 1000)"
      ],
      "execution_count": 0,
      "outputs": [
        {
          "output_type": "stream",
          "text": [
            "Mejor distancia:  4975\n",
            "Mejor solución:  [0, 20, 38, 23, 14, 4, 40, 32, 6, 2, 31, 29, 21, 36, 37, 12, 35, 18, 1, 22, 30, 7, 24, 39, 8, 27, 17, 3, 11, 34, 26, 15, 9, 33, 25, 16, 19, 13, 28, 10, 5, 41]\n"
          ],
          "name": "stdout"
        }
      ]
    },
    {
      "cell_type": "markdown",
      "metadata": {
        "id": "knFoONccuFKl",
        "colab_type": "text"
      },
      "source": [
        "# Problema del agente Viajero - Colonia de Hormigas"
      ]
    },
    {
      "cell_type": "code",
      "metadata": {
        "id": "7I6ZATLg2hWY",
        "colab_type": "code",
        "colab": {}
      },
      "source": [
        "# =============================================================================\n",
        "# FUNCIONES AUXILIARES\n",
        "# =============================================================================\n",
        "#Devuelve la distancia entre dos nodos\n",
        "def distancia(a, b, problem):\n",
        "    return problem.wfunc(a,b)\n",
        "\n",
        "\n",
        "#Devuelve la distancia total de una trayectoria/solucion\n",
        "def distancia_total(solucion, problem):\n",
        "    distancia_ret = 0\n",
        "    for i in range(len(solucion)-1):\n",
        "        distancia_ret += distancia(solucion[i], solucion[i+1], problem)\n",
        "    return distancia_ret + distancia(solucion[len(solucion)-1], solucion[0], problem)\n",
        "\n",
        "def Add_Nodo(problem, H, T):\n",
        "    #Mejora: Establecer una función de probabilidad para añadir\n",
        "    #un nuevo nodo dependiendo de los nodos más cercanos y de las feromonas depositadas\n",
        "    Nodos = list(problem.get_nodes())\n",
        "    return random.choice( list (set(range(1,len(Nodos))) - set(H)) )\n",
        "\n",
        "def Incrementa_Feromona(problem, T, H):\n",
        "    #Incrementa según la calidad de la solución. Añadir una cantidad inversamente \n",
        "    #proporcional a la distancia total\n",
        "    for i in range(len(H)-1):\n",
        "        T[H[i]][H[i+1]] += 1000/distancia_total(H, problem)\n",
        "    return T\n",
        "\n",
        "def Evaporar_Feromona(T, Nodos):\n",
        "    #Evapora 0.3 el valor de la feromona, sin que baje de 1\n",
        "    #Mejora: Podemos elegir diferentes funciones de evaporación dependiendo de la cantidad\n",
        "    #actual y de la suma total de feromonas depositadas...\n",
        "    T = [[ max(T[i][j] - 0.3, 1) for i in range(len(Nodos))] for j in range(len(Nodos))]\n",
        "    return T"
      ],
      "execution_count": 0,
      "outputs": []
    },
    {
      "cell_type": "code",
      "metadata": {
        "id": "QRmOWlBsuSS8",
        "colab_type": "code",
        "outputId": "b45cd1c2-82ac-4f63-a0c5-aa7f26ba1040",
        "colab": {
          "base_uri": "https://localhost:8080/",
          "height": 51
        }
      },
      "source": [
        "# =============================================================================\n",
        "# ESQUEMA BÁSICO - 1º ITERACIÓN\n",
        "# =============================================================================\n",
        "def hormigas(problem, N):\n",
        "    #problem = datos del problema\n",
        "    #N = Número de agentes (hormigas)\n",
        "    \n",
        "    #Nodos\n",
        "    Nodos = list(problem.get_nodes())\n",
        "    #Aristas\n",
        "    Aristas = list(problem.get_edges())\n",
        "    \n",
        "    #Inicializa las aristas con una cantidad inicial de feromonas:1\n",
        "    #Mejora: inicializar con valores diferentes dependiendo diferentes criterios\n",
        "    T = [[ 1 for _ in range(len(Nodos)) ] for _ in range(len(Nodos))]\n",
        "    \n",
        "    #Se generan los agentes(hormigas) que serán estructuras de caminos desde 0 \n",
        "    Hormiga = [[0] for _ in range(N)]\n",
        "    \n",
        "    #Recorre cada agente construyendo la solución\n",
        "    for h in range(N):\n",
        "        #Para cada agente se construye un camino\n",
        "        for i in range(len(Nodos)-1):\n",
        "            \n",
        "            #Elige el siguiente nodo\n",
        "            Nuevo_Nodo = Add_Nodo(problem, Hormiga[h], T)\n",
        "            Hormiga[h].append(Nuevo_Nodo)\n",
        "    \n",
        "        #Incremente feromonas en esa arista\n",
        "        T = Incrementa_Feromona(problem, T, Hormiga[h])\n",
        "        #print(\"Feromonas(1)\",T)\n",
        "        \n",
        "        #Evapora feromonas\n",
        "        T = Evaporar_Feromona(T, Nodos)\n",
        "        #print(\"Feromonas(2)\",T)\n",
        "        \n",
        "    #Seleccionamos el mejor agente\n",
        "    mejor_solucion = []\n",
        "    mejor_distancia = 10e100\n",
        "    for h in range(N):\n",
        "        distancia_actual = distancia_total(Hormiga[h], problem)\n",
        "        if distancia_actual < mejor_distancia:\n",
        "            mejor_solucion = Hormiga[h]\n",
        "            mejor_distancia = distancia_actual\n",
        "    \n",
        "    print('Mejor distancia: ',mejor_distancia)\n",
        "    print('Mejor solución: ',mejor_solucion)\n",
        "        \n",
        "    return mejor_solucion\n",
        "    \n",
        "    \n",
        "\n",
        "mejor_solucion = hormigas(problem,100)"
      ],
      "execution_count": 0,
      "outputs": [
        {
          "output_type": "stream",
          "text": [
            "Mejor distancia:  4021\n",
            "Mejor solución:  [0, 30, 13, 29, 1, 12, 33, 37, 17, 10, 6, 36, 16, 15, 31, 3, 20, 32, 11, 4, 22, 28, 40, 25, 8, 41, 9, 24, 21, 23, 26, 19, 7, 34, 14, 39, 38, 18, 27, 2, 35, 5]\n"
          ],
          "name": "stdout"
        }
      ]
    }
  ]
}