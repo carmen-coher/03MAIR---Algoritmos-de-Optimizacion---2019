{
  "nbformat": 4,
  "nbformat_minor": 0,
  "metadata": {
    "colab": {
      "name": "Seminario_Algoritmos.ipynb",
      "provenance": [],
      "collapsed_sections": [],
      "include_colab_link": true
    },
    "kernelspec": {
      "display_name": "Python 3",
      "language": "python",
      "name": "python3"
    },
    "language_info": {
      "codemirror_mode": {
        "name": "ipython",
        "version": 3
      },
      "file_extension": ".py",
      "mimetype": "text/x-python",
      "name": "python",
      "nbconvert_exporter": "python",
      "pygments_lexer": "ipython3",
      "version": "3.7.3"
    }
  },
  "cells": [
    {
      "cell_type": "markdown",
      "metadata": {
        "id": "view-in-github",
        "colab_type": "text"
      },
      "source": [
        "<a href=\"https://colab.research.google.com/github/carmen-herlo/03MAIR---Algoritmos-de-Optimizacion---2019/blob/master/Seminario_Algoritmos.ipynb\" target=\"_parent\"><img src=\"https://colab.research.google.com/assets/colab-badge.svg\" alt=\"Open In Colab\"/></a>"
      ]
    },
    {
      "cell_type": "markdown",
      "metadata": {
        "colab_type": "text",
        "id": "hVbXYX-RfPWh"
      },
      "source": [
        "# Algoritmos de optimización - Seminario<br>\n",
        "\n",
        "Nombre y Apellidos: Carmen Hernández López<br>\n",
        "Url: https://github.com/.../03MAIR---Algoritmos-de-Optimizacion---2019/tree/master/SEMINARIO<br>\n",
        "\n",
        "https://colab.research.google.com/drive/1a6ecqw1KtudwYUuIBXlcIoMih-4HMLLC#scrollTo=AiskKkzZfy4e\n",
        "\n",
        "\n",
        "Problema:\n",
        "> \n",
        "> Organizar los horarios de partidos de La Liga<br>\n",
        "        "
      ]
    },
    {
      "cell_type": "code",
      "metadata": {
        "colab_type": "code",
        "id": "AiskKkzZfy4e",
        "colab": {}
      },
      "source": [
        "Desde la  La Liga de fútbol profesional se pretende organizar los horarios de los partidos de liga de cada jornada. Se conocen algunos datos que nos deben llevar a diseñar un algoritmo que realice la asignación de los partidos a los horarios de forma que maximice la audiencia. \n",
        "\n",
        "Los horarios disponibles se conocen a priori y son los siguientes:\n",
        "<img src=\"horario.jpg\" width=\"200\">\n",
        "\n",
        "En primer lugar se clasifican los equipos en tres categorías según el numero de seguidores que tienen relación directa con la audiencia. Hay 4 equipos en la categoría A, 10 equipos de categoría B y 6 equipos de categoría C. \n",
        "\n",
        "Se conoce estadisticamente la audiencia que genera cada partido según los equipos que se enfrentan y en horario de sábado a las 20h (el mejor en todoslos casos).\n",
        "<img src=\"categorias.jpg\" width=\"400\">\n",
        " \n",
        "Si el horario del partido no se realiza a las 20 horas del sábado se sabe que se reduce según los coeficientes de la siguiente tabla.\n",
        "\n",
        "Debemos asignar obligatoriamente siempre un partido el viernes y un partido el lunes.\n",
        "<img src=\"ponderacion_por_horario.jpg\" width=\"500\">\n",
        "\n",
        "Es posible la coincidencia de horarios pero en este caso la audiencia de cada partido se verá afectada y se estima que se reduce en porcentaje según la siguiente tabla dependiendo del número de coincidencias:\n",
        "<img src=\"ponderacion_por_coincidencias.jpg\" width=\"200\">\n",
        "\n",
        "Los cálculos asociados a una jornada de ejemplo se realizan según se muestra en la siguiente tabla:\n",
        "<img src=\"ejemplo_jornada.jpg\" width=\"800\">\n",
        "                                "
      ],
      "execution_count": 0,
      "outputs": []
    },
    {
      "cell_type": "markdown",
      "metadata": {
        "colab_type": "text",
        "id": "3_-exlrTgLd-"
      },
      "source": [
        "(*)¿Cuantas posibilidades hay sin tener en cuenta las restricciones?<br>\n",
        "\n",
        "\n",
        "\n",
        "¿Cuantas posibilidades hay teniendo en cuenta todas las restricciones?\n",
        "\n",
        "\n"
      ]
    },
    {
      "cell_type": "markdown",
      "metadata": {
        "colab_type": "text",
        "id": "WfCUqJyKhPcw"
      },
      "source": [
        "Respuesta"
      ]
    },
    {
      "cell_type": "code",
      "metadata": {
        "colab_type": "code",
        "id": "iq6Fe32MgpDX",
        "colab": {}
      },
      "source": [
        "***Posibilidades sin tener en cuenta las restricciones:***\n",
        "\n",
        "¿De cuántas maneras se pueden repartir en 10 franjas horarias los 10 partidos de una jornada?\n",
        "\n",
        "Se trata de Variaciones con repetición, en la que los elementos n son los horarios y las agrupaciones de r en r se refieren al número de partidos de la jornada:\n",
        "$VR_n^r ={10}^{10}=10 000 000 000$ o lo que es lo mismo, 10 mil millones de posibilidades.\n",
        "\n",
        "\n",
        "***Posibilidades teniendo en cuenta las restricciones:***\n",
        "\n",
        "La restricción dice: \"Debemos asignar obligatoriamente siempre un partido el viernes y un partido el lunes.\"\n",
        "\n",
        "Luego tendrá que haber uno o más partidos en las franjas horarias del Viernes y el Lunes.\n",
        "\n",
        "Partimos del dato de todas las variaciones posibles calculado anteriormente:\n",
        "\n",
        "$VR_n^r ={10}^{10}$ \n",
        "\n",
        "A todas estas variaciones tenemos que restarles las que incumplan la restricción. \n",
        "\n",
        "Primeramente, calculamos las variaciones de que no haya partido en la franja horaria de Lunes. Para ello usaremos las variaciones con repetición teniendo en cuenta que ahora el número de franjas horarias será 9 pero seguirá habiendo que coger elementos de 10 en 10 pues el número de partidos no cambia:\n",
        "\n",
        "$VR_n^r ={9}^{10}$\n",
        "\n",
        "Siguiendo el mismo razonamiento, las variaciones con repetición que incumplen la restricción de que no haya partido los Viernes es el valor calculado para la restricción del Lunes. \n",
        "\n",
        "Debido a que el número de variaciones para los que no hay partido el Lunes contiene combinaciones que tampoco tienen partido los Viernes y que esta situación es recíproca, se debe sumar las variaciones en los que no hay partidos ni en la franja horaria Lunes ni en la franja horaria Viernes. Como nos enuncia la teoría de conjuntos:\n",
        "\n",
        "conjunto A = {variaciones sin contar franja horaria Lunes}\n",
        "\n",
        "conjunto B = {variaciones sin contar franja horaria Viernes}\n",
        "\n",
        "Dado que A y B se interseccionan, $\\left|A\\cup B\\right| = \\left|A\\right| + \\left|B\\right| - \\left|A\\cap B\\right|$\n",
        "\n",
        "Para calcular las variaciones en las que no hay partido ni Lunes ni Viernes se toman los 8 horarios restantes que se toman para los 10 partidos de la jornada:\n",
        "\n",
        "$\\left|A\\cap B\\right| = VR_n^r ={8}^{10}$\n",
        "\n",
        "Por tanto, las variaciones con repetición teniendo en cuenta la restricción serían:\n",
        "\n",
        "$ VariacionesConRestriccion = VariacionesTotales - \\left|A\\cup B\\right| = VariacionesTotales - (\\left|A\\right| + \\left|B\\right| - \\left|A\\cap B\\right|) = {10}^{10} - {9}^{10} - {9}^{10} + {8}^{10} = 4100173022$ "
      ],
      "execution_count": 0,
      "outputs": []
    },
    {
      "cell_type": "markdown",
      "metadata": {
        "colab_type": "text",
        "id": "dzynfVJahHoY"
      },
      "source": [
        "Modelo para el espacio de soluciones<br>\n",
        "(*) ¿Cual es la estructura de datos que mejor se adapta al problema? Argumentalo.(Es posible que hayas elegido una al principio y veas la necesidad de cambiar, arguentalo)\n"
      ]
    },
    {
      "cell_type": "markdown",
      "metadata": {
        "colab_type": "text",
        "id": "xFIJrOwKi2Ti"
      },
      "source": [
        "Respuesta"
      ]
    },
    {
      "cell_type": "code",
      "metadata": {
        "colab_type": "code",
        "id": "38c-7-ejhJmA",
        "colab": {}
      },
      "source": [
        "Existen dos opciones:\n",
        "\n",
        "a) Algoritmos heurísticos: Introducir aleatoriedad en el problema para poder llegar a resulados óptimos. Búsqueda aleatoria, colonia de hormigas, algoritmos genéticos... Pueden ser constructivos secuencialmente o no. Influirá mucho la creatividad del ingeniero para la aproximación a la solución óptima.\n",
        "\n",
        "b) Algoritos de búsqueda en árboles -ramificación y poda-: Realizando exploraciones pero descartando ramas del árbol de soluciones porque se hagan evidentes que no conducirán a buenas soluciones."
      ],
      "execution_count": 0,
      "outputs": []
    },
    {
      "cell_type": "markdown",
      "metadata": {
        "colab_type": "text",
        "id": "7Z9U2W7bi-XS"
      },
      "source": [
        "Según el modelo para el espacio de soluciones<br>\n",
        "(*)¿Cual es la función objetivo?\n",
        "\n",
        "(*)¿Es un problema de maximización o minimización?"
      ]
    },
    {
      "cell_type": "markdown",
      "metadata": {
        "colab_type": "text",
        "id": "hBalWLM7j1_d"
      },
      "source": [
        "Respuesta"
      ]
    },
    {
      "cell_type": "code",
      "metadata": {
        "colab_type": "code",
        "id": "pDA-rg3Gj5Lz",
        "colab": {}
      },
      "source": [
        "Función objetivo:\n",
        "\n",
        "Se parte de un ejemplo de jornada, con sus equipos de categorías A-B-C, y su base en millones.\n",
        "\n",
        "Se introduce una solución de distribución de franjas horarias (de las variaciones con repetición), y una vez introducido se puede calcular la ponderación, la baseXponderación y la corrección.\n",
        "\n",
        "Se obtiene así las audiencias por partido.\n",
        "\n",
        "**El sumatorio de las audiencias por partido de cada solución (cada variación) es nuestra función objetivo a maximizar, dado que lo que se busca es la máxima audiencia.**"
      ],
      "execution_count": 0,
      "outputs": []
    },
    {
      "cell_type": "markdown",
      "metadata": {
        "colab_type": "text",
        "id": "rlnTYgY1j6I2"
      },
      "source": [
        "Diseña un algoritmo para resolver el problema por fuerza bruta"
      ]
    },
    {
      "cell_type": "markdown",
      "metadata": {
        "colab_type": "text",
        "id": "70rDgxYXkC8r"
      },
      "source": [
        "Respuesta"
      ]
    },
    {
      "cell_type": "markdown",
      "metadata": {
        "id": "GzZLh7OCvsuv",
        "colab_type": "text"
      },
      "source": [
        "A continuación se deja escrito el código que se emplearía por fuerza bruta:"
      ]
    },
    {
      "cell_type": "code",
      "metadata": {
        "id": "yBYrKXc0vsuv",
        "colab_type": "code",
        "colab": {}
      },
      "source": [
        "import pandas as pd\n",
        "import numpy as np\n",
        "import random\n",
        "from itertools import product\n",
        "import matplotlib.pyplot as plt\n",
        "import time\n",
        "import scipy.signal"
      ],
      "execution_count": 0,
      "outputs": []
    },
    {
      "cell_type": "code",
      "metadata": {
        "id": "NTSdKHpjvsux",
        "colab_type": "code",
        "colab": {}
      },
      "source": [
        "# =============================================================================\n",
        "# LISTAS DE DATOS\n",
        "# =============================================================================\n",
        "equipos = ['Alavés', 'Athletic', 'Atlético', 'Barcelona', 'Betis', 'Celta',\n",
        "           'Eibar', 'Espanyol', 'Getafe', 'Granada', 'Leganés', 'Levante',\n",
        "           'Mallorca', 'Osasuna', 'Real Madrid', 'Real Sociedad', 'Sevilla',\n",
        "           'Valencia', 'Valladolid', 'Villareal']\n",
        "\n",
        "categorias = ['A', 'B', 'C']\n",
        "\n",
        "horas = ['12', '16', '18', '20']\n",
        "\n",
        "horario = ['V20', 'S12', 'S16', 'S18', 'S20',\n",
        "            'D12', 'D16', 'D18', 'D20', 'L20']\n",
        "\n",
        "categorias_equipo_dic = {'Alavés': 'B',\n",
        "                         'Athletic': 'B',\n",
        "                         'Atlético': 'A',\n",
        "                         'Barcelona': 'A',\n",
        "                         'Betis': 'B',\n",
        "                         'Celta': 'B',\n",
        "                         'Eibar': 'C',\n",
        "                         'Espanyol': 'B',\n",
        "                         'Getafe': 'B',\n",
        "                         'Granada': 'C',\n",
        "                         'Leganés': 'C',\n",
        "                         'Levante': 'B',\n",
        "                         'Mallorca': 'C',\n",
        "                         'Osasuna': 'C',\n",
        "                         'Real Madrid': 'A',\n",
        "                         'Real Sociedad': 'A',\n",
        "                         'Sevilla': 'B',\n",
        "                         'Valencia': 'B',\n",
        "                         'Valladolid': 'C',\n",
        "                         'Villareal': 'B'\n",
        "                         }"
      ],
      "execution_count": 0,
      "outputs": []
    },
    {
      "cell_type": "code",
      "metadata": {
        "id": "a6m3w0rFvsuz",
        "colab_type": "code",
        "colab": {},
        "outputId": "a89868dc-8ecd-4b54-c6a9-94b16064c0c2"
      },
      "source": [
        "# =============================================================================\n",
        "# TABLA AUDIENCIAS\n",
        "# =============================================================================\n",
        "audiencia_dic = {'A': [2, 1.3, 1],\n",
        "                 'B': [1.3, 0.9, 0.75],\n",
        "                 'C': [1, 0.75, 0.47]\n",
        "                 }\n",
        "\n",
        "audiencia_df = pd.DataFrame(audiencia_dic, index=categorias)\n",
        "\n",
        "audiencia_df"
      ],
      "execution_count": 0,
      "outputs": [
        {
          "output_type": "execute_result",
          "data": {
            "text/html": [
              "<div>\n",
              "<style scoped>\n",
              "    .dataframe tbody tr th:only-of-type {\n",
              "        vertical-align: middle;\n",
              "    }\n",
              "\n",
              "    .dataframe tbody tr th {\n",
              "        vertical-align: top;\n",
              "    }\n",
              "\n",
              "    .dataframe thead th {\n",
              "        text-align: right;\n",
              "    }\n",
              "</style>\n",
              "<table border=\"1\" class=\"dataframe\">\n",
              "  <thead>\n",
              "    <tr style=\"text-align: right;\">\n",
              "      <th></th>\n",
              "      <th>A</th>\n",
              "      <th>B</th>\n",
              "      <th>C</th>\n",
              "    </tr>\n",
              "  </thead>\n",
              "  <tbody>\n",
              "    <tr>\n",
              "      <th>A</th>\n",
              "      <td>2.0</td>\n",
              "      <td>1.30</td>\n",
              "      <td>1.00</td>\n",
              "    </tr>\n",
              "    <tr>\n",
              "      <th>B</th>\n",
              "      <td>1.3</td>\n",
              "      <td>0.90</td>\n",
              "      <td>0.75</td>\n",
              "    </tr>\n",
              "    <tr>\n",
              "      <th>C</th>\n",
              "      <td>1.0</td>\n",
              "      <td>0.75</td>\n",
              "      <td>0.47</td>\n",
              "    </tr>\n",
              "  </tbody>\n",
              "</table>\n",
              "</div>"
            ],
            "text/plain": [
              "     A     B     C\n",
              "A  2.0  1.30  1.00\n",
              "B  1.3  0.90  0.75\n",
              "C  1.0  0.75  0.47"
            ]
          },
          "metadata": {
            "tags": []
          },
          "execution_count": 3
        }
      ]
    },
    {
      "cell_type": "code",
      "metadata": {
        "id": "rosGmQIRvsu1",
        "colab_type": "code",
        "colab": {},
        "outputId": "dbdd0246-8b1b-4502-8ca6-81594e313ba4"
      },
      "source": [
        "# =============================================================================\n",
        "# TABLA COEFICIENTE DE REDUCCIÓN\n",
        "# =============================================================================\n",
        "ponderacion_dic = {'V': [0, 0, 0, 0.4],\n",
        "                   'S': [0.55, 0.7, 0.8, 1],\n",
        "                   'D': [0.45, 0.75, 0.5, 1],\n",
        "                   'L': [0, 0, 0, 0.4]\n",
        "                   }\n",
        "\n",
        "ponderacion_df = pd.DataFrame(ponderacion_dic, index=horas)\n",
        "\n",
        "ponderacion_df"
      ],
      "execution_count": 0,
      "outputs": [
        {
          "output_type": "execute_result",
          "data": {
            "text/html": [
              "<div>\n",
              "<style scoped>\n",
              "    .dataframe tbody tr th:only-of-type {\n",
              "        vertical-align: middle;\n",
              "    }\n",
              "\n",
              "    .dataframe tbody tr th {\n",
              "        vertical-align: top;\n",
              "    }\n",
              "\n",
              "    .dataframe thead th {\n",
              "        text-align: right;\n",
              "    }\n",
              "</style>\n",
              "<table border=\"1\" class=\"dataframe\">\n",
              "  <thead>\n",
              "    <tr style=\"text-align: right;\">\n",
              "      <th></th>\n",
              "      <th>V</th>\n",
              "      <th>S</th>\n",
              "      <th>D</th>\n",
              "      <th>L</th>\n",
              "    </tr>\n",
              "  </thead>\n",
              "  <tbody>\n",
              "    <tr>\n",
              "      <th>12</th>\n",
              "      <td>0.0</td>\n",
              "      <td>0.55</td>\n",
              "      <td>0.45</td>\n",
              "      <td>0.0</td>\n",
              "    </tr>\n",
              "    <tr>\n",
              "      <th>16</th>\n",
              "      <td>0.0</td>\n",
              "      <td>0.70</td>\n",
              "      <td>0.75</td>\n",
              "      <td>0.0</td>\n",
              "    </tr>\n",
              "    <tr>\n",
              "      <th>18</th>\n",
              "      <td>0.0</td>\n",
              "      <td>0.80</td>\n",
              "      <td>0.50</td>\n",
              "      <td>0.0</td>\n",
              "    </tr>\n",
              "    <tr>\n",
              "      <th>20</th>\n",
              "      <td>0.4</td>\n",
              "      <td>1.00</td>\n",
              "      <td>1.00</td>\n",
              "      <td>0.4</td>\n",
              "    </tr>\n",
              "  </tbody>\n",
              "</table>\n",
              "</div>"
            ],
            "text/plain": [
              "      V     S     D    L\n",
              "12  0.0  0.55  0.45  0.0\n",
              "16  0.0  0.70  0.75  0.0\n",
              "18  0.0  0.80  0.50  0.0\n",
              "20  0.4  1.00  1.00  0.4"
            ]
          },
          "metadata": {
            "tags": []
          },
          "execution_count": 4
        }
      ]
    },
    {
      "cell_type": "code",
      "metadata": {
        "id": "HkMYA5a-vsu3",
        "colab_type": "code",
        "colab": {},
        "outputId": "1818bee3-6484-484d-9416-f3b3efea518a"
      },
      "source": [
        "# =============================================================================\n",
        "# TABLA COINCIDENCIAS\n",
        "# =============================================================================\n",
        "coincidencias_dic = {'% reducción': [0, 0.25, 0.45, 0.60, 0.70, 0.75, 0.78, 0.80, 0.80]}\n",
        "\n",
        "coincidencias_df = pd.DataFrame(coincidencias_dic, index=np.arange(len(coincidencias_dic['% reducción'])))\n",
        "\n",
        "coincidencias_df"
      ],
      "execution_count": 0,
      "outputs": [
        {
          "output_type": "execute_result",
          "data": {
            "text/html": [
              "<div>\n",
              "<style scoped>\n",
              "    .dataframe tbody tr th:only-of-type {\n",
              "        vertical-align: middle;\n",
              "    }\n",
              "\n",
              "    .dataframe tbody tr th {\n",
              "        vertical-align: top;\n",
              "    }\n",
              "\n",
              "    .dataframe thead th {\n",
              "        text-align: right;\n",
              "    }\n",
              "</style>\n",
              "<table border=\"1\" class=\"dataframe\">\n",
              "  <thead>\n",
              "    <tr style=\"text-align: right;\">\n",
              "      <th></th>\n",
              "      <th>% reducción</th>\n",
              "    </tr>\n",
              "  </thead>\n",
              "  <tbody>\n",
              "    <tr>\n",
              "      <th>0</th>\n",
              "      <td>0.00</td>\n",
              "    </tr>\n",
              "    <tr>\n",
              "      <th>1</th>\n",
              "      <td>0.25</td>\n",
              "    </tr>\n",
              "    <tr>\n",
              "      <th>2</th>\n",
              "      <td>0.45</td>\n",
              "    </tr>\n",
              "    <tr>\n",
              "      <th>3</th>\n",
              "      <td>0.60</td>\n",
              "    </tr>\n",
              "    <tr>\n",
              "      <th>4</th>\n",
              "      <td>0.70</td>\n",
              "    </tr>\n",
              "    <tr>\n",
              "      <th>5</th>\n",
              "      <td>0.75</td>\n",
              "    </tr>\n",
              "    <tr>\n",
              "      <th>6</th>\n",
              "      <td>0.78</td>\n",
              "    </tr>\n",
              "    <tr>\n",
              "      <th>7</th>\n",
              "      <td>0.80</td>\n",
              "    </tr>\n",
              "    <tr>\n",
              "      <th>8</th>\n",
              "      <td>0.80</td>\n",
              "    </tr>\n",
              "  </tbody>\n",
              "</table>\n",
              "</div>"
            ],
            "text/plain": [
              "   % reducción\n",
              "0         0.00\n",
              "1         0.25\n",
              "2         0.45\n",
              "3         0.60\n",
              "4         0.70\n",
              "5         0.75\n",
              "6         0.78\n",
              "7         0.80\n",
              "8         0.80"
            ]
          },
          "metadata": {
            "tags": []
          },
          "execution_count": 5
        }
      ]
    },
    {
      "cell_type": "code",
      "metadata": {
        "id": "f_hYayjpvsu5",
        "colab_type": "code",
        "colab": {},
        "outputId": "23e13297-498e-4f1a-e8d2-9995024416f9"
      },
      "source": [
        "# =============================================================================\n",
        "# GENERACIÓN DE UNA JORNADA ALEATORIA\n",
        "# =============================================================================\n",
        "equipos_rand = equipos.copy()\n",
        "random.shuffle(equipos_rand)\n",
        "\n",
        "jornada=[0 for k in range(len(equipos_rand)//2)]\n",
        "for i in range(len(equipos_rand)//2):\n",
        "    jornada[i]=(equipos_rand[i],equipos_rand[i+len(equipos_rand)//2])\n",
        "    \n",
        "local = equipos_rand[:(len(equipos_rand)//2)]\n",
        "visitante = equipos_rand[len(equipos_rand)//2:]\n",
        "\n",
        "jornada"
      ],
      "execution_count": 0,
      "outputs": [
        {
          "output_type": "execute_result",
          "data": {
            "text/plain": [
              "[('Betis', 'Granada'),\n",
              " ('Eibar', 'Valladolid'),\n",
              " ('Celta', 'Real Sociedad'),\n",
              " ('Leganés', 'Villareal'),\n",
              " ('Alavés', 'Sevilla'),\n",
              " ('Levante', 'Barcelona'),\n",
              " ('Getafe', 'Espanyol'),\n",
              " ('Mallorca', 'Valencia'),\n",
              " ('Atlético', 'Real Madrid'),\n",
              " ('Athletic', 'Osasuna')]"
            ]
          },
          "metadata": {
            "tags": []
          },
          "execution_count": 6
        }
      ]
    },
    {
      "cell_type": "code",
      "metadata": {
        "id": "fWZBu6mvvsu6",
        "colab_type": "code",
        "colab": {}
      },
      "source": [
        "# =============================================================================\n",
        "# FUNCIÓN DE CÁLCULO\n",
        "# =============================================================================\n",
        "def calculo_function():\n",
        "    cols = ['Local', 'Visitante', 'Categoría Local', 'Categoría Visitante', \n",
        "        'Horario', 'Base (Mill)', 'Ponderación', 'Base*Ponderación', 'Corrección']   \n",
        "\n",
        "    calculo_df = pd.DataFrame(index=np.arange(len(local)), columns=cols)\n",
        "    calculo_df.loc[:]['Local']=local\n",
        "    calculo_df.loc[:]['Visitante']=visitante\n",
        "    \n",
        "    for i, (m, n) in enumerate(zip(local, visitante)):\n",
        "        #Categoría\n",
        "        calculo_df.loc[i]['Categoría Local']=categorias_equipo_dic[m]\n",
        "        calculo_df.loc[i]['Categoría Visitante']=categorias_equipo_dic[n]\n",
        "        #Base\n",
        "        calculo_df.loc[i]['Base (Mill)'] = audiencia_df[categorias_equipo_dic[m]][categorias_equipo_dic[n]]\n",
        "        \n",
        "    return calculo_df\n",
        "    \n",
        "calculo_df = calculo_function()"
      ],
      "execution_count": 0,
      "outputs": []
    },
    {
      "cell_type": "code",
      "metadata": {
        "id": "r_3T28o-vsu8",
        "colab_type": "code",
        "colab": {},
        "outputId": "dd12ee3b-15b3-49d0-a352-2aaa6f2f9308"
      },
      "source": [
        "calculo_df"
      ],
      "execution_count": 0,
      "outputs": [
        {
          "output_type": "execute_result",
          "data": {
            "text/html": [
              "<div>\n",
              "<style scoped>\n",
              "    .dataframe tbody tr th:only-of-type {\n",
              "        vertical-align: middle;\n",
              "    }\n",
              "\n",
              "    .dataframe tbody tr th {\n",
              "        vertical-align: top;\n",
              "    }\n",
              "\n",
              "    .dataframe thead th {\n",
              "        text-align: right;\n",
              "    }\n",
              "</style>\n",
              "<table border=\"1\" class=\"dataframe\">\n",
              "  <thead>\n",
              "    <tr style=\"text-align: right;\">\n",
              "      <th></th>\n",
              "      <th>Local</th>\n",
              "      <th>Visitante</th>\n",
              "      <th>Categoría Local</th>\n",
              "      <th>Categoría Visitante</th>\n",
              "      <th>Horario</th>\n",
              "      <th>Base (Mill)</th>\n",
              "      <th>Ponderación</th>\n",
              "      <th>Base*Ponderación</th>\n",
              "      <th>Corrección</th>\n",
              "    </tr>\n",
              "  </thead>\n",
              "  <tbody>\n",
              "    <tr>\n",
              "      <th>0</th>\n",
              "      <td>Betis</td>\n",
              "      <td>Granada</td>\n",
              "      <td>B</td>\n",
              "      <td>C</td>\n",
              "      <td>NaN</td>\n",
              "      <td>0.75</td>\n",
              "      <td>NaN</td>\n",
              "      <td>NaN</td>\n",
              "      <td>NaN</td>\n",
              "    </tr>\n",
              "    <tr>\n",
              "      <th>1</th>\n",
              "      <td>Eibar</td>\n",
              "      <td>Valladolid</td>\n",
              "      <td>C</td>\n",
              "      <td>C</td>\n",
              "      <td>NaN</td>\n",
              "      <td>0.47</td>\n",
              "      <td>NaN</td>\n",
              "      <td>NaN</td>\n",
              "      <td>NaN</td>\n",
              "    </tr>\n",
              "    <tr>\n",
              "      <th>2</th>\n",
              "      <td>Celta</td>\n",
              "      <td>Real Sociedad</td>\n",
              "      <td>B</td>\n",
              "      <td>A</td>\n",
              "      <td>NaN</td>\n",
              "      <td>1.3</td>\n",
              "      <td>NaN</td>\n",
              "      <td>NaN</td>\n",
              "      <td>NaN</td>\n",
              "    </tr>\n",
              "    <tr>\n",
              "      <th>3</th>\n",
              "      <td>Leganés</td>\n",
              "      <td>Villareal</td>\n",
              "      <td>C</td>\n",
              "      <td>B</td>\n",
              "      <td>NaN</td>\n",
              "      <td>0.75</td>\n",
              "      <td>NaN</td>\n",
              "      <td>NaN</td>\n",
              "      <td>NaN</td>\n",
              "    </tr>\n",
              "    <tr>\n",
              "      <th>4</th>\n",
              "      <td>Alavés</td>\n",
              "      <td>Sevilla</td>\n",
              "      <td>B</td>\n",
              "      <td>B</td>\n",
              "      <td>NaN</td>\n",
              "      <td>0.9</td>\n",
              "      <td>NaN</td>\n",
              "      <td>NaN</td>\n",
              "      <td>NaN</td>\n",
              "    </tr>\n",
              "    <tr>\n",
              "      <th>5</th>\n",
              "      <td>Levante</td>\n",
              "      <td>Barcelona</td>\n",
              "      <td>B</td>\n",
              "      <td>A</td>\n",
              "      <td>NaN</td>\n",
              "      <td>1.3</td>\n",
              "      <td>NaN</td>\n",
              "      <td>NaN</td>\n",
              "      <td>NaN</td>\n",
              "    </tr>\n",
              "    <tr>\n",
              "      <th>6</th>\n",
              "      <td>Getafe</td>\n",
              "      <td>Espanyol</td>\n",
              "      <td>B</td>\n",
              "      <td>B</td>\n",
              "      <td>NaN</td>\n",
              "      <td>0.9</td>\n",
              "      <td>NaN</td>\n",
              "      <td>NaN</td>\n",
              "      <td>NaN</td>\n",
              "    </tr>\n",
              "    <tr>\n",
              "      <th>7</th>\n",
              "      <td>Mallorca</td>\n",
              "      <td>Valencia</td>\n",
              "      <td>C</td>\n",
              "      <td>B</td>\n",
              "      <td>NaN</td>\n",
              "      <td>0.75</td>\n",
              "      <td>NaN</td>\n",
              "      <td>NaN</td>\n",
              "      <td>NaN</td>\n",
              "    </tr>\n",
              "    <tr>\n",
              "      <th>8</th>\n",
              "      <td>Atlético</td>\n",
              "      <td>Real Madrid</td>\n",
              "      <td>A</td>\n",
              "      <td>A</td>\n",
              "      <td>NaN</td>\n",
              "      <td>2</td>\n",
              "      <td>NaN</td>\n",
              "      <td>NaN</td>\n",
              "      <td>NaN</td>\n",
              "    </tr>\n",
              "    <tr>\n",
              "      <th>9</th>\n",
              "      <td>Athletic</td>\n",
              "      <td>Osasuna</td>\n",
              "      <td>B</td>\n",
              "      <td>C</td>\n",
              "      <td>NaN</td>\n",
              "      <td>0.75</td>\n",
              "      <td>NaN</td>\n",
              "      <td>NaN</td>\n",
              "      <td>NaN</td>\n",
              "    </tr>\n",
              "  </tbody>\n",
              "</table>\n",
              "</div>"
            ],
            "text/plain": [
              "      Local      Visitante Categoría Local Categoría Visitante Horario  \\\n",
              "0     Betis        Granada               B                   C     NaN   \n",
              "1     Eibar     Valladolid               C                   C     NaN   \n",
              "2     Celta  Real Sociedad               B                   A     NaN   \n",
              "3   Leganés      Villareal               C                   B     NaN   \n",
              "4    Alavés        Sevilla               B                   B     NaN   \n",
              "5   Levante      Barcelona               B                   A     NaN   \n",
              "6    Getafe       Espanyol               B                   B     NaN   \n",
              "7  Mallorca       Valencia               C                   B     NaN   \n",
              "8  Atlético    Real Madrid               A                   A     NaN   \n",
              "9  Athletic        Osasuna               B                   C     NaN   \n",
              "\n",
              "  Base (Mill) Ponderación Base*Ponderación Corrección  \n",
              "0        0.75         NaN              NaN        NaN  \n",
              "1        0.47         NaN              NaN        NaN  \n",
              "2         1.3         NaN              NaN        NaN  \n",
              "3        0.75         NaN              NaN        NaN  \n",
              "4         0.9         NaN              NaN        NaN  \n",
              "5         1.3         NaN              NaN        NaN  \n",
              "6         0.9         NaN              NaN        NaN  \n",
              "7        0.75         NaN              NaN        NaN  \n",
              "8           2         NaN              NaN        NaN  \n",
              "9        0.75         NaN              NaN        NaN  "
            ]
          },
          "metadata": {
            "tags": []
          },
          "execution_count": 8
        }
      ]
    },
    {
      "cell_type": "markdown",
      "metadata": {
        "id": "E4YD-qVhvsu-",
        "colab_type": "text"
      },
      "source": [
        "El código para calcular todas las variaciones sería el siguiente:"
      ]
    },
    {
      "cell_type": "code",
      "metadata": {
        "id": "PpMfzvgEvsu-",
        "colab_type": "code",
        "colab": {}
      },
      "source": [
        "# =============================================================================\n",
        "# VARIACIONES\n",
        "# =============================================================================\n",
        "\n",
        "#from itertools import product\n",
        "#variaciones =list(product(horario, repeat=len(horario)))"
      ],
      "execution_count": 0,
      "outputs": []
    },
    {
      "cell_type": "markdown",
      "metadata": {
        "id": "4A1RXT_AvsvA",
        "colab_type": "text"
      },
      "source": [
        "Que no ejecutamos por raciones evidentes, pues nos daría un error de memoria.\n",
        "\n",
        "Sin embargo, si podemos calcular el número total de variaciones:"
      ]
    },
    {
      "cell_type": "code",
      "metadata": {
        "id": "jRJxhtqWvsvA",
        "colab_type": "code",
        "colab": {},
        "outputId": "238a9f0d-7873-40f0-8754-5f2df8f3b747"
      },
      "source": [
        "n_variaciones = len(jornada)**len(horario)\n",
        "print('El número de variaciones es {} millones.'.format(int(n_variaciones/10e6)))"
      ],
      "execution_count": 0,
      "outputs": [
        {
          "output_type": "stream",
          "text": [
            "El número de variaciones es 1000 millones.\n"
          ],
          "name": "stdout"
        }
      ]
    },
    {
      "cell_type": "code",
      "metadata": {
        "colab_type": "code",
        "id": "CJb5sQ0qkENy",
        "colab": {}
      },
      "source": [
        "# =============================================================================\n",
        "# FUERZA BRUTA - cálculo de horario para máxima audiencia\n",
        "# =============================================================================\n",
        "def max_audiencia_fuerza_bruta(variaciones):\n",
        "    audiencia = 0    \n",
        "    for n in variaciones:\n",
        "\n",
        "        horario_temp = n\n",
        "\n",
        "        calculo_df.loc[:]['Horario'] = horario_temp\n",
        "\n",
        "        #PONDERACIÓN\n",
        "        for i, n in enumerate(calculo_df[:]['Horario']):\n",
        "            #Ponderación\n",
        "            calculo_df.loc[i]['Ponderación'] = ponderacion_df.loc[n[1:]][n[:1]]\n",
        "            #Base*Ponderación\n",
        "            calculo_df.loc[i]['Base*Ponderación'] = calculo_df.loc[i]['Base (Mill)']*calculo_df.loc[i]['Ponderación']\n",
        "            #Corrección\n",
        "            coincidencias = len(calculo_df.loc[calculo_df[:]['Horario']==n])-1\n",
        "            reduccion = 1 - coincidencias_df.loc[coincidencias]['% reducción']\n",
        "            calculo_df.loc[i]['Corrección'] = calculo_df.loc[i]['Base*Ponderación']*reduccion\n",
        "\n",
        "        audiencia_temp = calculo_df.loc[:]['Corrección'].sum()\n",
        "\n",
        "        if audiencia_temp>audiencia:\n",
        "            audiencia = audiencia_temp\n",
        "            horario = horario_temp \n",
        "\n",
        "        return horario, audiencia\n"
      ],
      "execution_count": 0,
      "outputs": []
    },
    {
      "cell_type": "markdown",
      "metadata": {
        "id": "ezCHtCmcvsvE",
        "colab_type": "text"
      },
      "source": [
        "Como no podemos calcular por fuerza bruta, se va a generar tres horarios aleatorios y comprobar por fuerza bruta cuál tiene máxima audiencia.\n",
        "\n",
        "Se recuerda que una de las restricciones es que SIEMPRE debe haber un partido en Viernes a las 20:00 ('V20') y Lunes a las 20:00 ('L20')."
      ]
    },
    {
      "cell_type": "code",
      "metadata": {
        "id": "dUVE-NNQvsvE",
        "colab_type": "code",
        "colab": {},
        "outputId": "d9fba0af-08b0-45c6-aed5-96211a5bcd3b"
      },
      "source": [
        "horario_variable = horario[1:-1]\n",
        "horario_fijo = [horario[0],horario[-1]]\n",
        "horario_rand = []\n",
        "N=3\n",
        "for n in range(N):\n",
        "    var1 = np.random.choice(horario_variable, size=len(horario_variable))\n",
        "    var1 = np.append(var1, horario_fijo)\n",
        "    var_extend = np.random.choice(var1, len(var1), replace=False)\n",
        "    horario_rand.append(var_extend)\n",
        "    print('Horario random: {}'.format(var_extend))"
      ],
      "execution_count": 0,
      "outputs": [
        {
          "output_type": "stream",
          "text": [
            "Horario random: ['L20' 'S16' 'S16' 'S16' 'S20' 'D12' 'D20' 'D12' 'V20' 'D16']\n",
            "Horario random: ['D16' 'S12' 'V20' 'S20' 'S18' 'S20' 'D12' 'S18' 'L20' 'D18']\n",
            "Horario random: ['S12' 'S18' 'S16' 'V20' 'D20' 'D20' 'D20' 'S20' 'L20' 'D12']\n"
          ],
          "name": "stdout"
        }
      ]
    },
    {
      "cell_type": "markdown",
      "metadata": {
        "id": "85hCrenIvsvG",
        "colab_type": "text"
      },
      "source": [
        "Calculamos la audiencia máxima de nuestras tres variaciones:"
      ]
    },
    {
      "cell_type": "code",
      "metadata": {
        "id": "6U8Iu4DJvsvH",
        "colab_type": "code",
        "colab": {},
        "outputId": "4d6d0509-b53e-4da4-ccf2-fbce91c181ce"
      },
      "source": [
        "mejor_solucion, mejor_audiencia = max_audiencia_fuerza_bruta(horario_rand)\n",
        "\n",
        "print('De los tres horarios, el que maximiza la audiencia es:\\n{}'.format(mejor_solucion))\n",
        "print('Con una audiencia de {} millones.'.format(round(mejor_audiencia,2)))"
      ],
      "execution_count": 0,
      "outputs": [
        {
          "output_type": "stream",
          "text": [
            "De los tres horarios, el que maximiza la audiencia es:\n",
            "['L20' 'S16' 'S16' 'S16' 'S20' 'D12' 'D20' 'D12' 'V20' 'D16']\n",
            "Con una audiencia de 5.12 millones.\n"
          ],
          "name": "stdout"
        }
      ]
    },
    {
      "cell_type": "markdown",
      "metadata": {
        "colab_type": "text",
        "id": "tgrnsC2nkFa8"
      },
      "source": [
        "Calcula la complejidad del algoritmo por fuerza bruta"
      ]
    },
    {
      "cell_type": "markdown",
      "metadata": {
        "colab_type": "text",
        "id": "9eUd3xwckP68"
      },
      "source": [
        "Respuesta"
      ]
    },
    {
      "cell_type": "code",
      "metadata": {
        "colab_type": "code",
        "id": "rvZWwL-ckRST",
        "colab": {}
      },
      "source": [
        "Complejidad cuadrática. Aunque existen complejidades a priori de mayor dificultad, el valor que multiplica a la complejidad es tan alto (número de iteraciones en el primer bucle es el número de variaciones) que lo hacen de un coste computacional inviable a través de fuerza bruta."
      ],
      "execution_count": 0,
      "outputs": []
    },
    {
      "cell_type": "markdown",
      "metadata": {
        "colab_type": "text",
        "id": "txbrmLmskReM"
      },
      "source": [
        "(*)Diseña un algoritmo que mejore la complejidad del algortimo por fuerza bruta. Argumenta porque crees que mejora el algoritmo por fuerza bruta"
      ]
    },
    {
      "cell_type": "markdown",
      "metadata": {
        "colab_type": "text",
        "id": "hLrVwt5QkZPD"
      },
      "source": [
        "Respuesta"
      ]
    },
    {
      "cell_type": "code",
      "metadata": {
        "colab_type": "code",
        "id": "m1eyM21Vkabg",
        "colab": {}
      },
      "source": [
        "Se va a emplear el método heurístico de búsqueda aleatoria.\n",
        "\n",
        "Se generarán N horarios aleatorios y se escogerá el de más audiencia. Se establecerá un compromiso entre el número de horarios a evaluar y el coste computacional, pues llega un punto en el que por muchos más horarios que se evaluen, no se obtienen muchos mejores resultados de audiencia y sin embargo estamos penalizando gravemente el coste temporal de computación.\n",
        "\n",
        "Se ha establecido N=100 horarios aleatorios."
      ],
      "execution_count": 0,
      "outputs": []
    },
    {
      "cell_type": "code",
      "metadata": {
        "id": "xFVFiWzrvsvS",
        "colab_type": "code",
        "colab": {}
      },
      "source": [
        "def audiencia(H):\n",
        "    calculo_df.loc[:]['Horario'] = H\n",
        "    for i, n in enumerate(calculo_df[:]['Horario']):\n",
        "        #Ponderación\n",
        "        calculo_df.loc[i]['Ponderación'] = ponderacion_df.loc[n[1:]][n[:1]]\n",
        "        #Base*Ponderación\n",
        "        calculo_df.loc[i]['Base*Ponderación'] = calculo_df.loc[i]['Base (Mill)']*calculo_df.loc[i]['Ponderación']\n",
        "        #Corrección\n",
        "        coincidencias = len(calculo_df.loc[calculo_df[:]['Horario']==n])-1\n",
        "        reduccion = 1 - coincidencias_df.loc[coincidencias]['% reducción']\n",
        "        calculo_df.loc[i]['Corrección'] = calculo_df.loc[i]['Base*Ponderación']*reduccion\n",
        "    \n",
        "    audiencia_por_partido = np.array(calculo_df.loc[:]['Corrección'], dtype=float)\n",
        "    \n",
        "    return audiencia_por_partido, calculo_df\n",
        "\n",
        "\n",
        "def busqueda_aleatoria(horario, N):\n",
        "    horario_variable = horario[1:-1]\n",
        "    horario_fijo = [horario[0],horario[-1]]\n",
        "    mejor_audiencia = 0\n",
        "    for i in range(N):    \n",
        "        #Elige nuevo horario\n",
        "        var1 = np.random.choice(horario_variable, size=len(horario_variable))\n",
        "        var1 = np.append(var1, horario_fijo)\n",
        "        nuevo_horario = np.random.choice(var1, len(var1), replace=False)\n",
        "        #Calculamos la audiencia\n",
        "        audiencia_jornada, calculo_df_jornada = audiencia(nuevo_horario)\n",
        "        audiencia_total_jornada = audiencia_jornada.sum()\n",
        "        #Seleccionamos mejor audiencia\n",
        "        if audiencia_total_jornada > mejor_audiencia:\n",
        "            mejor_solucion = nuevo_horario\n",
        "            mejor_audiencia = audiencia_total_jornada\n",
        "            \n",
        "    return mejor_solucion, mejor_audiencia"
      ],
      "execution_count": 0,
      "outputs": []
    },
    {
      "cell_type": "code",
      "metadata": {
        "id": "n9wj9Pm-vsvT",
        "colab_type": "code",
        "colab": {},
        "outputId": "744745a2-2012-4261-f57e-6d869ff42b8a"
      },
      "source": [
        "N=100\n",
        "\n",
        "mejor_solucion, mejor_audiencia = busqueda_aleatoria(horario,N)\n",
        "\n",
        "print('De los {} horarios, el que maximiza la audiencia es:\\n{}'.format(N,mejor_solucion))\n",
        "print('Con una audiencia de {} millones.'.format(round(mejor_audiencia,2)))"
      ],
      "execution_count": 0,
      "outputs": [
        {
          "output_type": "stream",
          "text": [
            "De los 100 horarios, el que maximiza la audiencia es:\n",
            "['V20' 'S18' 'L20' 'S16' 'S12' 'S20' 'D12' 'D20' 'D16' 'S18']\n",
            "Con una audiencia de 6.53 millones.\n"
          ],
          "name": "stdout"
        }
      ]
    },
    {
      "cell_type": "code",
      "metadata": {
        "id": "Mg1YPmiuvsvV",
        "colab_type": "code",
        "colab": {},
        "outputId": "26b16dd0-37d2-441f-c650-9ad7f6afd911"
      },
      "source": [
        "a, tabla = audiencia(mejor_solucion)\n",
        "tabla"
      ],
      "execution_count": 0,
      "outputs": [
        {
          "output_type": "execute_result",
          "data": {
            "text/html": [
              "<div>\n",
              "<style scoped>\n",
              "    .dataframe tbody tr th:only-of-type {\n",
              "        vertical-align: middle;\n",
              "    }\n",
              "\n",
              "    .dataframe tbody tr th {\n",
              "        vertical-align: top;\n",
              "    }\n",
              "\n",
              "    .dataframe thead th {\n",
              "        text-align: right;\n",
              "    }\n",
              "</style>\n",
              "<table border=\"1\" class=\"dataframe\">\n",
              "  <thead>\n",
              "    <tr style=\"text-align: right;\">\n",
              "      <th></th>\n",
              "      <th>Local</th>\n",
              "      <th>Visitante</th>\n",
              "      <th>Categoría Local</th>\n",
              "      <th>Categoría Visitante</th>\n",
              "      <th>Horario</th>\n",
              "      <th>Base (Mill)</th>\n",
              "      <th>Ponderación</th>\n",
              "      <th>Base*Ponderación</th>\n",
              "      <th>Corrección</th>\n",
              "    </tr>\n",
              "  </thead>\n",
              "  <tbody>\n",
              "    <tr>\n",
              "      <th>0</th>\n",
              "      <td>Betis</td>\n",
              "      <td>Granada</td>\n",
              "      <td>B</td>\n",
              "      <td>C</td>\n",
              "      <td>V20</td>\n",
              "      <td>0.75</td>\n",
              "      <td>0.4</td>\n",
              "      <td>0.3</td>\n",
              "      <td>0.3</td>\n",
              "    </tr>\n",
              "    <tr>\n",
              "      <th>1</th>\n",
              "      <td>Eibar</td>\n",
              "      <td>Valladolid</td>\n",
              "      <td>C</td>\n",
              "      <td>C</td>\n",
              "      <td>S18</td>\n",
              "      <td>0.47</td>\n",
              "      <td>0.8</td>\n",
              "      <td>0.376</td>\n",
              "      <td>0.282</td>\n",
              "    </tr>\n",
              "    <tr>\n",
              "      <th>2</th>\n",
              "      <td>Celta</td>\n",
              "      <td>Real Sociedad</td>\n",
              "      <td>B</td>\n",
              "      <td>A</td>\n",
              "      <td>L20</td>\n",
              "      <td>1.3</td>\n",
              "      <td>0.4</td>\n",
              "      <td>0.52</td>\n",
              "      <td>0.52</td>\n",
              "    </tr>\n",
              "    <tr>\n",
              "      <th>3</th>\n",
              "      <td>Leganés</td>\n",
              "      <td>Villareal</td>\n",
              "      <td>C</td>\n",
              "      <td>B</td>\n",
              "      <td>S16</td>\n",
              "      <td>0.75</td>\n",
              "      <td>0.7</td>\n",
              "      <td>0.525</td>\n",
              "      <td>0.525</td>\n",
              "    </tr>\n",
              "    <tr>\n",
              "      <th>4</th>\n",
              "      <td>Alavés</td>\n",
              "      <td>Sevilla</td>\n",
              "      <td>B</td>\n",
              "      <td>B</td>\n",
              "      <td>S12</td>\n",
              "      <td>0.9</td>\n",
              "      <td>0.55</td>\n",
              "      <td>0.495</td>\n",
              "      <td>0.495</td>\n",
              "    </tr>\n",
              "    <tr>\n",
              "      <th>5</th>\n",
              "      <td>Levante</td>\n",
              "      <td>Barcelona</td>\n",
              "      <td>B</td>\n",
              "      <td>A</td>\n",
              "      <td>S20</td>\n",
              "      <td>1.3</td>\n",
              "      <td>1</td>\n",
              "      <td>1.3</td>\n",
              "      <td>1.3</td>\n",
              "    </tr>\n",
              "    <tr>\n",
              "      <th>6</th>\n",
              "      <td>Getafe</td>\n",
              "      <td>Espanyol</td>\n",
              "      <td>B</td>\n",
              "      <td>B</td>\n",
              "      <td>D12</td>\n",
              "      <td>0.9</td>\n",
              "      <td>0.45</td>\n",
              "      <td>0.405</td>\n",
              "      <td>0.405</td>\n",
              "    </tr>\n",
              "    <tr>\n",
              "      <th>7</th>\n",
              "      <td>Mallorca</td>\n",
              "      <td>Valencia</td>\n",
              "      <td>C</td>\n",
              "      <td>B</td>\n",
              "      <td>D20</td>\n",
              "      <td>0.75</td>\n",
              "      <td>1</td>\n",
              "      <td>0.75</td>\n",
              "      <td>0.75</td>\n",
              "    </tr>\n",
              "    <tr>\n",
              "      <th>8</th>\n",
              "      <td>Atlético</td>\n",
              "      <td>Real Madrid</td>\n",
              "      <td>A</td>\n",
              "      <td>A</td>\n",
              "      <td>D16</td>\n",
              "      <td>2</td>\n",
              "      <td>0.75</td>\n",
              "      <td>1.5</td>\n",
              "      <td>1.5</td>\n",
              "    </tr>\n",
              "    <tr>\n",
              "      <th>9</th>\n",
              "      <td>Athletic</td>\n",
              "      <td>Osasuna</td>\n",
              "      <td>B</td>\n",
              "      <td>C</td>\n",
              "      <td>S18</td>\n",
              "      <td>0.75</td>\n",
              "      <td>0.8</td>\n",
              "      <td>0.6</td>\n",
              "      <td>0.45</td>\n",
              "    </tr>\n",
              "  </tbody>\n",
              "</table>\n",
              "</div>"
            ],
            "text/plain": [
              "      Local      Visitante Categoría Local Categoría Visitante Horario  \\\n",
              "0     Betis        Granada               B                   C     V20   \n",
              "1     Eibar     Valladolid               C                   C     S18   \n",
              "2     Celta  Real Sociedad               B                   A     L20   \n",
              "3   Leganés      Villareal               C                   B     S16   \n",
              "4    Alavés        Sevilla               B                   B     S12   \n",
              "5   Levante      Barcelona               B                   A     S20   \n",
              "6    Getafe       Espanyol               B                   B     D12   \n",
              "7  Mallorca       Valencia               C                   B     D20   \n",
              "8  Atlético    Real Madrid               A                   A     D16   \n",
              "9  Athletic        Osasuna               B                   C     S18   \n",
              "\n",
              "  Base (Mill) Ponderación Base*Ponderación Corrección  \n",
              "0        0.75         0.4              0.3        0.3  \n",
              "1        0.47         0.8            0.376      0.282  \n",
              "2         1.3         0.4             0.52       0.52  \n",
              "3        0.75         0.7            0.525      0.525  \n",
              "4         0.9        0.55            0.495      0.495  \n",
              "5         1.3           1              1.3        1.3  \n",
              "6         0.9        0.45            0.405      0.405  \n",
              "7        0.75           1             0.75       0.75  \n",
              "8           2        0.75              1.5        1.5  \n",
              "9        0.75         0.8              0.6       0.45  "
            ]
          },
          "metadata": {
            "tags": []
          },
          "execution_count": 23
        }
      ]
    },
    {
      "cell_type": "code",
      "metadata": {
        "id": "HF1h1sd5vsvW",
        "colab_type": "code",
        "colab": {},
        "outputId": "5eebd082-d4d3-4328-b46c-12716afea7e8"
      },
      "source": [
        "#Comprobamos:\n",
        "print('En la columna \\'Horario\\' tenemos los horarios finales.')\n",
        "print('En la columna \\'Correción\\' se encuentran las audiencias por partido, que si se suman dan {} millones.'.format(np.sum(tabla[:]['Corrección'])))"
      ],
      "execution_count": 0,
      "outputs": [
        {
          "output_type": "stream",
          "text": [
            "En la columna 'Horario' tenemos los horarios finales.\n",
            "En la columna 'Correción' se encuentran las audiencias por partido, que si se suman dan 6.527 millones.\n"
          ],
          "name": "stdout"
        }
      ]
    },
    {
      "cell_type": "markdown",
      "metadata": {
        "colab_type": "text",
        "id": "eGDB4K6uk1iN"
      },
      "source": [
        "(*)Calcula la complejidad del algoritmo "
      ]
    },
    {
      "cell_type": "markdown",
      "metadata": {
        "colab_type": "text",
        "id": "NhpTh_BPk1ms"
      },
      "source": [
        "Respuesta"
      ]
    },
    {
      "cell_type": "code",
      "metadata": {
        "colab_type": "code",
        "id": "nREzhkStlCq8",
        "colab": {}
      },
      "source": [
        "Se trata también de un algoritmo de complejidad cuadrática, pero en este problema el punto esencial no era reducir la complejidad sino buscar métodos alternativos a la fuerza bruta (que hemos visto que era, de cualquier manera con la tecnología de hoy por hoy, inviable)-. \n",
        "\n",
        "Se está reduciendo un algoritmo de 10 000 millones de variaciones a uno de 100. En este caso hemos escogido N=100, aunque podría haberse escogido otro valor. \n",
        "\n",
        "Como se ha explicado con anterioridad, el número de horarios y la maximización de la audiencia no tienen una relación lineal, y se ha establecido N=100 como un número óptimo de variaciones. Se ha probado con números más altos y no se consiguen mejores resultados en la audiencia y sin embargo el coste temporal de computación se había disparado. "
      ],
      "execution_count": 0,
      "outputs": []
    },
    {
      "cell_type": "markdown",
      "metadata": {
        "id": "aIe5F62lvsva",
        "colab_type": "text"
      },
      "source": [
        "***Mejora:*** Búsqueda aleatoria ponderada.\n",
        "\n",
        "Observemos los pesos que tienen los partidos en función del horario en el que se juegue. El valor de la siguiente tabla muestra la penalización de la audiencia según horario:"
      ]
    },
    {
      "cell_type": "code",
      "metadata": {
        "id": "WtPRkzEWvsva",
        "colab_type": "code",
        "colab": {},
        "outputId": "4357d95a-da8e-4ba0-937f-10b5e07f2052"
      },
      "source": [
        "ponderacion_df"
      ],
      "execution_count": 0,
      "outputs": [
        {
          "output_type": "execute_result",
          "data": {
            "text/html": [
              "<div>\n",
              "<style scoped>\n",
              "    .dataframe tbody tr th:only-of-type {\n",
              "        vertical-align: middle;\n",
              "    }\n",
              "\n",
              "    .dataframe tbody tr th {\n",
              "        vertical-align: top;\n",
              "    }\n",
              "\n",
              "    .dataframe thead th {\n",
              "        text-align: right;\n",
              "    }\n",
              "</style>\n",
              "<table border=\"1\" class=\"dataframe\">\n",
              "  <thead>\n",
              "    <tr style=\"text-align: right;\">\n",
              "      <th></th>\n",
              "      <th>V</th>\n",
              "      <th>S</th>\n",
              "      <th>D</th>\n",
              "      <th>L</th>\n",
              "    </tr>\n",
              "  </thead>\n",
              "  <tbody>\n",
              "    <tr>\n",
              "      <th>12</th>\n",
              "      <td>0.0</td>\n",
              "      <td>0.55</td>\n",
              "      <td>0.45</td>\n",
              "      <td>0.0</td>\n",
              "    </tr>\n",
              "    <tr>\n",
              "      <th>16</th>\n",
              "      <td>0.0</td>\n",
              "      <td>0.70</td>\n",
              "      <td>0.75</td>\n",
              "      <td>0.0</td>\n",
              "    </tr>\n",
              "    <tr>\n",
              "      <th>18</th>\n",
              "      <td>0.0</td>\n",
              "      <td>0.80</td>\n",
              "      <td>0.50</td>\n",
              "      <td>0.0</td>\n",
              "    </tr>\n",
              "    <tr>\n",
              "      <th>20</th>\n",
              "      <td>0.4</td>\n",
              "      <td>1.00</td>\n",
              "      <td>1.00</td>\n",
              "      <td>0.4</td>\n",
              "    </tr>\n",
              "  </tbody>\n",
              "</table>\n",
              "</div>"
            ],
            "text/plain": [
              "      V     S     D    L\n",
              "12  0.0  0.55  0.45  0.0\n",
              "16  0.0  0.70  0.75  0.0\n",
              "18  0.0  0.80  0.50  0.0\n",
              "20  0.4  1.00  1.00  0.4"
            ]
          },
          "metadata": {
            "tags": []
          },
          "execution_count": 29
        }
      ]
    },
    {
      "cell_type": "markdown",
      "metadata": {
        "id": "tjoZwRkUvsvc",
        "colab_type": "text"
      },
      "source": [
        "Se sabe que siempre debe haber partidos los Viernes y Lunes a las 20:00, así que dejaremos a éstos de un lado.\n",
        "\n",
        "El resto de horarios serán ponderados según la penalización. Ésto es, se establecerá que aquellos horarios que penalizan menos la audiencia tengan más probabilidad de aparecer que aquellos que la penalizan más."
      ]
    },
    {
      "cell_type": "code",
      "metadata": {
        "id": "ofxwSMyKvsvd",
        "colab_type": "code",
        "colab": {}
      },
      "source": [
        "pesos = [0.55, 0.7, 0.8, 1, 0.45, 0.75, 0.5, 1]\n",
        "pesos_norm = pesos/np.sum(pesos)\n",
        "\n",
        "\n",
        "def busqueda_aleatoria_ponderada(horario, N):\n",
        "    horario_variable = horario[1:-1]\n",
        "    horario_fijo = [horario[0],horario[-1]]\n",
        "    mejor_audiencia = 0\n",
        "    for i in range(N):    \n",
        "        #Elige nuevo horario\n",
        "        var1 = np.random.choice(horario_variable, size=len(horario_variable), p=pesos_norm)\n",
        "        var1 = np.append(var1, horario_fijo)\n",
        "        nuevo_horario = np.random.choice(var1, len(var1), replace=False)\n",
        "        #Calculamos la audiencia\n",
        "        audiencia_jornada, calculo_df_jornada = audiencia(nuevo_horario)\n",
        "        audiencia_total_jornada = audiencia_jornada.sum()\n",
        "        #Seleccionamos mejor audiencia\n",
        "        if audiencia_total_jornada > mejor_audiencia:\n",
        "            mejor_solucion = nuevo_horario\n",
        "            mejor_audiencia = audiencia_total_jornada\n",
        "            \n",
        "    return mejor_solucion, mejor_audiencia"
      ],
      "execution_count": 0,
      "outputs": []
    },
    {
      "cell_type": "code",
      "metadata": {
        "id": "nx9aDaXOvsve",
        "colab_type": "code",
        "colab": {},
        "outputId": "51448e7c-82df-4768-fdaa-5096bd0bd20a"
      },
      "source": [
        "N=100\n",
        "\n",
        "mejor_solucion, mejor_audiencia = busqueda_aleatoria_ponderada(horario,N)\n",
        "\n",
        "print('De los {} horarios, el que maximiza la audiencia es:\\n{}'.format(N,mejor_solucion))\n",
        "print('Con una audiencia de {} millones.'.format(round(mejor_audiencia,2)))"
      ],
      "execution_count": 0,
      "outputs": [
        {
          "output_type": "stream",
          "text": [
            "De los 100 horarios, el que maximiza la audiencia es:\n",
            "['S18' 'S18' 'D18' 'S16' 'L20' 'D16' 'V20' 'D20' 'S20' 'D16']\n",
            "Con una audiencia de 6.53 millones.\n"
          ],
          "name": "stdout"
        }
      ]
    },
    {
      "cell_type": "code",
      "metadata": {
        "id": "2YT4tqhhvsvg",
        "colab_type": "code",
        "colab": {},
        "outputId": "84fed009-697d-4de4-d7ce-b7710558374b"
      },
      "source": [
        "a, tabla = audiencia(mejor_solucion)\n",
        "tabla"
      ],
      "execution_count": 0,
      "outputs": [
        {
          "output_type": "execute_result",
          "data": {
            "text/html": [
              "<div>\n",
              "<style scoped>\n",
              "    .dataframe tbody tr th:only-of-type {\n",
              "        vertical-align: middle;\n",
              "    }\n",
              "\n",
              "    .dataframe tbody tr th {\n",
              "        vertical-align: top;\n",
              "    }\n",
              "\n",
              "    .dataframe thead th {\n",
              "        text-align: right;\n",
              "    }\n",
              "</style>\n",
              "<table border=\"1\" class=\"dataframe\">\n",
              "  <thead>\n",
              "    <tr style=\"text-align: right;\">\n",
              "      <th></th>\n",
              "      <th>Local</th>\n",
              "      <th>Visitante</th>\n",
              "      <th>Categoría Local</th>\n",
              "      <th>Categoría Visitante</th>\n",
              "      <th>Horario</th>\n",
              "      <th>Base (Mill)</th>\n",
              "      <th>Ponderación</th>\n",
              "      <th>Base*Ponderación</th>\n",
              "      <th>Corrección</th>\n",
              "    </tr>\n",
              "  </thead>\n",
              "  <tbody>\n",
              "    <tr>\n",
              "      <th>0</th>\n",
              "      <td>Betis</td>\n",
              "      <td>Granada</td>\n",
              "      <td>B</td>\n",
              "      <td>C</td>\n",
              "      <td>S18</td>\n",
              "      <td>0.75</td>\n",
              "      <td>0.8</td>\n",
              "      <td>0.6</td>\n",
              "      <td>0.45</td>\n",
              "    </tr>\n",
              "    <tr>\n",
              "      <th>1</th>\n",
              "      <td>Eibar</td>\n",
              "      <td>Valladolid</td>\n",
              "      <td>C</td>\n",
              "      <td>C</td>\n",
              "      <td>S18</td>\n",
              "      <td>0.47</td>\n",
              "      <td>0.8</td>\n",
              "      <td>0.376</td>\n",
              "      <td>0.282</td>\n",
              "    </tr>\n",
              "    <tr>\n",
              "      <th>2</th>\n",
              "      <td>Celta</td>\n",
              "      <td>Real Sociedad</td>\n",
              "      <td>B</td>\n",
              "      <td>A</td>\n",
              "      <td>D18</td>\n",
              "      <td>1.3</td>\n",
              "      <td>0.5</td>\n",
              "      <td>0.65</td>\n",
              "      <td>0.65</td>\n",
              "    </tr>\n",
              "    <tr>\n",
              "      <th>3</th>\n",
              "      <td>Leganés</td>\n",
              "      <td>Villareal</td>\n",
              "      <td>C</td>\n",
              "      <td>B</td>\n",
              "      <td>S16</td>\n",
              "      <td>0.75</td>\n",
              "      <td>0.7</td>\n",
              "      <td>0.525</td>\n",
              "      <td>0.525</td>\n",
              "    </tr>\n",
              "    <tr>\n",
              "      <th>4</th>\n",
              "      <td>Alavés</td>\n",
              "      <td>Sevilla</td>\n",
              "      <td>B</td>\n",
              "      <td>B</td>\n",
              "      <td>L20</td>\n",
              "      <td>0.9</td>\n",
              "      <td>0.4</td>\n",
              "      <td>0.36</td>\n",
              "      <td>0.36</td>\n",
              "    </tr>\n",
              "    <tr>\n",
              "      <th>5</th>\n",
              "      <td>Levante</td>\n",
              "      <td>Barcelona</td>\n",
              "      <td>B</td>\n",
              "      <td>A</td>\n",
              "      <td>D16</td>\n",
              "      <td>1.3</td>\n",
              "      <td>0.75</td>\n",
              "      <td>0.975</td>\n",
              "      <td>0.73125</td>\n",
              "    </tr>\n",
              "    <tr>\n",
              "      <th>6</th>\n",
              "      <td>Getafe</td>\n",
              "      <td>Espanyol</td>\n",
              "      <td>B</td>\n",
              "      <td>B</td>\n",
              "      <td>V20</td>\n",
              "      <td>0.9</td>\n",
              "      <td>0.4</td>\n",
              "      <td>0.36</td>\n",
              "      <td>0.36</td>\n",
              "    </tr>\n",
              "    <tr>\n",
              "      <th>7</th>\n",
              "      <td>Mallorca</td>\n",
              "      <td>Valencia</td>\n",
              "      <td>C</td>\n",
              "      <td>B</td>\n",
              "      <td>D20</td>\n",
              "      <td>0.75</td>\n",
              "      <td>1</td>\n",
              "      <td>0.75</td>\n",
              "      <td>0.75</td>\n",
              "    </tr>\n",
              "    <tr>\n",
              "      <th>8</th>\n",
              "      <td>Atlético</td>\n",
              "      <td>Real Madrid</td>\n",
              "      <td>A</td>\n",
              "      <td>A</td>\n",
              "      <td>S20</td>\n",
              "      <td>2</td>\n",
              "      <td>1</td>\n",
              "      <td>2</td>\n",
              "      <td>2</td>\n",
              "    </tr>\n",
              "    <tr>\n",
              "      <th>9</th>\n",
              "      <td>Athletic</td>\n",
              "      <td>Osasuna</td>\n",
              "      <td>B</td>\n",
              "      <td>C</td>\n",
              "      <td>D16</td>\n",
              "      <td>0.75</td>\n",
              "      <td>0.75</td>\n",
              "      <td>0.5625</td>\n",
              "      <td>0.421875</td>\n",
              "    </tr>\n",
              "  </tbody>\n",
              "</table>\n",
              "</div>"
            ],
            "text/plain": [
              "      Local      Visitante Categoría Local Categoría Visitante Horario  \\\n",
              "0     Betis        Granada               B                   C     S18   \n",
              "1     Eibar     Valladolid               C                   C     S18   \n",
              "2     Celta  Real Sociedad               B                   A     D18   \n",
              "3   Leganés      Villareal               C                   B     S16   \n",
              "4    Alavés        Sevilla               B                   B     L20   \n",
              "5   Levante      Barcelona               B                   A     D16   \n",
              "6    Getafe       Espanyol               B                   B     V20   \n",
              "7  Mallorca       Valencia               C                   B     D20   \n",
              "8  Atlético    Real Madrid               A                   A     S20   \n",
              "9  Athletic        Osasuna               B                   C     D16   \n",
              "\n",
              "  Base (Mill) Ponderación Base*Ponderación Corrección  \n",
              "0        0.75         0.8              0.6       0.45  \n",
              "1        0.47         0.8            0.376      0.282  \n",
              "2         1.3         0.5             0.65       0.65  \n",
              "3        0.75         0.7            0.525      0.525  \n",
              "4         0.9         0.4             0.36       0.36  \n",
              "5         1.3        0.75            0.975    0.73125  \n",
              "6         0.9         0.4             0.36       0.36  \n",
              "7        0.75           1             0.75       0.75  \n",
              "8           2           1                2          2  \n",
              "9        0.75        0.75           0.5625   0.421875  "
            ]
          },
          "metadata": {
            "tags": []
          },
          "execution_count": 36
        }
      ]
    },
    {
      "cell_type": "code",
      "metadata": {
        "id": "A2RwMvpivsvi",
        "colab_type": "code",
        "colab": {},
        "outputId": "c557e7c0-8c1b-42a4-ad5c-f38fcc11e377"
      },
      "source": [
        "#Comprobamos:\n",
        "print('En la columna \\'Horario\\' tenemos los horarios finales.')\n",
        "print('En la columna \\'Correción\\' se encuentran las audiencias por partido, que si se suman dan {} millones.'.format(np.sum(tabla[:]['Corrección'])))"
      ],
      "execution_count": 0,
      "outputs": [
        {
          "output_type": "stream",
          "text": [
            "En la columna 'Horario' tenemos los horarios finales.\n",
            "En la columna 'Correción' se encuentran las audiencias por partido, que si se suman dan 6.530125 millones.\n"
          ],
          "name": "stdout"
        }
      ]
    },
    {
      "cell_type": "markdown",
      "metadata": {
        "id": "ZbJEHeG4vsvk",
        "colab_type": "text"
      },
      "source": [
        "***Mejora:*** Búsqueda aleatoria sesgada.\n",
        "\n",
        "Se sabe que cuantos más partidos se hagan dentro de una misma franja horaria, habrá más penalización en la audiencia (las audiencias se reparten). \n",
        "\n",
        "Por tanto, vamos a generar unas soluciones aleatorias en las que no se repitan partidos dentro de una misma franja. Un horario con la máxima audiencia total no tiene por qué tener éste reparto, pero sí tiene más probabilidades."
      ]
    },
    {
      "cell_type": "code",
      "metadata": {
        "id": "SkLSiPOJvsvk",
        "colab_type": "code",
        "colab": {}
      },
      "source": [
        "# =============================================================================\n",
        "# BÚSQUEDA ALEATORIA SESGADA\n",
        "# =============================================================================\n",
        "def busqueda_aleatoria_sesgada(horario, N):\n",
        "    mejor_audiencia = 0\n",
        "    for i in range(N):    \n",
        "        #Elige nuevo horario\n",
        "        nuevo_horario = np.random.choice(horario, len(horario), replace=False)\n",
        "        #Calculamos la audiencia\n",
        "        audiencia_jornada, calculo_df_jornada = audiencia(nuevo_horario)\n",
        "        audiencia_total_jornada = audiencia_jornada.sum()\n",
        "        #Seleccionamos mejor audiencia\n",
        "        if audiencia_total_jornada > mejor_audiencia:\n",
        "            mejor_solucion = nuevo_horario\n",
        "            mejor_audiencia = audiencia_total_jornada\n",
        "            \n",
        "    return mejor_solucion, mejor_audiencia"
      ],
      "execution_count": 0,
      "outputs": []
    },
    {
      "cell_type": "code",
      "metadata": {
        "id": "f8rVBPDuvsvl",
        "colab_type": "code",
        "colab": {},
        "outputId": "d8a78c3f-63fc-4a2f-b0f7-f41cfd0ab9d5"
      },
      "source": [
        "N=100\n",
        "\n",
        "mejor_solucion, mejor_audiencia = busqueda_aleatoria_sesgada(horario,N)\n",
        "\n",
        "print('\\nBÚSQUEDA ALEATORIA SESGADA')\n",
        "print('De los {} horarios, el que maximiza la audiencia es:\\n{}'.format(N,mejor_solucion))\n",
        "print('Con una audiencia de {} millones.'.format(round(mejor_audiencia,2)))"
      ],
      "execution_count": 0,
      "outputs": [
        {
          "output_type": "stream",
          "text": [
            "\n",
            "BÚSQUEDA ALEATORIA SESGADA\n",
            "De los 100 horarios, el que maximiza la audiencia es:\n",
            "['D12' 'L20' 'D20' 'S12' 'D18' 'S18' 'V20' 'S16' 'S20' 'D16']\n",
            "Con una audiencia de 7.18 millones.\n"
          ],
          "name": "stdout"
        }
      ]
    },
    {
      "cell_type": "code",
      "metadata": {
        "id": "CzzDtLbUvsvn",
        "colab_type": "code",
        "colab": {},
        "outputId": "fdb265bb-9141-44bc-93b2-39d40779d202"
      },
      "source": [
        "a, tabla = audiencia(mejor_solucion)\n",
        "tabla"
      ],
      "execution_count": 0,
      "outputs": [
        {
          "output_type": "execute_result",
          "data": {
            "text/html": [
              "<div>\n",
              "<style scoped>\n",
              "    .dataframe tbody tr th:only-of-type {\n",
              "        vertical-align: middle;\n",
              "    }\n",
              "\n",
              "    .dataframe tbody tr th {\n",
              "        vertical-align: top;\n",
              "    }\n",
              "\n",
              "    .dataframe thead th {\n",
              "        text-align: right;\n",
              "    }\n",
              "</style>\n",
              "<table border=\"1\" class=\"dataframe\">\n",
              "  <thead>\n",
              "    <tr style=\"text-align: right;\">\n",
              "      <th></th>\n",
              "      <th>Local</th>\n",
              "      <th>Visitante</th>\n",
              "      <th>Categoría Local</th>\n",
              "      <th>Categoría Visitante</th>\n",
              "      <th>Horario</th>\n",
              "      <th>Base (Mill)</th>\n",
              "      <th>Ponderación</th>\n",
              "      <th>Base*Ponderación</th>\n",
              "      <th>Corrección</th>\n",
              "    </tr>\n",
              "  </thead>\n",
              "  <tbody>\n",
              "    <tr>\n",
              "      <th>0</th>\n",
              "      <td>Betis</td>\n",
              "      <td>Granada</td>\n",
              "      <td>B</td>\n",
              "      <td>C</td>\n",
              "      <td>D12</td>\n",
              "      <td>0.75</td>\n",
              "      <td>0.45</td>\n",
              "      <td>0.3375</td>\n",
              "      <td>0.3375</td>\n",
              "    </tr>\n",
              "    <tr>\n",
              "      <th>1</th>\n",
              "      <td>Eibar</td>\n",
              "      <td>Valladolid</td>\n",
              "      <td>C</td>\n",
              "      <td>C</td>\n",
              "      <td>L20</td>\n",
              "      <td>0.47</td>\n",
              "      <td>0.4</td>\n",
              "      <td>0.188</td>\n",
              "      <td>0.188</td>\n",
              "    </tr>\n",
              "    <tr>\n",
              "      <th>2</th>\n",
              "      <td>Celta</td>\n",
              "      <td>Real Sociedad</td>\n",
              "      <td>B</td>\n",
              "      <td>A</td>\n",
              "      <td>D20</td>\n",
              "      <td>1.3</td>\n",
              "      <td>1</td>\n",
              "      <td>1.3</td>\n",
              "      <td>1.3</td>\n",
              "    </tr>\n",
              "    <tr>\n",
              "      <th>3</th>\n",
              "      <td>Leganés</td>\n",
              "      <td>Villareal</td>\n",
              "      <td>C</td>\n",
              "      <td>B</td>\n",
              "      <td>S12</td>\n",
              "      <td>0.75</td>\n",
              "      <td>0.55</td>\n",
              "      <td>0.4125</td>\n",
              "      <td>0.4125</td>\n",
              "    </tr>\n",
              "    <tr>\n",
              "      <th>4</th>\n",
              "      <td>Alavés</td>\n",
              "      <td>Sevilla</td>\n",
              "      <td>B</td>\n",
              "      <td>B</td>\n",
              "      <td>D18</td>\n",
              "      <td>0.9</td>\n",
              "      <td>0.5</td>\n",
              "      <td>0.45</td>\n",
              "      <td>0.45</td>\n",
              "    </tr>\n",
              "    <tr>\n",
              "      <th>5</th>\n",
              "      <td>Levante</td>\n",
              "      <td>Barcelona</td>\n",
              "      <td>B</td>\n",
              "      <td>A</td>\n",
              "      <td>S18</td>\n",
              "      <td>1.3</td>\n",
              "      <td>0.8</td>\n",
              "      <td>1.04</td>\n",
              "      <td>1.04</td>\n",
              "    </tr>\n",
              "    <tr>\n",
              "      <th>6</th>\n",
              "      <td>Getafe</td>\n",
              "      <td>Espanyol</td>\n",
              "      <td>B</td>\n",
              "      <td>B</td>\n",
              "      <td>V20</td>\n",
              "      <td>0.9</td>\n",
              "      <td>0.4</td>\n",
              "      <td>0.36</td>\n",
              "      <td>0.36</td>\n",
              "    </tr>\n",
              "    <tr>\n",
              "      <th>7</th>\n",
              "      <td>Mallorca</td>\n",
              "      <td>Valencia</td>\n",
              "      <td>C</td>\n",
              "      <td>B</td>\n",
              "      <td>S16</td>\n",
              "      <td>0.75</td>\n",
              "      <td>0.7</td>\n",
              "      <td>0.525</td>\n",
              "      <td>0.525</td>\n",
              "    </tr>\n",
              "    <tr>\n",
              "      <th>8</th>\n",
              "      <td>Atlético</td>\n",
              "      <td>Real Madrid</td>\n",
              "      <td>A</td>\n",
              "      <td>A</td>\n",
              "      <td>S20</td>\n",
              "      <td>2</td>\n",
              "      <td>1</td>\n",
              "      <td>2</td>\n",
              "      <td>2</td>\n",
              "    </tr>\n",
              "    <tr>\n",
              "      <th>9</th>\n",
              "      <td>Athletic</td>\n",
              "      <td>Osasuna</td>\n",
              "      <td>B</td>\n",
              "      <td>C</td>\n",
              "      <td>D16</td>\n",
              "      <td>0.75</td>\n",
              "      <td>0.75</td>\n",
              "      <td>0.5625</td>\n",
              "      <td>0.5625</td>\n",
              "    </tr>\n",
              "  </tbody>\n",
              "</table>\n",
              "</div>"
            ],
            "text/plain": [
              "      Local      Visitante Categoría Local Categoría Visitante Horario  \\\n",
              "0     Betis        Granada               B                   C     D12   \n",
              "1     Eibar     Valladolid               C                   C     L20   \n",
              "2     Celta  Real Sociedad               B                   A     D20   \n",
              "3   Leganés      Villareal               C                   B     S12   \n",
              "4    Alavés        Sevilla               B                   B     D18   \n",
              "5   Levante      Barcelona               B                   A     S18   \n",
              "6    Getafe       Espanyol               B                   B     V20   \n",
              "7  Mallorca       Valencia               C                   B     S16   \n",
              "8  Atlético    Real Madrid               A                   A     S20   \n",
              "9  Athletic        Osasuna               B                   C     D16   \n",
              "\n",
              "  Base (Mill) Ponderación Base*Ponderación Corrección  \n",
              "0        0.75        0.45           0.3375     0.3375  \n",
              "1        0.47         0.4            0.188      0.188  \n",
              "2         1.3           1              1.3        1.3  \n",
              "3        0.75        0.55           0.4125     0.4125  \n",
              "4         0.9         0.5             0.45       0.45  \n",
              "5         1.3         0.8             1.04       1.04  \n",
              "6         0.9         0.4             0.36       0.36  \n",
              "7        0.75         0.7            0.525      0.525  \n",
              "8           2           1                2          2  \n",
              "9        0.75        0.75           0.5625     0.5625  "
            ]
          },
          "metadata": {
            "tags": []
          },
          "execution_count": 40
        }
      ]
    },
    {
      "cell_type": "code",
      "metadata": {
        "id": "qlQ--pwivsvo",
        "colab_type": "code",
        "colab": {},
        "outputId": "a4e11af3-daa4-4206-b90e-f67c004ac6c8"
      },
      "source": [
        "#Comprobamos:\n",
        "print('En la columna \\'Horario\\' tenemos los horarios finales.')\n",
        "print('En la columna \\'Correción\\' se encuentran las audiencias por partido, que si se suman dan {} millones.'.format(np.sum(tabla[:]['Corrección'])))"
      ],
      "execution_count": 0,
      "outputs": [
        {
          "output_type": "stream",
          "text": [
            "En la columna 'Horario' tenemos los horarios finales.\n",
            "En la columna 'Correción' se encuentran las audiencias por partido, que si se suman dan 7.1754999999999995 millones.\n"
          ],
          "name": "stdout"
        }
      ]
    },
    {
      "cell_type": "markdown",
      "metadata": {
        "id": "y8jwiz_Dvsvp",
        "colab_type": "text"
      },
      "source": [
        "Vamos a comparar las soluciones de los tres algoritmos para número de iteraciones 50, 100 y 150:"
      ]
    },
    {
      "cell_type": "code",
      "metadata": {
        "id": "uFDP__a_vsvp",
        "colab_type": "code",
        "colab": {},
        "outputId": "57b3f3d9-7575-4c46-ac47-72d377c0fe64"
      },
      "source": [
        "N = [50, 100, 150]\n",
        "index = ['BÚSQUEDA_ALEATORIA', 'BÚSQUEDA_ALEATORIA_PONDERADA', 'BÚSQUEDA_ALEATORIA_SESGADA']\n",
        "algs = busqueda_aleatoria, busqueda_aleatoria_ponderada, busqueda_aleatoria_sesgada\n",
        "\n",
        "max_audiencia_df = pd.DataFrame(index=index, columns=N)\n",
        "\n",
        "mejor_audiencia = 0\n",
        "\n",
        "for a, i in zip(algs,index):\n",
        "    for n in N:\n",
        "        solucion_actual, audiencia_actual = a(horario,n)\n",
        "        max_audiencia_df.loc[i][n] = audiencia_actual\n",
        "        if audiencia_actual>mejor_audiencia:\n",
        "            mejor_audiencia = audiencia_actual\n",
        "            mejor_solucion = solucion_actual\n",
        "            \n",
        "print('Audiencias por algoritmo y por número de iteraciones:')\n",
        "max_audiencia_df"
      ],
      "execution_count": 0,
      "outputs": [
        {
          "output_type": "stream",
          "text": [
            "Audiencias por algoritmo y por número de iteraciones:\n"
          ],
          "name": "stdout"
        },
        {
          "output_type": "execute_result",
          "data": {
            "text/html": [
              "<div>\n",
              "<style scoped>\n",
              "    .dataframe tbody tr th:only-of-type {\n",
              "        vertical-align: middle;\n",
              "    }\n",
              "\n",
              "    .dataframe tbody tr th {\n",
              "        vertical-align: top;\n",
              "    }\n",
              "\n",
              "    .dataframe thead th {\n",
              "        text-align: right;\n",
              "    }\n",
              "</style>\n",
              "<table border=\"1\" class=\"dataframe\">\n",
              "  <thead>\n",
              "    <tr style=\"text-align: right;\">\n",
              "      <th></th>\n",
              "      <th>50</th>\n",
              "      <th>100</th>\n",
              "      <th>150</th>\n",
              "    </tr>\n",
              "  </thead>\n",
              "  <tbody>\n",
              "    <tr>\n",
              "      <th>BÚSQUEDA_ALEATORIA</th>\n",
              "      <td>6.9635</td>\n",
              "      <td>6.8425</td>\n",
              "      <td>6.559</td>\n",
              "    </tr>\n",
              "    <tr>\n",
              "      <th>BÚSQUEDA_ALEATORIA_PONDERADA</th>\n",
              "      <td>6.6855</td>\n",
              "      <td>6.52925</td>\n",
              "      <td>6.96113</td>\n",
              "    </tr>\n",
              "    <tr>\n",
              "      <th>BÚSQUEDA_ALEATORIA_SESGADA</th>\n",
              "      <td>7.028</td>\n",
              "      <td>7.244</td>\n",
              "      <td>7.138</td>\n",
              "    </tr>\n",
              "  </tbody>\n",
              "</table>\n",
              "</div>"
            ],
            "text/plain": [
              "                                 50       100      150\n",
              "BÚSQUEDA_ALEATORIA            6.9635   6.8425    6.559\n",
              "BÚSQUEDA_ALEATORIA_PONDERADA  6.6855  6.52925  6.96113\n",
              "BÚSQUEDA_ALEATORIA_SESGADA     7.028    7.244    7.138"
            ]
          },
          "metadata": {
            "tags": []
          },
          "execution_count": 42
        }
      ]
    },
    {
      "cell_type": "code",
      "metadata": {
        "id": "sIcHZ_LXvsvr",
        "colab_type": "code",
        "colab": {},
        "outputId": "d1493413-80ae-4b02-b8da-a9f90aef01cc"
      },
      "source": [
        "color = ['g', 'r', 'b']\n",
        "\n",
        "fig, axis = plt.subplots(figsize=(16, 10))\n",
        "\n",
        "for a, c in zip(index,color):\n",
        "    axis.plot(max_audiencia_df.loc[a],'go-', color=c, linewidth=3, alpha=0.3)\n",
        "\n",
        "axis.grid(alpha=0.1)\n",
        "\n",
        "axis.set_xticklabels(np.arange(50,150+50,50))\n",
        "\n",
        "#Títulos\n",
        "axis.set_xlabel('Número de iteraciones', fontsize='x-large')\n",
        "axis.set_ylabel('Audiencia (millones)', fontsize='x-large')\n",
        "axis.set_title('Evolución de los algoritmos por iteraciones', fontsize='xx-large')\n",
        "\n",
        "#Leyenda\n",
        "axis.legend(loc='best') "
      ],
      "execution_count": 0,
      "outputs": [
        {
          "output_type": "execute_result",
          "data": {
            "text/plain": [
              "<matplotlib.legend.Legend at 0x2aab8c55c18>"
            ]
          },
          "metadata": {
            "tags": []
          },
          "execution_count": 43
        },
        {
          "output_type": "display_data",
          "data": {
            "image/png": "[encoded data removed]",
            "text/plain": [
              "<Figure size 1152x720 with 1 Axes>"
            ]
          },
          "metadata": {
            "tags": [],
            "needs_background": "light"
          }
        }
      ]
    },
    {
      "cell_type": "markdown",
      "metadata": {
        "id": "I6xOscI7vsvs",
        "colab_type": "text"
      },
      "source": [
        "Se observa una ligera mejora al aumentar el número de iteraciones, y teniendo en cuenta que el coste computacional crece exponencialmente, N=100 supone un buen número -nótese que también es influyente el procesador que se emplee a la hora de la elección del número de iteraciones-.\n",
        "\n",
        "Por otro lado, se observa que las mejoras en el algoritmo funcionan aunque para búsqueda aleatoria ponderada requiere resultados más fiables a partir de N=100 o un número más alto de iteraciones, mientras que búsqueda aleatoria sesgada presenta mejoría desde el principio. \n",
        "\n",
        "El algoritmo que presenta mejores resultados es el de búsqueda aleatoria sesgada.\n",
        "\n",
        "Estos resultados se pueden ratificar reiniciando con el algoritmo con otras nuevas jornadas."
      ]
    },
    {
      "cell_type": "markdown",
      "metadata": {
        "colab_type": "text",
        "id": "3M6QjTsSkmYe"
      },
      "source": [
        "Según el problema (y tenga sentido), diseña un juego de datos de entrada aleatorios"
      ]
    },
    {
      "cell_type": "markdown",
      "metadata": {
        "colab_type": "text",
        "id": "Jc3_OlyNkvjZ"
      },
      "source": [
        "Respuesta"
      ]
    },
    {
      "cell_type": "code",
      "metadata": {
        "colab_type": "code",
        "id": "sJ-N2etjkyWc",
        "colab": {}
      },
      "source": [
        "El problema ya se ha evaluado con un juego de datos aleatorio, pero vamos a generar otro:"
      ],
      "execution_count": 0,
      "outputs": []
    },
    {
      "cell_type": "code",
      "metadata": {
        "id": "_3d5lkyQvsvx",
        "colab_type": "code",
        "colab": {},
        "outputId": "4c1da976-da53-44f3-d79f-f6b86a144395"
      },
      "source": [
        "equipos_rand = equipos.copy()\n",
        "random.shuffle(equipos_rand)\n",
        "\n",
        "jornada=[0 for k in range(len(equipos_rand)//2)]\n",
        "for i in range(len(equipos_rand)//2):\n",
        "    jornada[i]=(equipos_rand[i],equipos_rand[i+len(equipos_rand)//2])\n",
        "    \n",
        "local = equipos_rand[:(len(equipos_rand)//2)]\n",
        "visitante = equipos_rand[len(equipos_rand)//2:]\n",
        "\n",
        "jornada"
      ],
      "execution_count": 0,
      "outputs": [
        {
          "output_type": "execute_result",
          "data": {
            "text/plain": [
              "[('Valencia', 'Getafe'),\n",
              " ('Villareal', 'Leganés'),\n",
              " ('Real Madrid', 'Osasuna'),\n",
              " ('Granada', 'Atlético'),\n",
              " ('Mallorca', 'Valladolid'),\n",
              " ('Real Sociedad', 'Eibar'),\n",
              " ('Espanyol', 'Alavés'),\n",
              " ('Levante', 'Athletic'),\n",
              " ('Sevilla', 'Betis'),\n",
              " ('Barcelona', 'Celta')]"
            ]
          },
          "metadata": {
            "tags": []
          },
          "execution_count": 45
        }
      ]
    },
    {
      "cell_type": "markdown",
      "metadata": {
        "colab_type": "text",
        "id": "zy5ZROmjlGo1"
      },
      "source": [
        "Aplica el algoritmo al juego de datos generado"
      ]
    },
    {
      "cell_type": "markdown",
      "metadata": {
        "colab_type": "text",
        "id": "_Cmj-PVylMsa"
      },
      "source": [
        "Respuesta"
      ]
    },
    {
      "cell_type": "code",
      "metadata": {
        "id": "i6pTn7quvsv0",
        "colab_type": "code",
        "colab": {}
      },
      "source": [
        "del calculo_df"
      ],
      "execution_count": 0,
      "outputs": []
    },
    {
      "cell_type": "code",
      "metadata": {
        "id": "ELJpBrzjvsv1",
        "colab_type": "code",
        "colab": {},
        "outputId": "288476b1-9eff-48c7-9f3a-3dedaf1bed2a"
      },
      "source": [
        "calculo_df = calculo_function()\n",
        "calculo_df"
      ],
      "execution_count": 0,
      "outputs": [
        {
          "output_type": "execute_result",
          "data": {
            "text/html": [
              "<div>\n",
              "<style scoped>\n",
              "    .dataframe tbody tr th:only-of-type {\n",
              "        vertical-align: middle;\n",
              "    }\n",
              "\n",
              "    .dataframe tbody tr th {\n",
              "        vertical-align: top;\n",
              "    }\n",
              "\n",
              "    .dataframe thead th {\n",
              "        text-align: right;\n",
              "    }\n",
              "</style>\n",
              "<table border=\"1\" class=\"dataframe\">\n",
              "  <thead>\n",
              "    <tr style=\"text-align: right;\">\n",
              "      <th></th>\n",
              "      <th>Local</th>\n",
              "      <th>Visitante</th>\n",
              "      <th>Categoría Local</th>\n",
              "      <th>Categoría Visitante</th>\n",
              "      <th>Horario</th>\n",
              "      <th>Base (Mill)</th>\n",
              "      <th>Ponderación</th>\n",
              "      <th>Base*Ponderación</th>\n",
              "      <th>Corrección</th>\n",
              "    </tr>\n",
              "  </thead>\n",
              "  <tbody>\n",
              "    <tr>\n",
              "      <th>0</th>\n",
              "      <td>Valencia</td>\n",
              "      <td>Getafe</td>\n",
              "      <td>B</td>\n",
              "      <td>B</td>\n",
              "      <td>NaN</td>\n",
              "      <td>0.9</td>\n",
              "      <td>NaN</td>\n",
              "      <td>NaN</td>\n",
              "      <td>NaN</td>\n",
              "    </tr>\n",
              "    <tr>\n",
              "      <th>1</th>\n",
              "      <td>Villareal</td>\n",
              "      <td>Leganés</td>\n",
              "      <td>B</td>\n",
              "      <td>C</td>\n",
              "      <td>NaN</td>\n",
              "      <td>0.75</td>\n",
              "      <td>NaN</td>\n",
              "      <td>NaN</td>\n",
              "      <td>NaN</td>\n",
              "    </tr>\n",
              "    <tr>\n",
              "      <th>2</th>\n",
              "      <td>Real Madrid</td>\n",
              "      <td>Osasuna</td>\n",
              "      <td>A</td>\n",
              "      <td>C</td>\n",
              "      <td>NaN</td>\n",
              "      <td>1</td>\n",
              "      <td>NaN</td>\n",
              "      <td>NaN</td>\n",
              "      <td>NaN</td>\n",
              "    </tr>\n",
              "    <tr>\n",
              "      <th>3</th>\n",
              "      <td>Granada</td>\n",
              "      <td>Atlético</td>\n",
              "      <td>C</td>\n",
              "      <td>A</td>\n",
              "      <td>NaN</td>\n",
              "      <td>1</td>\n",
              "      <td>NaN</td>\n",
              "      <td>NaN</td>\n",
              "      <td>NaN</td>\n",
              "    </tr>\n",
              "    <tr>\n",
              "      <th>4</th>\n",
              "      <td>Mallorca</td>\n",
              "      <td>Valladolid</td>\n",
              "      <td>C</td>\n",
              "      <td>C</td>\n",
              "      <td>NaN</td>\n",
              "      <td>0.47</td>\n",
              "      <td>NaN</td>\n",
              "      <td>NaN</td>\n",
              "      <td>NaN</td>\n",
              "    </tr>\n",
              "    <tr>\n",
              "      <th>5</th>\n",
              "      <td>Real Sociedad</td>\n",
              "      <td>Eibar</td>\n",
              "      <td>A</td>\n",
              "      <td>C</td>\n",
              "      <td>NaN</td>\n",
              "      <td>1</td>\n",
              "      <td>NaN</td>\n",
              "      <td>NaN</td>\n",
              "      <td>NaN</td>\n",
              "    </tr>\n",
              "    <tr>\n",
              "      <th>6</th>\n",
              "      <td>Espanyol</td>\n",
              "      <td>Alavés</td>\n",
              "      <td>B</td>\n",
              "      <td>B</td>\n",
              "      <td>NaN</td>\n",
              "      <td>0.9</td>\n",
              "      <td>NaN</td>\n",
              "      <td>NaN</td>\n",
              "      <td>NaN</td>\n",
              "    </tr>\n",
              "    <tr>\n",
              "      <th>7</th>\n",
              "      <td>Levante</td>\n",
              "      <td>Athletic</td>\n",
              "      <td>B</td>\n",
              "      <td>B</td>\n",
              "      <td>NaN</td>\n",
              "      <td>0.9</td>\n",
              "      <td>NaN</td>\n",
              "      <td>NaN</td>\n",
              "      <td>NaN</td>\n",
              "    </tr>\n",
              "    <tr>\n",
              "      <th>8</th>\n",
              "      <td>Sevilla</td>\n",
              "      <td>Betis</td>\n",
              "      <td>B</td>\n",
              "      <td>B</td>\n",
              "      <td>NaN</td>\n",
              "      <td>0.9</td>\n",
              "      <td>NaN</td>\n",
              "      <td>NaN</td>\n",
              "      <td>NaN</td>\n",
              "    </tr>\n",
              "    <tr>\n",
              "      <th>9</th>\n",
              "      <td>Barcelona</td>\n",
              "      <td>Celta</td>\n",
              "      <td>A</td>\n",
              "      <td>B</td>\n",
              "      <td>NaN</td>\n",
              "      <td>1.3</td>\n",
              "      <td>NaN</td>\n",
              "      <td>NaN</td>\n",
              "      <td>NaN</td>\n",
              "    </tr>\n",
              "  </tbody>\n",
              "</table>\n",
              "</div>"
            ],
            "text/plain": [
              "           Local   Visitante Categoría Local Categoría Visitante Horario  \\\n",
              "0       Valencia      Getafe               B                   B     NaN   \n",
              "1      Villareal     Leganés               B                   C     NaN   \n",
              "2    Real Madrid     Osasuna               A                   C     NaN   \n",
              "3        Granada    Atlético               C                   A     NaN   \n",
              "4       Mallorca  Valladolid               C                   C     NaN   \n",
              "5  Real Sociedad       Eibar               A                   C     NaN   \n",
              "6       Espanyol      Alavés               B                   B     NaN   \n",
              "7        Levante    Athletic               B                   B     NaN   \n",
              "8        Sevilla       Betis               B                   B     NaN   \n",
              "9      Barcelona       Celta               A                   B     NaN   \n",
              "\n",
              "  Base (Mill) Ponderación Base*Ponderación Corrección  \n",
              "0         0.9         NaN              NaN        NaN  \n",
              "1        0.75         NaN              NaN        NaN  \n",
              "2           1         NaN              NaN        NaN  \n",
              "3           1         NaN              NaN        NaN  \n",
              "4        0.47         NaN              NaN        NaN  \n",
              "5           1         NaN              NaN        NaN  \n",
              "6         0.9         NaN              NaN        NaN  \n",
              "7         0.9         NaN              NaN        NaN  \n",
              "8         0.9         NaN              NaN        NaN  \n",
              "9         1.3         NaN              NaN        NaN  "
            ]
          },
          "metadata": {
            "tags": []
          },
          "execution_count": 47
        }
      ]
    },
    {
      "cell_type": "code",
      "metadata": {
        "colab_type": "code",
        "id": "Jkx8GeiYlUz1",
        "colab": {},
        "outputId": "cab3a59a-b6c6-4cd8-a59f-2d3a46abb23d"
      },
      "source": [
        "N=[100]\n",
        "\n",
        "del max_audiencia_df\n",
        "max_audiencia_df = pd.DataFrame(index=index, columns=N)\n",
        "\n",
        "mejor_audiencia = 0\n",
        "\n",
        "for a, i in zip(algs,index):\n",
        "    for n in N:\n",
        "        solucion_actual, audiencia_actual = a(horario,n)\n",
        "        max_audiencia_df.loc[i][n] = audiencia_actual\n",
        "        if audiencia_actual>mejor_audiencia:\n",
        "            mejor_audiencia = audiencia_actual\n",
        "            mejor_solucion = solucion_actual\n",
        "            \n",
        "print('Audiencias por algoritmo:')\n",
        "max_audiencia_df"
      ],
      "execution_count": 0,
      "outputs": [
        {
          "output_type": "stream",
          "text": [
            "Audiencias por algoritmo:\n"
          ],
          "name": "stdout"
        },
        {
          "output_type": "execute_result",
          "data": {
            "text/html": [
              "<div>\n",
              "<style scoped>\n",
              "    .dataframe tbody tr th:only-of-type {\n",
              "        vertical-align: middle;\n",
              "    }\n",
              "\n",
              "    .dataframe tbody tr th {\n",
              "        vertical-align: top;\n",
              "    }\n",
              "\n",
              "    .dataframe thead th {\n",
              "        text-align: right;\n",
              "    }\n",
              "</style>\n",
              "<table border=\"1\" class=\"dataframe\">\n",
              "  <thead>\n",
              "    <tr style=\"text-align: right;\">\n",
              "      <th></th>\n",
              "      <th>100</th>\n",
              "    </tr>\n",
              "  </thead>\n",
              "  <tbody>\n",
              "    <tr>\n",
              "      <th>BÚSQUEDA_ALEATORIA</th>\n",
              "      <td>6.025</td>\n",
              "    </tr>\n",
              "    <tr>\n",
              "      <th>BÚSQUEDA_ALEATORIA_PONDERADA</th>\n",
              "      <td>6.03925</td>\n",
              "    </tr>\n",
              "    <tr>\n",
              "      <th>BÚSQUEDA_ALEATORIA_SESGADA</th>\n",
              "      <td>6.273</td>\n",
              "    </tr>\n",
              "  </tbody>\n",
              "</table>\n",
              "</div>"
            ],
            "text/plain": [
              "                                  100\n",
              "BÚSQUEDA_ALEATORIA              6.025\n",
              "BÚSQUEDA_ALEATORIA_PONDERADA  6.03925\n",
              "BÚSQUEDA_ALEATORIA_SESGADA      6.273"
            ]
          },
          "metadata": {
            "tags": []
          },
          "execution_count": 50
        }
      ]
    },
    {
      "cell_type": "code",
      "metadata": {
        "id": "Wnc1XuESvsv6",
        "colab_type": "code",
        "colab": {},
        "outputId": "b6f90154-68ae-4fe5-96cd-a7e15413f34d"
      },
      "source": [
        "print('Franja horaria en la que jugarán los equipos:\\n')\n",
        "for j, s in zip(jornada, mejor_solucion):\n",
        "    print(j, s)"
      ],
      "execution_count": 0,
      "outputs": [
        {
          "output_type": "stream",
          "text": [
            "Franja horaria en la que jugarán los equipos:\n",
            "\n",
            "('Valencia', 'Getafe') D12\n",
            "('Villareal', 'Leganés') L20\n",
            "('Real Madrid', 'Osasuna') S18\n",
            "('Granada', 'Atlético') D16\n",
            "('Mallorca', 'Valladolid') V20\n",
            "('Real Sociedad', 'Eibar') S12\n",
            "('Espanyol', 'Alavés') S16\n",
            "('Levante', 'Athletic') D18\n",
            "('Sevilla', 'Betis') D20\n",
            "('Barcelona', 'Celta') S20\n"
          ],
          "name": "stdout"
        }
      ]
    },
    {
      "cell_type": "code",
      "metadata": {
        "id": "aOVwroj0vsv7",
        "colab_type": "code",
        "colab": {},
        "outputId": "2fe8a06c-4756-4670-ebd9-193cff3107e4"
      },
      "source": [
        "a, tabla = audiencia(mejor_solucion)\n",
        "tabla"
      ],
      "execution_count": 0,
      "outputs": [
        {
          "output_type": "execute_result",
          "data": {
            "text/html": [
              "<div>\n",
              "<style scoped>\n",
              "    .dataframe tbody tr th:only-of-type {\n",
              "        vertical-align: middle;\n",
              "    }\n",
              "\n",
              "    .dataframe tbody tr th {\n",
              "        vertical-align: top;\n",
              "    }\n",
              "\n",
              "    .dataframe thead th {\n",
              "        text-align: right;\n",
              "    }\n",
              "</style>\n",
              "<table border=\"1\" class=\"dataframe\">\n",
              "  <thead>\n",
              "    <tr style=\"text-align: right;\">\n",
              "      <th></th>\n",
              "      <th>Local</th>\n",
              "      <th>Visitante</th>\n",
              "      <th>Categoría Local</th>\n",
              "      <th>Categoría Visitante</th>\n",
              "      <th>Horario</th>\n",
              "      <th>Base (Mill)</th>\n",
              "      <th>Ponderación</th>\n",
              "      <th>Base*Ponderación</th>\n",
              "      <th>Corrección</th>\n",
              "    </tr>\n",
              "  </thead>\n",
              "  <tbody>\n",
              "    <tr>\n",
              "      <th>0</th>\n",
              "      <td>Valencia</td>\n",
              "      <td>Getafe</td>\n",
              "      <td>B</td>\n",
              "      <td>B</td>\n",
              "      <td>D12</td>\n",
              "      <td>0.9</td>\n",
              "      <td>0.45</td>\n",
              "      <td>0.405</td>\n",
              "      <td>0.405</td>\n",
              "    </tr>\n",
              "    <tr>\n",
              "      <th>1</th>\n",
              "      <td>Villareal</td>\n",
              "      <td>Leganés</td>\n",
              "      <td>B</td>\n",
              "      <td>C</td>\n",
              "      <td>L20</td>\n",
              "      <td>0.75</td>\n",
              "      <td>0.4</td>\n",
              "      <td>0.3</td>\n",
              "      <td>0.3</td>\n",
              "    </tr>\n",
              "    <tr>\n",
              "      <th>2</th>\n",
              "      <td>Real Madrid</td>\n",
              "      <td>Osasuna</td>\n",
              "      <td>A</td>\n",
              "      <td>C</td>\n",
              "      <td>S18</td>\n",
              "      <td>1</td>\n",
              "      <td>0.8</td>\n",
              "      <td>0.8</td>\n",
              "      <td>0.8</td>\n",
              "    </tr>\n",
              "    <tr>\n",
              "      <th>3</th>\n",
              "      <td>Granada</td>\n",
              "      <td>Atlético</td>\n",
              "      <td>C</td>\n",
              "      <td>A</td>\n",
              "      <td>D16</td>\n",
              "      <td>1</td>\n",
              "      <td>0.75</td>\n",
              "      <td>0.75</td>\n",
              "      <td>0.75</td>\n",
              "    </tr>\n",
              "    <tr>\n",
              "      <th>4</th>\n",
              "      <td>Mallorca</td>\n",
              "      <td>Valladolid</td>\n",
              "      <td>C</td>\n",
              "      <td>C</td>\n",
              "      <td>V20</td>\n",
              "      <td>0.47</td>\n",
              "      <td>0.4</td>\n",
              "      <td>0.188</td>\n",
              "      <td>0.188</td>\n",
              "    </tr>\n",
              "    <tr>\n",
              "      <th>5</th>\n",
              "      <td>Real Sociedad</td>\n",
              "      <td>Eibar</td>\n",
              "      <td>A</td>\n",
              "      <td>C</td>\n",
              "      <td>S12</td>\n",
              "      <td>1</td>\n",
              "      <td>0.55</td>\n",
              "      <td>0.55</td>\n",
              "      <td>0.55</td>\n",
              "    </tr>\n",
              "    <tr>\n",
              "      <th>6</th>\n",
              "      <td>Espanyol</td>\n",
              "      <td>Alavés</td>\n",
              "      <td>B</td>\n",
              "      <td>B</td>\n",
              "      <td>S16</td>\n",
              "      <td>0.9</td>\n",
              "      <td>0.7</td>\n",
              "      <td>0.63</td>\n",
              "      <td>0.63</td>\n",
              "    </tr>\n",
              "    <tr>\n",
              "      <th>7</th>\n",
              "      <td>Levante</td>\n",
              "      <td>Athletic</td>\n",
              "      <td>B</td>\n",
              "      <td>B</td>\n",
              "      <td>D18</td>\n",
              "      <td>0.9</td>\n",
              "      <td>0.5</td>\n",
              "      <td>0.45</td>\n",
              "      <td>0.45</td>\n",
              "    </tr>\n",
              "    <tr>\n",
              "      <th>8</th>\n",
              "      <td>Sevilla</td>\n",
              "      <td>Betis</td>\n",
              "      <td>B</td>\n",
              "      <td>B</td>\n",
              "      <td>D20</td>\n",
              "      <td>0.9</td>\n",
              "      <td>1</td>\n",
              "      <td>0.9</td>\n",
              "      <td>0.9</td>\n",
              "    </tr>\n",
              "    <tr>\n",
              "      <th>9</th>\n",
              "      <td>Barcelona</td>\n",
              "      <td>Celta</td>\n",
              "      <td>A</td>\n",
              "      <td>B</td>\n",
              "      <td>S20</td>\n",
              "      <td>1.3</td>\n",
              "      <td>1</td>\n",
              "      <td>1.3</td>\n",
              "      <td>1.3</td>\n",
              "    </tr>\n",
              "  </tbody>\n",
              "</table>\n",
              "</div>"
            ],
            "text/plain": [
              "           Local   Visitante Categoría Local Categoría Visitante Horario  \\\n",
              "0       Valencia      Getafe               B                   B     D12   \n",
              "1      Villareal     Leganés               B                   C     L20   \n",
              "2    Real Madrid     Osasuna               A                   C     S18   \n",
              "3        Granada    Atlético               C                   A     D16   \n",
              "4       Mallorca  Valladolid               C                   C     V20   \n",
              "5  Real Sociedad       Eibar               A                   C     S12   \n",
              "6       Espanyol      Alavés               B                   B     S16   \n",
              "7        Levante    Athletic               B                   B     D18   \n",
              "8        Sevilla       Betis               B                   B     D20   \n",
              "9      Barcelona       Celta               A                   B     S20   \n",
              "\n",
              "  Base (Mill) Ponderación Base*Ponderación Corrección  \n",
              "0         0.9        0.45            0.405      0.405  \n",
              "1        0.75         0.4              0.3        0.3  \n",
              "2           1         0.8              0.8        0.8  \n",
              "3           1        0.75             0.75       0.75  \n",
              "4        0.47         0.4            0.188      0.188  \n",
              "5           1        0.55             0.55       0.55  \n",
              "6         0.9         0.7             0.63       0.63  \n",
              "7         0.9         0.5             0.45       0.45  \n",
              "8         0.9           1              0.9        0.9  \n",
              "9         1.3           1              1.3        1.3  "
            ]
          },
          "metadata": {
            "tags": []
          },
          "execution_count": 54
        }
      ]
    },
    {
      "cell_type": "code",
      "metadata": {
        "id": "zHu3l8oOvsv8",
        "colab_type": "code",
        "colab": {},
        "outputId": "693e3fea-00ce-403b-956b-ea3314d1270f"
      },
      "source": [
        "#Comprobamos:\n",
        "print('En la columna \\'Horario\\' tenemos los horarios finales.')\n",
        "print('En la columna \\'Correción\\' se encuentran las audiencias por partido, que si se suman dan {} millones.'.format(np.sum(tabla[:]['Corrección'])))"
      ],
      "execution_count": 0,
      "outputs": [
        {
          "output_type": "stream",
          "text": [
            "En la columna 'Horario' tenemos los horarios finales.\n",
            "En la columna 'Correción' se encuentran las audiencias por partido, que si se suman dan 6.273000000000001 millones.\n"
          ],
          "name": "stdout"
        }
      ]
    },
    {
      "cell_type": "markdown",
      "metadata": {
        "colab_type": "text",
        "id": "eTFWUJQrtGcv"
      },
      "source": [
        "Enumera las referencias que has utilizado(si ha sido necesario) para llevar a cabo el trabajo"
      ]
    },
    {
      "cell_type": "markdown",
      "metadata": {
        "colab_type": "text",
        "id": "YKQ_mRBttWsP"
      },
      "source": [
        "Respuesta"
      ]
    },
    {
      "cell_type": "markdown",
      "metadata": {
        "id": "DqrcSUX9vsv-",
        "colab_type": "text"
      },
      "source": [
        "Slides y videoconferencias de la asignatura Algoritmos de Optimización impartida por el profesor Raúl Reyero."
      ]
    },
    {
      "cell_type": "markdown",
      "metadata": {
        "colab_type": "text",
        "id": "kAkDPUyRtYyH"
      },
      "source": [
        "Describe brevemente las lineas de como crees que es posible avanzar en el estudio del problema. Ten en cuenta incluso posibles variaciones del problema y/o variaciones al alza del tamaño"
      ]
    },
    {
      "cell_type": "markdown",
      "metadata": {
        "colab_type": "text",
        "id": "IE0uZmo-tZu-"
      },
      "source": [
        "Respuesta"
      ]
    },
    {
      "cell_type": "markdown",
      "metadata": {
        "id": "jlUpAjsMvsv_",
        "colab_type": "text"
      },
      "source": [
        "Se hizo una mejora -búsqueda aleatoria ponderada- teniendo en cuenta la penalización de la audiencia en función del horario en que se juega el partido, y trasladándo ésto a una probabilidad de aparición de los distintos horarios en los que un partido puede jugar. La magnitud de la mejora es muy pequeña respecto a la magnitud de la aleatoriedad introducida por el algoritmo, así que para ver mejores resultados sería necesario afinar aún más. \n",
        "\n",
        "Se introdujo otra mejora -búsqueda aleatoria sesgada- eliminando aquellas soluciones que tenían poco sentido común. En este caso, la mejora funciona notablemente y presenta una clara mejoría en la audiencia.\n",
        "\n",
        "Se podría, por ejemplo, seguir afinando con un algoritmo de colonia de hormigas, donde se puedan construir soluciones y penalizar o beneficiar (con las feromonas) los elementos que componen dichas soluciones. Se trataría de un método constructivo por pasos, eligiendo elementos de las solución secuencialmente que mejor se adapten.\n",
        "\n",
        "Otro método heurístico sería algoritmos genéticos, adaptando el problema para generar soluciones fácilmente (población) y además luego combinarlas (cruce).\n",
        "\n",
        "Además de la heurística, como hemos comentado con anterioridad, se podría emplear algoritmos de búsqueda en árboles -ramificación y poda-, realizando exploraciones pero descartando ramas del árbol de soluciones porque se hagan evidentes que no conducirán a buenas soluciones (como, por ejemplo, el caso de que todos los partidos o gran parte de los partidos se jueguen en un mismo horario). De hecho, el algoritmo de búsqueda aleatoria sesgada se ha fundamentado en la eliminación de resultados poco factibles, aunque introduciendo aleatoriedad en las soluciones restantes.\n",
        "\n",
        "Estos algoritmos no son del todo \"metódicos\", sino que proporcionan una idea general de resolución y habrá que adaptarlos al problema en cuestión. Es por esto que la calidad del código y, en especial, la creatividad del ingeniero, serán cruciales para una buena resolución del problema."
      ]
    }
  ]
}