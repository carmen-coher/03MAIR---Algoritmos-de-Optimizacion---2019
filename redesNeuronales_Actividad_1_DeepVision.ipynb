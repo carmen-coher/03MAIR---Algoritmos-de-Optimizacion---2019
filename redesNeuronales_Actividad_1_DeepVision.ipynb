{
  "nbformat": 4,
  "nbformat_minor": 0,
  "metadata": {
    "kernelspec": {
      "name": "python3",
      "display_name": "Python 3"
    },
    "language_info": {
      "codemirror_mode": {
        "name": "ipython",
        "version": 3
      },
      "file_extension": ".py",
      "mimetype": "text/x-python",
      "name": "python",
      "nbconvert_exporter": "python",
      "pygments_lexer": "ipython3",
      "version": "3.6.5"
    },
    "colab": {
      "name": "Copia de 07MAIR_Actividad 1.ipynb",
      "provenance": [],
      "collapsed_sections": [],
      "machine_shape": "hm",
      "include_colab_link": true
    },
    "accelerator": "GPU"
  },
  "cells": [
    {
      "cell_type": "markdown",
      "metadata": {
        "id": "view-in-github",
        "colab_type": "text"
      },
      "source": [
        "<a href=\"https://colab.research.google.com/github/carmen-herlo/03MAIR---Algoritmos-de-Optimizacion---2019/blob/master/redesNeuronales_Actividad_1_DeepVision.ipynb\" target=\"_parent\"><img src=\"https://colab.research.google.com/assets/colab-badge.svg\" alt=\"Open In Colab\"/></a>"
      ]
    },
    {
      "cell_type": "markdown",
      "metadata": {
        "id": "BhWjErKXWMTl",
        "colab_type": "text"
      },
      "source": [
        "# Actividad 1: Deep Vision\n",
        "\n",
        "En esta actividad, el alumno debe evaluar y comparar dos estrategias para la clasificación de imágenes en el dataset Caltech 101. El dataset ha sido preprocesado y guardado utilizando pickle (más información sobre el preprocesado se puede obtener en el notebook \"preprocesado_caltech101\" https://drive.google.com/open?id=1ioVl25t1p3mE2lTUFTwwOFi3fHFgUvtb).\n",
        "\n",
        "Las instrucciones de cómo obtener el dataset aparecen al inicio de este notebook.\n",
        "\n",
        "### Estrategia 1: Red pre-entrenada\n",
        "\n",
        "La primera estrategia a comparar debe incluir la utilización de una red preentrenada con el dataset ImageNet, llevando a cabo tareas de *transfer learning* para clasificar los objetos de Caltech 101. Deben compararse al menos dos tipos de arquitecturas (VGG16, VGG19, ResNet50, Xception, InceptionV3, InceptionResNetV2, MobileNetV2, DenseNet, RasNet) y se debe seleccionar la que mayor precisión nos dé (información sobre las arquitecturas disponibles en https://keras.io/applications/)\n",
        "\n",
        "### Estrategia 2: Entrenar desde cero\n",
        "\n",
        "La segunda estrategia a comparar será una red neuronal profunda que el alumno debe diseñar, entrenar y optimizar. Se debe justificar empíricamente las decisiones que llevaron a la selección de atributos, capas y parámetros a los que se ha llegado. Se espera que el alumno utilice todas las técnicas de optimización mostradas en clase de forma justificada para la mejora del rendimiento de la red neuronal.\n",
        "\n",
        "## Normas a seguir\n",
        "\n",
        "- Se debe entregar un notebook que incluya las instrucciones presentes\n",
        "- El notebook, junto a cualquier archivo necesario, __deberá entregarse como un link compartido__ en una carpeta gdrive\n",
        "- Aunque los alumnos pueden trabajar en sus propios ordenadores, __la entrega deberá hacerse como un notebook en google colaboratory__, de forma que el profesor pueda abrir y ejecutar el código desde Google Colab sin necesitar alteraciones (salvo el cambio de BASE_FOLDER)\n",
        "- Las __redes utilizadas deben estar entrenadas y ser cargadas__ desde un archivo. La entrega de una red sin entrenar supondrá perdida de puntos.\n",
        "- Si se desea __evidenciar alguna métrica__ del proceso de entrenamiento (precisión, pérdida, etc.), estas deben ser generadas y guardadas, y __mostradas en el notebook final solo como imagen__.\n",
        "- Todos los archivos que deban adjuntarse a la actividad __deberán incluirse en la carpeta gdrive compartida__, y el notebook debe hacer referencias parciales a los mismos.\n",
        "- Tanto __la carga de archivos como guardar datos a archivos__ deberán siempre __contener referencias parciales__ con respecto a un directorio base (__BASE_FOLDER__).  En este notebook se incluye un ejemplo de cómo cargar datos utilizando un directorio base.\n",
        "\n",
        "\n",
        "\n",
        "## Criterio de evaluación\n",
        "\n",
        "- Seguimiento de las normas establecidas en la actividad\n",
        "- Efectividad al presentar las comparaciones entre métricas de evaluación de ambos modelos\n",
        "- Demostración de la utilización de técnicas de optimización para mejorar el rendimiento de los modelos.\n",
        "- Corrección en el uso de algoritmos, modelos y formas idiomáticas en Python.\n",
        "- Se deberá incluir mediante un link de acceso público, tanto el notebook como cualquier archivo que se utilice en el mismo. En el notebook se deberán cargar los modelos a través de estos archivos.\n",
        "- El código debe poder ejecutarse sin modificación alguna (salvo el cambio de BASE_FOLDER) en Google Colaboratory."
      ]
    },
    {
      "cell_type": "markdown",
      "metadata": {
        "id": "P_AU8Pv6WMTs",
        "colab_type": "text"
      },
      "source": [
        "### Obtención del dataset preprocesado Caltech 101"
      ]
    },
    {
      "cell_type": "markdown",
      "metadata": {
        "id": "ugdrEGaDWMTw",
        "colab_type": "text"
      },
      "source": [
        "A partir de Caltech 101 dataset \n",
        "- Original en http://www.vision.caltech.edu/Image_Datasets/Caltech101/#Download\n",
        "- Preprocesado subido al gdrive https://drive.google.com/open?id=1ziDd-Au-Fn8XneBeDQya9MjPBoTpDqqK"
      ]
    },
    {
      "cell_type": "code",
      "metadata": {
        "id": "u0Afsh1lWMTz",
        "colab_type": "code",
        "outputId": "046d177b-2c2a-42d3-bce4-afb61217e373",
        "colab": {
          "base_uri": "https://localhost:8080/",
          "height": 34
        }
      },
      "source": [
        "###################################################################################################\n",
        "# La utilizacion de un directorio base es obligatoria\n",
        "# Todas las referencias al disco duro (guardar o cargar) deberan tener esta variable como base\n",
        "###################################################################################################\n",
        "BASE_FOLDER = '/content/drive/My Drive/IA/redes_neuronales_y_deep_learning/actividad1_DeepVision/'\n",
        "###################################################################################################\n",
        "\n",
        "from google.colab import drive\n",
        "drive.mount('/content/drive/')"
      ],
      "execution_count": 0,
      "outputs": [
        {
          "output_type": "stream",
          "text": [
            "Drive already mounted at /content/drive/; to attempt to forcibly remount, call drive.mount(\"/content/drive/\", force_remount=True).\n"
          ],
          "name": "stdout"
        }
      ]
    },
    {
      "cell_type": "code",
      "metadata": {
        "id": "hbrFU882WMT_",
        "colab_type": "code",
        "colab": {}
      },
      "source": [
        "import os\n",
        "import numpy as np\n",
        "import pandas as pd\n",
        "import matplotlib.pyplot as plt\n",
        "import matplotlib.image as mpimg\n",
        "import tarfile\n",
        "import pickle\n",
        "%matplotlib inline"
      ],
      "execution_count": 0,
      "outputs": []
    },
    {
      "cell_type": "code",
      "metadata": {
        "id": "1FSz6160WMUE",
        "colab_type": "code",
        "colab": {}
      },
      "source": [
        "# DESCARGAR Y DESCOMPRIMIR EL DATASET CALTECH_PREPROCESADO DEL GDRIVE\n",
        "# Cargar las ndarrays\n",
        "with open(BASE_FOLDER+\"pickle_all_images_df.pickle\", \"rb\") as input_file:\n",
        "    x_train = pickle.load(input_file)\n",
        "with open(BASE_FOLDER+\"pickle_all_classes.pickle\", \"rb\") as input_file:\n",
        "    y_train = pickle.load(input_file)\n"
      ],
      "execution_count": 0,
      "outputs": []
    },
    {
      "cell_type": "code",
      "metadata": {
        "id": "qpVrHX8bWMUK",
        "colab_type": "code",
        "outputId": "cd2ff396-c23b-46a5-ad5d-94e5b93dd360",
        "colab": {
          "base_uri": "https://localhost:8080/",
          "height": 51
        }
      },
      "source": [
        "print(x_train.shape)\n",
        "print(len(y_train))"
      ],
      "execution_count": 0,
      "outputs": [
        {
          "output_type": "stream",
          "text": [
            "(9145, 128, 128, 3)\n",
            "9145\n"
          ],
          "name": "stdout"
        }
      ]
    },
    {
      "cell_type": "code",
      "metadata": {
        "id": "YiLHUZf3WMUN",
        "colab_type": "code",
        "outputId": "ef435efc-17b1-4bd7-f27e-74fb89a2060a",
        "colab": {
          "base_uri": "https://localhost:8080/",
          "height": 268
        }
      },
      "source": [
        "# show image\n",
        "imgplot = plt.imshow(x_train[0])\n",
        "plt.show()"
      ],
      "execution_count": 0,
      "outputs": [
        {
          "output_type": "display_data",
          "data": {
            "image/png": "[encoded data removed]",
            "text/plain": [
              "<Figure size 432x288 with 1 Axes>"
            ]
          },
          "metadata": {
            "tags": []
          }
        }
      ]
    },
    {
      "cell_type": "code",
      "metadata": {
        "id": "kDiaiivwAR3Y",
        "colab_type": "code",
        "outputId": "f0e6186e-b815-41fe-f6e7-42f9e8d0ac07",
        "colab": {
          "base_uri": "https://localhost:8080/",
          "height": 34
        }
      },
      "source": [
        "y_train[0]"
      ],
      "execution_count": 0,
      "outputs": [
        {
          "output_type": "execute_result",
          "data": {
            "text/plain": [
              "'accordion'"
            ]
          },
          "metadata": {
            "tags": []
          },
          "execution_count": 23
        }
      ]
    },
    {
      "cell_type": "code",
      "metadata": {
        "id": "FVDeZqkMWMUP",
        "colab_type": "code",
        "colab": {}
      },
      "source": [
        "# Transformando las labels de texto a valores numéricos\n",
        "y = np.unique(y_train)\n",
        "mapping = { key : value for key,value in zip(y,range(len(y)))}\n",
        "processed_y = np.array([mapping[i] for i in y_train])"
      ],
      "execution_count": 0,
      "outputs": []
    },
    {
      "cell_type": "code",
      "metadata": {
        "id": "pRjLXRZmYypK",
        "colab_type": "code",
        "colab": {}
      },
      "source": [
        "# transformar datos: pasa a one hot encoding\n",
        "from keras.utils import to_categorical\n",
        "\n",
        "processed_y_ohe = to_categorical(processed_y)"
      ],
      "execution_count": 0,
      "outputs": []
    },
    {
      "cell_type": "code",
      "metadata": {
        "id": "oZkpdnBVAzr0",
        "colab_type": "code",
        "outputId": "fc5e7a98-0291-45b9-bb11-8eb0320a623a",
        "colab": {
          "base_uri": "https://localhost:8080/",
          "height": 357
        }
      },
      "source": [
        "y"
      ],
      "execution_count": 0,
      "outputs": [
        {
          "output_type": "execute_result",
          "data": {
            "text/plain": [
              "array(['BACKGROUND_Google', 'Faces', 'Faces_easy', 'Leopards',\n",
              "       'Motorbikes', 'accordion', 'airplanes', 'anchor', 'ant', 'barrel',\n",
              "       'bass', 'beaver', 'binocular', 'bonsai', 'brain', 'brontosaurus',\n",
              "       'buddha', 'butterfly', 'camera', 'cannon', 'car_side',\n",
              "       'ceiling_fan', 'cellphone', 'chair', 'chandelier', 'cougar_body',\n",
              "       'cougar_face', 'crab', 'crayfish', 'crocodile', 'crocodile_head',\n",
              "       'cup', 'dalmatian', 'dollar_bill', 'dolphin', 'dragonfly',\n",
              "       'electric_guitar', 'elephant', 'emu', 'euphonium', 'ewer', 'ferry',\n",
              "       'flamingo', 'flamingo_head', 'garfield', 'gerenuk', 'gramophone',\n",
              "       'grand_piano', 'hawksbill', 'headphone', 'hedgehog', 'helicopter',\n",
              "       'ibis', 'inline_skate', 'joshua_tree', 'kangaroo', 'ketch', 'lamp',\n",
              "       'laptop', 'llama', 'lobster', 'lotus', 'mandolin', 'mayfly',\n",
              "       'menorah', 'metronome', 'minaret', 'nautilus', 'octopus', 'okapi',\n",
              "       'pagoda', 'panda', 'pigeon', 'pizza', 'platypus', 'pyramid',\n",
              "       'revolver', 'rhino', 'rooster', 'saxophone', 'schooner',\n",
              "       'scissors', 'scorpion', 'sea_horse', 'snoopy', 'soccer_ball',\n",
              "       'stapler', 'starfish', 'stegosaurus', 'stop_sign', 'strawberry',\n",
              "       'sunflower', 'tick', 'trilobite', 'umbrella', 'watch',\n",
              "       'water_lilly', 'wheelchair', 'wild_cat', 'windsor_chair', 'wrench',\n",
              "       'yin_yang'], dtype='<U17')"
            ]
          },
          "metadata": {
            "tags": []
          },
          "execution_count": 26
        }
      ]
    },
    {
      "cell_type": "code",
      "metadata": {
        "id": "9FoGhBWGF3uw",
        "colab_type": "code",
        "outputId": "ee4f8ed5-d5af-46b8-bf3f-70ec73c954c8",
        "colab": {
          "base_uri": "https://localhost:8080/",
          "height": 102
        }
      },
      "source": [
        "print(processed_y[0], processed_y_ohe[0])"
      ],
      "execution_count": 0,
      "outputs": [
        {
          "output_type": "stream",
          "text": [
            "5 [0. 0. 0. 0. 0. 1. 0. 0. 0. 0. 0. 0. 0. 0. 0. 0. 0. 0. 0. 0. 0. 0. 0. 0.\n",
            " 0. 0. 0. 0. 0. 0. 0. 0. 0. 0. 0. 0. 0. 0. 0. 0. 0. 0. 0. 0. 0. 0. 0. 0.\n",
            " 0. 0. 0. 0. 0. 0. 0. 0. 0. 0. 0. 0. 0. 0. 0. 0. 0. 0. 0. 0. 0. 0. 0. 0.\n",
            " 0. 0. 0. 0. 0. 0. 0. 0. 0. 0. 0. 0. 0. 0. 0. 0. 0. 0. 0. 0. 0. 0. 0. 0.\n",
            " 0. 0. 0. 0. 0. 0.]\n"
          ],
          "name": "stdout"
        }
      ]
    },
    {
      "cell_type": "code",
      "metadata": {
        "id": "s8m2wWn8S9ZP",
        "colab_type": "code",
        "outputId": "811ed8c1-2468-4c30-be7d-76fa80c19aa5",
        "colab": {
          "base_uri": "https://localhost:8080/",
          "height": 34
        }
      },
      "source": [
        "#n clases\n",
        "len(y)"
      ],
      "execution_count": 0,
      "outputs": [
        {
          "output_type": "execute_result",
          "data": {
            "text/plain": [
              "102"
            ]
          },
          "metadata": {
            "tags": []
          },
          "execution_count": 28
        }
      ]
    },
    {
      "cell_type": "markdown",
      "metadata": {
        "id": "7-M5g-RpFkja",
        "colab_type": "text"
      },
      "source": [
        "# ESTRATEGIA 1: Red preentrenada\n",
        "\n",
        "- Red preentrenada con el dataset: ImageNet.\n",
        "- Tareas de Transfer Learning para clasificar los objetos de Caltech 101.\n",
        "- Comparar al menos dos arquitecturas: VGG16, VGG19, ResNet50, Xception, InceptionV3, InceptionResNetV2, MobileNetV2, DenseNet, RasNet; y seleccionar la que mayor precisión nos dé (info sobre arquitecturas en  https://keras.io/applications/)"
      ]
    },
    {
      "cell_type": "markdown",
      "metadata": {
        "id": "RcCKcaEVHBX5",
        "colab_type": "text"
      },
      "source": [
        "Se pide emplear la técnica de Transfer Learning, por lo que se importa el Base Model sin ninguna modificación (cualquier tipo de modificación significaría estar haciendo uso de la técnica de Fine Tunning distinta de la pedida).\n",
        "\n",
        "Cuanto más se parezcan los dominios de los datasets, mejores resultados se obtendrán."
      ]
    },
    {
      "cell_type": "markdown",
      "metadata": {
        "id": "hVOa2BnMPJ5A",
        "colab_type": "text"
      },
      "source": [
        "Por paramétrica, el dataset que más parámetros entrenados tiene es el VGG19:\n",
        "\n",
        "input_shape: optional shape tuple, only to be specified if include_top is False (otherwise the input shape has to be (224, 224, 3) (with 'channels_last' data format) or (3, 224, 224) (with 'channels_first' data format). It should have exactly 3 inputs channels, and width and height should be no smaller than 32. E.g. (200, 200, 3) would be one valid value."
      ]
    },
    {
      "cell_type": "code",
      "metadata": {
        "id": "OxIdxvBw7jQ6",
        "colab_type": "code",
        "colab": {}
      },
      "source": [
        "from sklearn.model_selection import train_test_split\n",
        "x_train_subset, x_test_subset, y_train_subset, y_test_subset = train_test_split(x_train, processed_y_ohe, test_size=0.2, random_state=42)"
      ],
      "execution_count": 0,
      "outputs": []
    },
    {
      "cell_type": "markdown",
      "metadata": {
        "id": "0652W-p78o_u",
        "colab_type": "text"
      },
      "source": [
        "### VGG16\n",
        "\n",
        "CARACTERÍSTICAS: \n",
        "- Size: 232 MB\t\n",
        "- Top-1 Accuracy: 0.713\t\n",
        "- Accuracy: 0.901\t\n",
        "- Parameters: 138,357,544\t\n",
        "- Depth: 23"
      ]
    },
    {
      "cell_type": "code",
      "metadata": {
        "id": "-4P_ojt7Fyfo",
        "colab_type": "code",
        "outputId": "e552c7ea-7507-4c00-dc36-c109aa65741c",
        "colab": {
          "base_uri": "https://localhost:8080/",
          "height": 1000
        }
      },
      "source": [
        "# =============================================================================\n",
        "# IMPORTACIÓN DEL BASE MODEL DE VGG16\n",
        "# =============================================================================\n",
        "from keras.applications import VGG16\n",
        "\n",
        "conv_base = VGG16(weights='imagenet',\n",
        "                 include_top=False, # incluir la parte densa (fully connected)\n",
        "                 input_shape=(128,128,3))\n",
        "\n",
        "conv_base.summary()"
      ],
      "execution_count": 0,
      "outputs": [
        {
          "output_type": "stream",
          "text": [
            "Downloading data from https://github.com/fchollet/deep-learning-models/releases/download/v0.1/vgg16_weights_tf_dim_ordering_tf_kernels_notop.h5\n",
            "58892288/58889256 [==============================] - 2s 0us/step\n",
            "WARNING:tensorflow:From /usr/local/lib/python3.6/dist-packages/keras/backend/tensorflow_backend.py:190: The name tf.get_default_session is deprecated. Please use tf.compat.v1.get_default_session instead.\n",
            "\n",
            "WARNING:tensorflow:From /usr/local/lib/python3.6/dist-packages/keras/backend/tensorflow_backend.py:197: The name tf.ConfigProto is deprecated. Please use tf.compat.v1.ConfigProto instead.\n",
            "\n",
            "WARNING:tensorflow:From /usr/local/lib/python3.6/dist-packages/keras/backend/tensorflow_backend.py:203: The name tf.Session is deprecated. Please use tf.compat.v1.Session instead.\n",
            "\n",
            "WARNING:tensorflow:From /usr/local/lib/python3.6/dist-packages/keras/backend/tensorflow_backend.py:207: The name tf.global_variables is deprecated. Please use tf.compat.v1.global_variables instead.\n",
            "\n",
            "WARNING:tensorflow:From /usr/local/lib/python3.6/dist-packages/keras/backend/tensorflow_backend.py:216: The name tf.is_variable_initialized is deprecated. Please use tf.compat.v1.is_variable_initialized instead.\n",
            "\n",
            "WARNING:tensorflow:From /usr/local/lib/python3.6/dist-packages/keras/backend/tensorflow_backend.py:223: The name tf.variables_initializer is deprecated. Please use tf.compat.v1.variables_initializer instead.\n",
            "\n",
            "Model: \"vgg16\"\n",
            "_________________________________________________________________\n",
            "Layer (type)                 Output Shape              Param #   \n",
            "=================================================================\n",
            "input_1 (InputLayer)         (None, 128, 128, 3)       0         \n",
            "_________________________________________________________________\n",
            "block1_conv1 (Conv2D)        (None, 128, 128, 64)      1792      \n",
            "_________________________________________________________________\n",
            "block1_conv2 (Conv2D)        (None, 128, 128, 64)      36928     \n",
            "_________________________________________________________________\n",
            "block1_pool (MaxPooling2D)   (None, 64, 64, 64)        0         \n",
            "_________________________________________________________________\n",
            "block2_conv1 (Conv2D)        (None, 64, 64, 128)       73856     \n",
            "_________________________________________________________________\n",
            "block2_conv2 (Conv2D)        (None, 64, 64, 128)       147584    \n",
            "_________________________________________________________________\n",
            "block2_pool (MaxPooling2D)   (None, 32, 32, 128)       0         \n",
            "_________________________________________________________________\n",
            "block3_conv1 (Conv2D)        (None, 32, 32, 256)       295168    \n",
            "_________________________________________________________________\n",
            "block3_conv2 (Conv2D)        (None, 32, 32, 256)       590080    \n",
            "_________________________________________________________________\n",
            "block3_conv3 (Conv2D)        (None, 32, 32, 256)       590080    \n",
            "_________________________________________________________________\n",
            "block3_pool (MaxPooling2D)   (None, 16, 16, 256)       0         \n",
            "_________________________________________________________________\n",
            "block4_conv1 (Conv2D)        (None, 16, 16, 512)       1180160   \n",
            "_________________________________________________________________\n",
            "block4_conv2 (Conv2D)        (None, 16, 16, 512)       2359808   \n",
            "_________________________________________________________________\n",
            "block4_conv3 (Conv2D)        (None, 16, 16, 512)       2359808   \n",
            "_________________________________________________________________\n",
            "block4_pool (MaxPooling2D)   (None, 8, 8, 512)         0         \n",
            "_________________________________________________________________\n",
            "block5_conv1 (Conv2D)        (None, 8, 8, 512)         2359808   \n",
            "_________________________________________________________________\n",
            "block5_conv2 (Conv2D)        (None, 8, 8, 512)         2359808   \n",
            "_________________________________________________________________\n",
            "block5_conv3 (Conv2D)        (None, 8, 8, 512)         2359808   \n",
            "_________________________________________________________________\n",
            "block5_pool (MaxPooling2D)   (None, 4, 4, 512)         0         \n",
            "=================================================================\n",
            "Total params: 14,714,688\n",
            "Trainable params: 14,714,688\n",
            "Non-trainable params: 0\n",
            "_________________________________________________________________\n"
          ],
          "name": "stdout"
        }
      ]
    },
    {
      "cell_type": "code",
      "metadata": {
        "id": "NWrvc8ZEPgsT",
        "colab_type": "code",
        "outputId": "39226256-2de9-4058-e687-b49d8f7af6fc",
        "colab": {
          "base_uri": "https://localhost:8080/",
          "height": 357
        }
      },
      "source": [
        "# =============================================================================\n",
        "# TOP MODEL\n",
        "# =============================================================================\n",
        "# conectarlo a nueva parte densa\n",
        "from keras import models\n",
        "from keras import layers\n",
        "\n",
        "number_of_classes = len(y)\n",
        "\n",
        "conv_base.trainable = False # evitar que los pesos se modifiquen en la parte convolucional\n",
        "pre_trained_model = models.Sequential()\n",
        "pre_trained_model.add(conv_base) # añado el Base Model importado\n",
        "pre_trained_model.add(layers.Flatten())\n",
        "pre_trained_model.add(layers.Dropout(0.25)) #dropout\n",
        "pre_trained_model.add(layers.Dense(256, activation='relu'))\n",
        "pre_trained_model.add(layers.Dropout(0.5)) #dropout\n",
        "pre_trained_model.add(layers.Dense(number_of_classes, activation='softmax'))\n",
        "\n",
        "pre_trained_model.summary()"
      ],
      "execution_count": 0,
      "outputs": [
        {
          "output_type": "stream",
          "text": [
            "Model: \"sequential_3\"\n",
            "_________________________________________________________________\n",
            "Layer (type)                 Output Shape              Param #   \n",
            "=================================================================\n",
            "vgg16 (Model)                (None, 4, 4, 512)         14714688  \n",
            "_________________________________________________________________\n",
            "flatten_3 (Flatten)          (None, 8192)              0         \n",
            "_________________________________________________________________\n",
            "dropout_7 (Dropout)          (None, 8192)              0         \n",
            "_________________________________________________________________\n",
            "dense_3 (Dense)              (None, 256)               2097408   \n",
            "_________________________________________________________________\n",
            "dropout_8 (Dropout)          (None, 256)               0         \n",
            "_________________________________________________________________\n",
            "dense_4 (Dense)              (None, 102)               26214     \n",
            "=================================================================\n",
            "Total params: 16,838,310\n",
            "Trainable params: 2,123,622\n",
            "Non-trainable params: 14,714,688\n",
            "_________________________________________________________________\n"
          ],
          "name": "stdout"
        }
      ]
    },
    {
      "cell_type": "code",
      "metadata": {
        "id": "JhNJuyoWSXEw",
        "colab_type": "code",
        "colab": {}
      },
      "source": [
        "# =============================================================================\n",
        "# COMPILACIÓN\n",
        "# =============================================================================\n",
        "pre_trained_model.compile(optimizer='rmsprop',\n",
        "               loss='categorical_crossentropy',\n",
        "               metrics=['accuracy'])"
      ],
      "execution_count": 0,
      "outputs": []
    },
    {
      "cell_type": "markdown",
      "metadata": {
        "id": "RNs2Fpbvq0BO",
        "colab_type": "text"
      },
      "source": [
        "### Data Aumentation\n",
        "\n",
        "Para paliar el overfitting, vamos a incrementar el número de ejemplos ejemplos. Se empleará para ello Data augmentation, que genera datos a partir de los presentes a través de transformaciones geométricas y de intensidad.\n"
      ]
    },
    {
      "cell_type": "code",
      "metadata": {
        "id": "WNNIGlFfUDB-",
        "colab_type": "code",
        "colab": {}
      },
      "source": [
        "# =============================================================================\n",
        "# DATA AUGMENTATION\n",
        "# =============================================================================\n",
        "from keras.preprocessing.image import ImageDataGenerator\n",
        "\n",
        "datagen = ImageDataGenerator(\n",
        "    rotation_range=10, # grados de rotacion aleatoria\n",
        "    width_shift_range=0.1, # fraccion del total (1) para mover la imagen\n",
        "    height_shift_range=0.1, # fraccion del total (1) para mover la imagen\n",
        "    shear_range=0, # deslizamiento\n",
        "    zoom_range=0.1, # rango de zoom\n",
        "    horizontal_flip=True, # girar las imagenes horizontalmente (eje vertical)\n",
        "    fill_mode='nearest', # como rellenar posibles nuevos pixeles\n",
        "    channel_shift_range=0.2 # cambios aleatorios en los canales de la imagen\n",
        "    )"
      ],
      "execution_count": 0,
      "outputs": []
    },
    {
      "cell_type": "code",
      "metadata": {
        "id": "95qEdBnmui2F",
        "colab_type": "code",
        "outputId": "d2ebf0ce-f33a-41a2-aa17-415e6d8f7054",
        "colab": {
          "base_uri": "https://localhost:8080/",
          "height": 476
        }
      },
      "source": [
        "# =============================================================================\n",
        "# ENTRENAMIENTO\n",
        "# =============================================================================\n",
        "# es necesario especificar el numero de steps cuando se usa un generator (para saber cuando dejar de generar datos en una epoca)\n",
        "batch_size = 64\n",
        "num_samples = x_train_subset.shape[0] * 2 # multiplicar por 2 el numero de ejemplos\n",
        "\n",
        "# Fit the model on the batches generated by datagen.flow().\n",
        "history_pretrained = pre_trained_model.fit_generator(datagen.flow(x_train_subset, y_train_subset, batch_size=batch_size),\n",
        "                            epochs=10,\n",
        "                            validation_data=(x_test_subset, y_test_subset),\n",
        "                            #workers=4,\n",
        "                            steps_per_epoch=num_samples//batch_size                                          \n",
        "                            )"
      ],
      "execution_count": 0,
      "outputs": [
        {
          "output_type": "stream",
          "text": [
            "WARNING:tensorflow:From /usr/local/lib/python3.6/dist-packages/tensorflow_core/python/ops/math_grad.py:1424: where (from tensorflow.python.ops.array_ops) is deprecated and will be removed in a future version.\n",
            "Instructions for updating:\n",
            "Use tf.where in 2.0, which has the same broadcast rule as np.where\n",
            "WARNING:tensorflow:From /usr/local/lib/python3.6/dist-packages/keras/backend/tensorflow_backend.py:1033: The name tf.assign_add is deprecated. Please use tf.compat.v1.assign_add instead.\n",
            "\n",
            "WARNING:tensorflow:From /usr/local/lib/python3.6/dist-packages/keras/backend/tensorflow_backend.py:1020: The name tf.assign is deprecated. Please use tf.compat.v1.assign instead.\n",
            "\n",
            "Epoch 1/10\n",
            "228/228 [==============================] - 61s 270ms/step - loss: 2.6618 - acc: 0.4249 - val_loss: 1.4591 - val_acc: 0.6299\n",
            "Epoch 2/10\n",
            "228/228 [==============================] - 58s 256ms/step - loss: 1.6493 - acc: 0.5925 - val_loss: 1.0545 - val_acc: 0.7130\n",
            "Epoch 3/10\n",
            "228/228 [==============================] - 57s 252ms/step - loss: 1.3569 - acc: 0.6476 - val_loss: 0.9074 - val_acc: 0.7518\n",
            "Epoch 4/10\n",
            "228/228 [==============================] - 58s 252ms/step - loss: 1.1883 - acc: 0.6882 - val_loss: 0.8211 - val_acc: 0.7704\n",
            "Epoch 5/10\n",
            "228/228 [==============================] - 57s 250ms/step - loss: 1.1103 - acc: 0.7064 - val_loss: 0.8477 - val_acc: 0.7704\n",
            "Epoch 6/10\n",
            "228/228 [==============================] - 57s 249ms/step - loss: 1.0378 - acc: 0.7269 - val_loss: 0.7638 - val_acc: 0.7879\n",
            "Epoch 7/10\n",
            "228/228 [==============================] - 57s 251ms/step - loss: 0.9949 - acc: 0.7313 - val_loss: 0.7858 - val_acc: 0.7922\n",
            "Epoch 8/10\n",
            "228/228 [==============================] - 57s 250ms/step - loss: 0.9655 - acc: 0.7465 - val_loss: 0.7465 - val_acc: 0.8015\n",
            "Epoch 9/10\n",
            "228/228 [==============================] - 57s 251ms/step - loss: 0.9096 - acc: 0.7538 - val_loss: 0.7686 - val_acc: 0.7983\n",
            "Epoch 10/10\n",
            "228/228 [==============================] - 57s 250ms/step - loss: 0.9196 - acc: 0.7562 - val_loss: 0.7299 - val_acc: 0.8103\n"
          ],
          "name": "stdout"
        }
      ]
    },
    {
      "cell_type": "code",
      "metadata": {
        "id": "hpFIgG2GZJvT",
        "colab_type": "code",
        "outputId": "cdf821c3-f8e7-4d70-b895-2a69b42680f3",
        "colab": {
          "base_uri": "https://localhost:8080/",
          "height": 573
        }
      },
      "source": [
        "# =============================================================================\n",
        "# GRÁFICAS\n",
        "# =============================================================================\n",
        "\n",
        "#plot loss\n",
        "\n",
        "epochs = np.arange(1,len(history_pretrained.history['loss'])+1)\n",
        "plt.title('Loss over training')\n",
        "plt.xlabel('epoch')\n",
        "plt.ylabel('loss')\n",
        "plt.plot(epochs,history_pretrained.history['loss'],'r',label='training loss')\n",
        "plt.plot(epochs,history_pretrained.history['val_loss'],'b',label='validation loss')\n",
        "plt.legend(loc='best')\n",
        "plt.show()\n",
        "\n",
        "#plot accuracy\n",
        "\n",
        "epochs = np.arange(1,len(history_pretrained.history['acc'])+1)\n",
        "plt.title('Accuracy over training')\n",
        "plt.xlabel('epoch')\n",
        "plt.ylabel('accuracy')\n",
        "plt.plot(epochs,history_pretrained.history['acc'],'r',label='training accuracy')\n",
        "plt.plot(epochs,history_pretrained.history['val_acc'],'b',label='validation accuracy')\n",
        "plt.legend(loc='best')\n",
        "plt.show()"
      ],
      "execution_count": 0,
      "outputs": [
        {
          "output_type": "display_data",
          "data": {
            "image/png": "[encoded data removed]",
            "text/plain": [
              "<Figure size 432x288 with 1 Axes>"
            ]
          },
          "metadata": {
            "tags": []
          }
        },
        {
          "output_type": "display_data",
          "data": {
            "image/png": "[encoded data removed]",
            "text/plain": [
              "<Figure size 432x288 with 1 Axes>"
            ]
          },
          "metadata": {
            "tags": []
          }
        }
      ]
    },
    {
      "cell_type": "markdown",
      "metadata": {
        "id": "UrY__r98QSTs",
        "colab_type": "text"
      },
      "source": [
        "Evaluar el modelo con el set de test"
      ]
    },
    {
      "cell_type": "code",
      "metadata": {
        "id": "XLj7IV6kQP23",
        "colab_type": "code",
        "outputId": "0ee16b80-ded8-4498-f387-4c5c7b820123",
        "colab": {
          "base_uri": "https://localhost:8080/",
          "height": 34
        }
      },
      "source": [
        "# =============================================================================\n",
        "# EVALUACIÓN\n",
        "# =============================================================================\n",
        "loss, accuracy = pre_trained_model.evaluate(x_test_subset,y_test_subset)"
      ],
      "execution_count": 0,
      "outputs": [
        {
          "output_type": "stream",
          "text": [
            "1829/1829 [==============================] - 2s 1ms/step\n"
          ],
          "name": "stdout"
        }
      ]
    },
    {
      "cell_type": "code",
      "metadata": {
        "id": "Yb4z68sfZ1ED",
        "colab_type": "code",
        "outputId": "1e068594-76d5-4e39-ce2a-8f9293d285ce",
        "colab": {
          "base_uri": "https://localhost:8080/",
          "height": 34
        }
      },
      "source": [
        "print('Loss {}, accuracy {}'.format(loss,accuracy))"
      ],
      "execution_count": 0,
      "outputs": [
        {
          "output_type": "stream",
          "text": [
            "Loss 0.7298635574166666, accuracy 0.8102788409292535\n"
          ],
          "name": "stdout"
        }
      ]
    },
    {
      "cell_type": "code",
      "metadata": {
        "id": "wjwmdNxLiq9c",
        "colab_type": "code",
        "outputId": "bce42983-7d36-4675-f581-6d9c12187c12",
        "colab": {
          "base_uri": "https://localhost:8080/",
          "height": 145
        }
      },
      "source": [
        "# =============================================================================\n",
        "# IMAGEN DE NUESTRO SET DE TEST\n",
        "# =============================================================================\n",
        "# Tomamos una imagen de nuestro test set aleatoriamente:\n",
        "from keras.preprocessing import image \n",
        "\n",
        "SAMPLE = 122\n",
        "\n",
        "img = x_test_subset[SAMPLE,:,:,:]\n",
        "\n",
        "image.array_to_img(img)"
      ],
      "execution_count": 0,
      "outputs": [
        {
          "output_type": "execute_result",
          "data": {
            "image/png": "[encoded data removed]",
            "text/plain": [
              "<PIL.Image.Image image mode=RGB size=128x128 at 0x7F6E284D9588>"
            ]
          },
          "metadata": {
            "tags": []
          },
          "execution_count": 38
        }
      ]
    },
    {
      "cell_type": "code",
      "metadata": {
        "id": "hWB4AJsbnf5Z",
        "colab_type": "code",
        "outputId": "67352ee9-b78f-4aad-d20f-9113433af6cc",
        "colab": {
          "base_uri": "https://localhost:8080/",
          "height": 459
        }
      },
      "source": [
        "# Generamos las predicciones:\n",
        "predictions = pre_trained_model.predict(img.reshape(1,128,128,3))\n",
        "\n",
        "predictions"
      ],
      "execution_count": 0,
      "outputs": [
        {
          "output_type": "execute_result",
          "data": {
            "text/plain": [
              "array([[4.92727524e-03, 1.91135161e-08, 6.51578480e-09, 1.44566172e-08,\n",
              "        5.21598729e-08, 1.95040339e-08, 8.53377785e-12, 5.22156188e-06,\n",
              "        2.24475189e-05, 3.89010211e-08, 1.32776306e-08, 3.64416303e-10,\n",
              "        4.84970180e-08, 2.70558353e-09, 1.53639812e-05, 4.09730738e-09,\n",
              "        1.49896650e-07, 9.94600654e-01, 1.45171644e-11, 8.43518990e-07,\n",
              "        8.74941531e-14, 2.82585643e-06, 2.22164296e-08, 7.25070265e-07,\n",
              "        9.09295341e-05, 4.59270427e-10, 1.53835699e-05, 8.52655467e-06,\n",
              "        2.62976954e-07, 1.10942826e-11, 1.52119428e-11, 1.45620027e-06,\n",
              "        7.44089164e-07, 8.81277551e-10, 1.11003895e-09, 1.28019834e-04,\n",
              "        9.59487156e-09, 2.07615281e-09, 3.55539198e-09, 1.04231228e-08,\n",
              "        1.87325611e-07, 2.06518039e-10, 9.66408180e-08, 1.72861905e-10,\n",
              "        2.80788839e-07, 6.99523469e-12, 3.91125951e-07, 2.58112443e-09,\n",
              "        3.76251164e-09, 2.50073384e-07, 2.60277688e-10, 1.28047759e-08,\n",
              "        1.94273930e-09, 1.26107102e-11, 1.57619751e-09, 3.22535088e-09,\n",
              "        4.81409117e-08, 5.66821114e-08, 4.53815929e-10, 4.63393945e-09,\n",
              "        1.82870917e-05, 2.55477516e-06, 1.51278829e-08, 3.70624491e-08,\n",
              "        3.14243516e-05, 3.43752027e-10, 1.09141707e-09, 6.22269658e-09,\n",
              "        1.65095134e-05, 6.84207009e-07, 1.57464708e-09, 1.66768854e-09,\n",
              "        5.12053976e-11, 1.24813675e-06, 8.61742899e-11, 2.18544613e-10,\n",
              "        6.38670575e-11, 2.97449357e-11, 1.25351832e-07, 5.50078823e-07,\n",
              "        1.90716998e-09, 4.66367667e-10, 6.89368107e-07, 6.70655531e-10,\n",
              "        6.97240125e-07, 7.60170451e-08, 2.11514573e-11, 3.91791618e-05,\n",
              "        5.21069454e-09, 2.29535946e-08, 1.58782697e-07, 2.12062574e-07,\n",
              "        8.89984676e-06, 1.91129862e-10, 9.91823185e-07, 3.42678359e-05,\n",
              "        4.86399631e-06, 6.16892748e-07, 1.42348872e-05, 1.24314499e-06,\n",
              "        1.50977231e-09, 9.12209241e-09]], dtype=float32)"
            ]
          },
          "metadata": {
            "tags": []
          },
          "execution_count": 39
        }
      ]
    },
    {
      "cell_type": "code",
      "metadata": {
        "id": "ReaLnhfmkpkY",
        "colab_type": "code",
        "outputId": "4315361c-5093-44e4-8f92-f588e71b029b",
        "colab": {
          "base_uri": "https://localhost:8080/",
          "height": 34
        }
      },
      "source": [
        "# La mayor de las probabilidades será la clasificada:\n",
        "clasification = y[np.argmax(predictions)]\n",
        "percentage = np.max(predictions)*100\n",
        "\n",
        "print('El modelo clasifica la imagen en {} con una precisión de {}%'.format(clasification,round(percentage,2)))"
      ],
      "execution_count": 0,
      "outputs": [
        {
          "output_type": "stream",
          "text": [
            "El modelo clasifica la imagen en butterfly con una precisión de 99.46%\n"
          ],
          "name": "stdout"
        }
      ]
    },
    {
      "cell_type": "code",
      "metadata": {
        "id": "bKMLrqhYQm82",
        "colab_type": "code",
        "outputId": "2aeac79c-d80c-4825-f28d-6b10200de454",
        "colab": {
          "base_uri": "https://localhost:8080/",
          "height": 145
        }
      },
      "source": [
        "# =============================================================================\n",
        "# IMAGEN EXTERNA A CUALQUIER SET\n",
        "# =============================================================================\n",
        "# cargar imagen \n",
        "img2 = image.load_img(BASE_FOLDER+'brain.jpg', target_size=(128,128))\n",
        "x = image.img_to_array(img2) # a array de (128,128,3)\n",
        "x = np.expand_dims(x, axis=0) # a array de (1,128,128,3)\n",
        "img2\n"
      ],
      "execution_count": 0,
      "outputs": [
        {
          "output_type": "execute_result",
          "data": {
            "image/png": "[encoded data removed]",
            "text/plain": [
              "<PIL.Image.Image image mode=RGB size=128x128 at 0x7F6E521BE6D8>"
            ]
          },
          "metadata": {
            "tags": []
          },
          "execution_count": 41
        }
      ]
    },
    {
      "cell_type": "code",
      "metadata": {
        "id": "i4kGXIdQoT27",
        "colab_type": "code",
        "outputId": "e71b653e-f63e-44af-a1fb-1d44791acddd",
        "colab": {
          "base_uri": "https://localhost:8080/",
          "height": 136
        }
      },
      "source": [
        "# Generamos las predicciones:\n",
        "predictions = pre_trained_model.predict(x)\n",
        "\n",
        "predictions"
      ],
      "execution_count": 0,
      "outputs": [
        {
          "output_type": "execute_result",
          "data": {
            "text/plain": [
              "array([[0., 0., 0., 0., 0., 0., 0., 0., 0., 0., 0., 0., 0., 0., 1., 0.,\n",
              "        0., 0., 0., 0., 0., 0., 0., 0., 0., 0., 0., 0., 0., 0., 0., 0.,\n",
              "        0., 0., 0., 0., 0., 0., 0., 0., 0., 0., 0., 0., 0., 0., 0., 0.,\n",
              "        0., 0., 0., 0., 0., 0., 0., 0., 0., 0., 0., 0., 0., 0., 0., 0.,\n",
              "        0., 0., 0., 0., 0., 0., 0., 0., 0., 0., 0., 0., 0., 0., 0., 0.,\n",
              "        0., 0., 0., 0., 0., 0., 0., 0., 0., 0., 0., 0., 0., 0., 0., 0.,\n",
              "        0., 0., 0., 0., 0., 0.]], dtype=float32)"
            ]
          },
          "metadata": {
            "tags": []
          },
          "execution_count": 42
        }
      ]
    },
    {
      "cell_type": "code",
      "metadata": {
        "id": "sVDYqrHLpfUH",
        "colab_type": "code",
        "outputId": "36a37e74-f611-4454-ae97-ae63708b7b69",
        "colab": {
          "base_uri": "https://localhost:8080/",
          "height": 34
        }
      },
      "source": [
        "clasification = y[np.argmax(predictions)]\n",
        "percentage = np.max(predictions)*100\n",
        "\n",
        "print('El modelo clasifica la imagen en {} con una precisión de {}%'.format(clasification,round(percentage,2)))"
      ],
      "execution_count": 0,
      "outputs": [
        {
          "output_type": "stream",
          "text": [
            "El modelo clasifica la imagen en brain con una precisión de 100.0%\n"
          ],
          "name": "stdout"
        }
      ]
    },
    {
      "cell_type": "markdown",
      "metadata": {
        "id": "GVaa1nam7zt_",
        "colab_type": "text"
      },
      "source": [
        "# VGG19\n",
        "\n",
        "CARACTERÍSTICAS: \n",
        "- Size: 549 MB\t\t\n",
        "- Top-1 Accuracy: 0.713\t\n",
        "- Top-5 Accuracy: 0.900\t\n",
        "- Parameters: 143,667,240\t\n",
        "- Depth: 16"
      ]
    },
    {
      "cell_type": "code",
      "metadata": {
        "id": "BfmUwIzkJRIX",
        "colab_type": "code",
        "outputId": "9173cf6c-2cac-4036-87e9-b68662c0eebe",
        "colab": {
          "base_uri": "https://localhost:8080/",
          "height": 935
        }
      },
      "source": [
        "# =============================================================================\n",
        "# IMPORTACIÓN DEL BASE MODEL DE VGG19\n",
        "# =============================================================================\n",
        "from keras.applications import VGG19\n",
        "\n",
        "conv_base_2 = VGG19(weights='imagenet',\n",
        "                        include_top=False, # incluir la parte densa (fully connected)\n",
        "                        input_shape=(128,128,3))\n",
        "\n",
        "conv_base_2.summary()"
      ],
      "execution_count": 0,
      "outputs": [
        {
          "output_type": "stream",
          "text": [
            "Downloading data from https://github.com/fchollet/deep-learning-models/releases/download/v0.1/vgg19_weights_tf_dim_ordering_tf_kernels_notop.h5\n",
            "80142336/80134624 [==============================] - 3s 0us/step\n",
            "Model: \"vgg19\"\n",
            "_________________________________________________________________\n",
            "Layer (type)                 Output Shape              Param #   \n",
            "=================================================================\n",
            "input_2 (InputLayer)         (None, 128, 128, 3)       0         \n",
            "_________________________________________________________________\n",
            "block1_conv1 (Conv2D)        (None, 128, 128, 64)      1792      \n",
            "_________________________________________________________________\n",
            "block1_conv2 (Conv2D)        (None, 128, 128, 64)      36928     \n",
            "_________________________________________________________________\n",
            "block1_pool (MaxPooling2D)   (None, 64, 64, 64)        0         \n",
            "_________________________________________________________________\n",
            "block2_conv1 (Conv2D)        (None, 64, 64, 128)       73856     \n",
            "_________________________________________________________________\n",
            "block2_conv2 (Conv2D)        (None, 64, 64, 128)       147584    \n",
            "_________________________________________________________________\n",
            "block2_pool (MaxPooling2D)   (None, 32, 32, 128)       0         \n",
            "_________________________________________________________________\n",
            "block3_conv1 (Conv2D)        (None, 32, 32, 256)       295168    \n",
            "_________________________________________________________________\n",
            "block3_conv2 (Conv2D)        (None, 32, 32, 256)       590080    \n",
            "_________________________________________________________________\n",
            "block3_conv3 (Conv2D)        (None, 32, 32, 256)       590080    \n",
            "_________________________________________________________________\n",
            "block3_conv4 (Conv2D)        (None, 32, 32, 256)       590080    \n",
            "_________________________________________________________________\n",
            "block3_pool (MaxPooling2D)   (None, 16, 16, 256)       0         \n",
            "_________________________________________________________________\n",
            "block4_conv1 (Conv2D)        (None, 16, 16, 512)       1180160   \n",
            "_________________________________________________________________\n",
            "block4_conv2 (Conv2D)        (None, 16, 16, 512)       2359808   \n",
            "_________________________________________________________________\n",
            "block4_conv3 (Conv2D)        (None, 16, 16, 512)       2359808   \n",
            "_________________________________________________________________\n",
            "block4_conv4 (Conv2D)        (None, 16, 16, 512)       2359808   \n",
            "_________________________________________________________________\n",
            "block4_pool (MaxPooling2D)   (None, 8, 8, 512)         0         \n",
            "_________________________________________________________________\n",
            "block5_conv1 (Conv2D)        (None, 8, 8, 512)         2359808   \n",
            "_________________________________________________________________\n",
            "block5_conv2 (Conv2D)        (None, 8, 8, 512)         2359808   \n",
            "_________________________________________________________________\n",
            "block5_conv3 (Conv2D)        (None, 8, 8, 512)         2359808   \n",
            "_________________________________________________________________\n",
            "block5_conv4 (Conv2D)        (None, 8, 8, 512)         2359808   \n",
            "_________________________________________________________________\n",
            "block5_pool (MaxPooling2D)   (None, 4, 4, 512)         0         \n",
            "=================================================================\n",
            "Total params: 20,024,384\n",
            "Trainable params: 20,024,384\n",
            "Non-trainable params: 0\n",
            "_________________________________________________________________\n"
          ],
          "name": "stdout"
        }
      ]
    },
    {
      "cell_type": "code",
      "metadata": {
        "id": "jYq-g_KQJp5v",
        "colab_type": "code",
        "outputId": "f9d2b7a3-3c4f-48bd-8267-d69c4ab242c9",
        "colab": {
          "base_uri": "https://localhost:8080/",
          "height": 357
        }
      },
      "source": [
        "# =============================================================================\n",
        "# TOP MODEL\n",
        "# =============================================================================\n",
        "from keras import models\n",
        "from keras import layers\n",
        "\n",
        "number_of_classes = len(y)\n",
        "\n",
        "conv_base_2.trainable = False # evitar que los pesos se modifiquen en la parte convolucional\n",
        "pre_trained_model_2 = models.Sequential()\n",
        "pre_trained_model_2.add(conv_base_2) # añado el Base Model importado\n",
        "pre_trained_model_2.add(layers.Flatten())\n",
        "pre_trained_model_2.add(layers.Dropout(0.25)) #dropout\n",
        "pre_trained_model_2.add(layers.Dense(512, activation='relu'))\n",
        "pre_trained_model_2.add(layers.Dropout(0.5)) #dropout\n",
        "pre_trained_model_2.add(layers.Dense(number_of_classes, activation='softmax'))\n",
        "\n",
        "pre_trained_model_2.summary()"
      ],
      "execution_count": 0,
      "outputs": [
        {
          "output_type": "stream",
          "text": [
            "Model: \"sequential_4\"\n",
            "_________________________________________________________________\n",
            "Layer (type)                 Output Shape              Param #   \n",
            "=================================================================\n",
            "vgg19 (Model)                (None, 4, 4, 512)         20024384  \n",
            "_________________________________________________________________\n",
            "flatten_4 (Flatten)          (None, 8192)              0         \n",
            "_________________________________________________________________\n",
            "dropout_9 (Dropout)          (None, 8192)              0         \n",
            "_________________________________________________________________\n",
            "dense_5 (Dense)              (None, 512)               4194816   \n",
            "_________________________________________________________________\n",
            "dropout_10 (Dropout)         (None, 512)               0         \n",
            "_________________________________________________________________\n",
            "dense_6 (Dense)              (None, 102)               52326     \n",
            "=================================================================\n",
            "Total params: 24,271,526\n",
            "Trainable params: 4,247,142\n",
            "Non-trainable params: 20,024,384\n",
            "_________________________________________________________________\n"
          ],
          "name": "stdout"
        }
      ]
    },
    {
      "cell_type": "code",
      "metadata": {
        "id": "pZagiNV3M4cw",
        "colab_type": "code",
        "colab": {}
      },
      "source": [
        "# =============================================================================\n",
        "# COMPILACIÓN\n",
        "# =============================================================================\n",
        "pre_trained_model_2.compile(optimizer='rmsprop',\n",
        "               loss='categorical_crossentropy',\n",
        "               metrics=['accuracy'])"
      ],
      "execution_count": 0,
      "outputs": []
    },
    {
      "cell_type": "code",
      "metadata": {
        "id": "ITWxcuoGJ57T",
        "colab_type": "code",
        "outputId": "0ace4eac-7718-41a0-db6f-79624cb41b7f",
        "colab": {
          "base_uri": "https://localhost:8080/",
          "height": 357
        }
      },
      "source": [
        "# =============================================================================\n",
        "# ENTRENAMIENTO\n",
        "# =============================================================================\n",
        "# es necesario especificar el numero de steps cuando se usa un generator (para saber cuando dejar de generar datos en una epoca)\n",
        "batch_size = 64\n",
        "num_samples = x_train_subset.shape[0] * 3 # multiplicar por 3 el numero de ejemplos\n",
        "\n",
        "# Fit the model on the batches generated by datagen.flow().\n",
        "history_pretrained_2 = pre_trained_model_2.fit_generator(datagen.flow(x_train_subset, y_train_subset, batch_size=batch_size),\n",
        "                            epochs=10,\n",
        "                            validation_data=(x_test_subset, y_test_subset),\n",
        "                            steps_per_epoch=num_samples//batch_size                                          \n",
        "                            )"
      ],
      "execution_count": 0,
      "outputs": [
        {
          "output_type": "stream",
          "text": [
            "Epoch 1/10\n",
            "342/342 [==============================] - 88s 259ms/step - loss: 2.4231 - acc: 0.4634 - val_loss: 1.2125 - val_acc: 0.6938\n",
            "Epoch 2/10\n",
            "342/342 [==============================] - 87s 255ms/step - loss: 1.4538 - acc: 0.6305 - val_loss: 0.9387 - val_acc: 0.7485\n",
            "Epoch 3/10\n",
            "342/342 [==============================] - 87s 254ms/step - loss: 1.2323 - acc: 0.6756 - val_loss: 0.8230 - val_acc: 0.7769\n",
            "Epoch 4/10\n",
            "342/342 [==============================] - 86s 250ms/step - loss: 1.1296 - acc: 0.7074 - val_loss: 0.8080 - val_acc: 0.7786\n",
            "Epoch 5/10\n",
            "342/342 [==============================] - 86s 251ms/step - loss: 1.0571 - acc: 0.7227 - val_loss: 0.7981 - val_acc: 0.7829\n",
            "Epoch 6/10\n",
            "342/342 [==============================] - 86s 251ms/step - loss: 1.0172 - acc: 0.7312 - val_loss: 0.8182 - val_acc: 0.7857\n",
            "Epoch 7/10\n",
            "342/342 [==============================] - 86s 252ms/step - loss: 0.9836 - acc: 0.7413 - val_loss: 0.8499 - val_acc: 0.7906\n",
            "Epoch 8/10\n",
            "342/342 [==============================] - 86s 251ms/step - loss: 0.9553 - acc: 0.7518 - val_loss: 0.8581 - val_acc: 0.7972\n",
            "Epoch 9/10\n",
            "342/342 [==============================] - 85s 248ms/step - loss: 0.9579 - acc: 0.7555 - val_loss: 0.9041 - val_acc: 0.7851\n",
            "Epoch 10/10\n",
            "342/342 [==============================] - 85s 249ms/step - loss: 0.9446 - acc: 0.7607 - val_loss: 0.8887 - val_acc: 0.7993\n"
          ],
          "name": "stdout"
        }
      ]
    },
    {
      "cell_type": "code",
      "metadata": {
        "id": "zgzc8aLqQfST",
        "colab_type": "code",
        "outputId": "855e4a0e-1003-49de-ae45-e8b1669851bc",
        "colab": {
          "base_uri": "https://localhost:8080/",
          "height": 573
        }
      },
      "source": [
        "# =============================================================================\n",
        "# GRÁFICAS\n",
        "# =============================================================================\n",
        "\n",
        "#plot loss\n",
        "\n",
        "epochs = np.arange(1,len(history_pretrained_2.history['loss'])+1)\n",
        "plt.title('Loss over training')\n",
        "plt.xlabel('epoch')\n",
        "plt.ylabel('loss')\n",
        "plt.plot(epochs,history_pretrained_2.history['loss'],'r',label='training loss')\n",
        "plt.plot(epochs,history_pretrained_2.history['val_loss'],'b',label='validation loss')\n",
        "plt.legend(loc='best')\n",
        "plt.show()\n",
        "\n",
        "#plot accuracy\n",
        "\n",
        "epochs = np.arange(1,len(history_pretrained_2.history['acc'])+1)\n",
        "plt.title('Accuracy over training')\n",
        "plt.xlabel('epoch')\n",
        "plt.ylabel('accuracy')\n",
        "plt.plot(epochs,history_pretrained_2.history['acc'],'r',label='training accuracy')\n",
        "plt.plot(epochs,history_pretrained_2.history['val_acc'],'b',label='validation accuracy')\n",
        "plt.legend(loc='best')\n",
        "plt.show()"
      ],
      "execution_count": 0,
      "outputs": [
        {
          "output_type": "display_data",
          "data": {
            "image/png": "[encoded data removed]",
            "text/plain": [
              "<Figure size 432x288 with 1 Axes>"
            ]
          },
          "metadata": {
            "tags": []
          }
        },
        {
          "output_type": "display_data",
          "data": {
            "image/png": "[encoded data removed]",
            "text/plain": [
              "<Figure size 432x288 with 1 Axes>"
            ]
          },
          "metadata": {
            "tags": []
          }
        }
      ]
    },
    {
      "cell_type": "code",
      "metadata": {
        "id": "PaTt78jpZRCK",
        "colab_type": "code",
        "outputId": "8ec17480-9e24-465b-a742-3fe3e04509b1",
        "colab": {
          "base_uri": "https://localhost:8080/",
          "height": 34
        }
      },
      "source": [
        "# =============================================================================\n",
        "# EVALUACIÓN\n",
        "# =============================================================================\n",
        "loss, accuracy = pre_trained_model_2.evaluate(x_test_subset,y_test_subset)"
      ],
      "execution_count": 0,
      "outputs": [
        {
          "output_type": "stream",
          "text": [
            "1829/1829 [==============================] - 2s 1ms/step\n"
          ],
          "name": "stdout"
        }
      ]
    },
    {
      "cell_type": "code",
      "metadata": {
        "id": "AKBYvWQrZa1x",
        "colab_type": "code",
        "outputId": "6fc6cf0d-5a3f-4637-9552-755c1ee1a705",
        "colab": {
          "base_uri": "https://localhost:8080/",
          "height": 34
        }
      },
      "source": [
        "print('Loss {}, accuracy {}'.format(loss,accuracy))"
      ],
      "execution_count": 0,
      "outputs": [
        {
          "output_type": "stream",
          "text": [
            "Loss 0.888660890538553, accuracy 0.799343903805142\n"
          ],
          "name": "stdout"
        }
      ]
    },
    {
      "cell_type": "code",
      "metadata": {
        "id": "QLaAL7VHZmvF",
        "colab_type": "code",
        "outputId": "0e7dceb3-e9b4-4a1a-cee8-9b973f877542",
        "colab": {
          "base_uri": "https://localhost:8080/",
          "height": 145
        }
      },
      "source": [
        "# =============================================================================\n",
        "# IMAGEN DE NUESTRO SET DE TEST\n",
        "# =============================================================================\n",
        "# Tomamos una imagen de nuestro test set aleatoriamente:\n",
        "from keras.preprocessing import image \n",
        "\n",
        "SAMPLE = 977\n",
        "\n",
        "img = x_test_subset[SAMPLE,:,:,:]\n",
        "\n",
        "image.array_to_img(img)"
      ],
      "execution_count": 0,
      "outputs": [
        {
          "output_type": "execute_result",
          "data": {
            "image/png": "[encoded data removed]",
            "text/plain": [
              "<PIL.Image.Image image mode=RGB size=128x128 at 0x7F6E51F7AE48>"
            ]
          },
          "metadata": {
            "tags": []
          },
          "execution_count": 51
        }
      ]
    },
    {
      "cell_type": "code",
      "metadata": {
        "id": "eFNMC4JQZuG3",
        "colab_type": "code",
        "outputId": "fa00caf1-d9ca-4ba0-a72b-41b977eaec88",
        "colab": {
          "base_uri": "https://localhost:8080/",
          "height": 34
        }
      },
      "source": [
        "# Generamos las predicciones:\n",
        "predictions = pre_trained_model_2.predict(img.reshape(1,128,128,3))\n",
        "\n",
        "# La mayor de las probabilidades será la clasificada:\n",
        "clasification = y[np.argmax(predictions)]\n",
        "percentage = np.max(predictions)*100\n",
        "\n",
        "print('El modelo clasifica la imagen en {} con una precisión de {}%'.format(clasification,round(percentage,2)))"
      ],
      "execution_count": 0,
      "outputs": [
        {
          "output_type": "stream",
          "text": [
            "El modelo clasifica la imagen en car_side con una precisión de 100.0%\n"
          ],
          "name": "stdout"
        }
      ]
    },
    {
      "cell_type": "code",
      "metadata": {
        "id": "NU8zJK9aZ3pV",
        "colab_type": "code",
        "outputId": "f1fd1be1-46c0-4e19-c3d9-84f0aa4c523c",
        "colab": {
          "base_uri": "https://localhost:8080/",
          "height": 145
        }
      },
      "source": [
        "# =============================================================================\n",
        "# IMAGEN EXTERNA A CUALQUIER SET\n",
        "# =============================================================================\n",
        "# cargar imagen \n",
        "img2 = image.load_img(BASE_FOLDER+'brain.jpg', target_size=(128,128))\n",
        "x = image.img_to_array(img2) # a array de (128,128,3)\n",
        "x = np.expand_dims(x, axis=0) # a array de (1,128,128,3)\n",
        "img2"
      ],
      "execution_count": 0,
      "outputs": [
        {
          "output_type": "execute_result",
          "data": {
            "image/png": "[encoded data removed]",
            "text/plain": [
              "<PIL.Image.Image image mode=RGB size=128x128 at 0x7F6E520B1E80>"
            ]
          },
          "metadata": {
            "tags": []
          },
          "execution_count": 53
        }
      ]
    },
    {
      "cell_type": "code",
      "metadata": {
        "id": "nh0RmuNjaAhn",
        "colab_type": "code",
        "outputId": "e1405b43-aa8f-4c76-b5a8-a962c857ebe6",
        "colab": {
          "base_uri": "https://localhost:8080/",
          "height": 34
        }
      },
      "source": [
        "# Generamos las predicciones:\n",
        "predictions = pre_trained_model_2.predict(x)\n",
        "\n",
        "# Clasificamos:\n",
        "clasification = y[np.argmax(predictions)]\n",
        "percentage = np.max(predictions)*100\n",
        "\n",
        "print('El modelo clasifica la imagen en {} con una precisión de {}%'.format(clasification,round(percentage,2)))"
      ],
      "execution_count": 0,
      "outputs": [
        {
          "output_type": "stream",
          "text": [
            "El modelo clasifica la imagen en brain con una precisión de 100.0%\n"
          ],
          "name": "stdout"
        }
      ]
    },
    {
      "cell_type": "markdown",
      "metadata": {
        "id": "Tn_EU4dnsfZa",
        "colab_type": "text"
      },
      "source": [
        "# Estrategia 2: Entrenar desde cero\n",
        "\n",
        "Diseño, entrenamiento y optimización de una red neuronal."
      ]
    },
    {
      "cell_type": "markdown",
      "metadata": {
        "id": "rpTEBrX_vPYN",
        "colab_type": "text"
      },
      "source": [
        "### ARQUITECTURA\n",
        "\n",
        "BASE MODEL:\n",
        "\n",
        "Para nuestra Base Model se aplicarán tres bloques convolucionales. A mayor número de bloques, mayor profundidad de la red y más capacitada estará para extraer características locales -mayor precisión-.\n",
        "\n",
        "Se aplicarán filtros tamaño 3x3 de depth ascendente (32 filtros, 64 filtros...) -dado que cada vez que extraemos información en x e y la introducimos en z-.\n",
        "\n",
        "Se hará uso de técnicas de pooling con la finalidad de reducir dimensionalidad sin perder información relevante.\n",
        "\n",
        "También se introducirá Dropout como medida para mitigar overfitting.\n",
        "\n",
        "El parámetro padding='same' en Conv2D se emplea para igualar tamaño al input original. En este caso se probó pero no mejoraba la red.\n",
        "\n",
        "\n",
        "TOP MODEL:\n",
        "\n",
        "Se aplicará una capa flatten y capas densas -fullyconnected-, especificando en la última de las capas tantas neuronas como clases existentes. La activación será 'softmax'. Ésta es la manera de proceder para clasificación multiclase."
      ]
    },
    {
      "cell_type": "code",
      "metadata": {
        "id": "UNO5IthsDI3h",
        "colab_type": "code",
        "colab": {}
      },
      "source": [
        "# =============================================================================\n",
        "# ARQUITECTURA\n",
        "# =============================================================================\n",
        "from keras import models\n",
        "from keras import layers\n",
        "\n",
        "#MODO SECUENCIAL\n",
        "own_convnet = models.Sequential()\n",
        "\n",
        "#BLOQUE CONVOLUCIONAL 1 (BASE MODEL)\n",
        "own_convnet.add(layers.Conv2D(32,(3,3),activation='relu', input_shape=(128,128,3)))\n",
        "own_convnet.add(layers.Conv2D(32,(3,3),activation='relu'))\n",
        "own_convnet.add(layers.MaxPooling2D((2,2)))\n",
        "own_convnet.add(layers.Dropout(0.25))\n",
        "\n",
        "#BLOQUE CONVOLUCIONAL 2 (BASE MODEL)\n",
        "own_convnet.add(layers.Conv2D(64,(3,3),activation='relu'))\n",
        "own_convnet.add(layers.Conv2D(64,(3,3),activation='relu'))\n",
        "own_convnet.add(layers.MaxPooling2D((2,2)))\n",
        "own_convnet.add(layers.Dropout(0.25))\n",
        "\n",
        "#BLOQUE CONVOLUCIONAL 3 (BASE MODEL)\n",
        "own_convnet.add(layers.Conv2D(128,(3,3),activation='relu'))\n",
        "own_convnet.add(layers.Conv2D(128,(3,3),activation='relu'))\n",
        "own_convnet.add(layers.MaxPooling2D((2,2)))\n",
        "own_convnet.add(layers.Dropout(0.25))\n",
        "\n",
        "#TOP MODEL\n",
        "own_convnet.add(layers.Flatten())\n",
        "own_convnet.add(layers.Dense(64,activation='relu'))\n",
        "own_convnet.add(layers.Dense(number_of_classes,activation='softmax'))"
      ],
      "execution_count": 0,
      "outputs": []
    },
    {
      "cell_type": "markdown",
      "metadata": {
        "id": "OAGcBpxx8_LR",
        "colab_type": "text"
      },
      "source": [
        "### COMPILACIÓN\n",
        "\n",
        "- 'rmsprop': optimizador para calcular o retropropagar los errores\n",
        "- 'categorical_crossentropy': para clasificación multiclase\n",
        "- 'accuracy': métrica a monitorizar para conocer cuán fructífero está resultando el entrenamiento."
      ]
    },
    {
      "cell_type": "code",
      "metadata": {
        "id": "0rCIbvL0yrco",
        "colab_type": "code",
        "colab": {}
      },
      "source": [
        "# =============================================================================\n",
        "# COMPILACIÓN\n",
        "# =============================================================================\n",
        "own_convnet.compile(optimizer='rmsprop',\n",
        "               loss='categorical_crossentropy',\n",
        "               metrics=['accuracy'])"
      ],
      "execution_count": 0,
      "outputs": []
    },
    {
      "cell_type": "markdown",
      "metadata": {
        "id": "Q_SmV9Xg9ano",
        "colab_type": "text"
      },
      "source": [
        "### DATA AUGMENTATION\n",
        "\n",
        "A través de transformaciones geométricas y de intensidad de las imágenes originales, se crearán otras imágenes para entrenar.\n",
        "\n",
        "Se entrenarán con estas nuevas imágenes, no con las originales."
      ]
    },
    {
      "cell_type": "code",
      "metadata": {
        "id": "m_s3OHXEzRO4",
        "colab_type": "code",
        "colab": {}
      },
      "source": [
        "# =============================================================================\n",
        "# DATA AUGMENTATION\n",
        "# =============================================================================\n",
        "from keras.preprocessing.image import ImageDataGenerator\n",
        "\n",
        "datagen = ImageDataGenerator(\n",
        "    rotation_range=10, # grados de rotacion aleatoria\n",
        "    width_shift_range=0.1, # fraccion del total (1) para mover la imagen\n",
        "    height_shift_range=0.1, # fraccion del total (1) para mover la imagen\n",
        "    shear_range=0, # deslizamiento\n",
        "    zoom_range=0.1, # rango de zoom\n",
        "    horizontal_flip=True, # girar las imagenes horizontalmente (eje vertical)\n",
        "    fill_mode='nearest', # como rellenar posibles nuevos pixeles\n",
        "    channel_shift_range=0.2 # cambios aleatorios en los canales de la imagen\n",
        ")"
      ],
      "execution_count": 0,
      "outputs": []
    },
    {
      "cell_type": "markdown",
      "metadata": {
        "id": "K62aopiH943q",
        "colab_type": "text"
      },
      "source": [
        "### ENTRENAMIENTO\n",
        "\n",
        "Aquí se puede jugar ampliamente con los parámetros batch_size, epochs y num_samples.\n",
        "\n",
        "Dadas las limitaciones actuales, no se será muy ambicioso con estos valores. Por ejemplo, podríamos tomar un num_samples (las imágenes que se crean mediante las transformaciones) elevado, pero se prefiere tomar una medida más modesta para no relentizar los cálculos.\n",
        "\n",
        "Un batch size muy alto dará pasos más grandes pero convergerá proablemente lejos del punto óptimo. Un batch size pequeño tiende a una buena convergencia pero relentiza el tiempo de computación. Se especificará el batch size en función del nivel de detalle que requiera la aplicación y el procesador que se emplee. También existen técnicas que emplean un batch size alto que va disminuyendo gradualmente."
      ]
    },
    {
      "cell_type": "code",
      "metadata": {
        "id": "w3K1qiPpz8Et",
        "colab_type": "code",
        "outputId": "d6b44964-189b-4431-d499-633b495af875",
        "colab": {
          "base_uri": "https://localhost:8080/",
          "height": 357
        }
      },
      "source": [
        "# =============================================================================\n",
        "# ENTRENAMIENTO\n",
        "# =============================================================================\n",
        "# es necesario especificar el numero de steps cuando se usa un generator (para saber cuando dejar de generar datos en una epoca)\n",
        "batch_size = 64\n",
        "num_samples = x_train_subset.shape[0] * 5 # multiplicar por 5 el numero de ejemplos\n",
        "\n",
        "# Fit the model on the batches generated by datagen.flow().\n",
        "own_history = own_convnet.fit_generator(datagen.flow(x_train_subset, y_train_subset, batch_size=batch_size),\n",
        "                            epochs=10,\n",
        "                            validation_data=(x_test_subset, y_test_subset),\n",
        "                            steps_per_epoch=num_samples//batch_size                                          \n",
        "                            )"
      ],
      "execution_count": 0,
      "outputs": [
        {
          "output_type": "stream",
          "text": [
            "Epoch 1/10\n",
            "571/571 [==============================] - 142s 249ms/step - loss: 3.5149 - acc: 0.2514 - val_loss: 2.7451 - val_acc: 0.3876\n",
            "Epoch 2/10\n",
            "571/571 [==============================] - 142s 248ms/step - loss: 2.3441 - acc: 0.4499 - val_loss: 2.1651 - val_acc: 0.4932\n",
            "Epoch 3/10\n",
            "571/571 [==============================] - 142s 249ms/step - loss: 1.8267 - acc: 0.5488 - val_loss: 1.7697 - val_acc: 0.5796\n",
            "Epoch 4/10\n",
            "571/571 [==============================] - 142s 248ms/step - loss: 1.5222 - acc: 0.6077 - val_loss: 1.5637 - val_acc: 0.6288\n",
            "Epoch 5/10\n",
            "571/571 [==============================] - 142s 248ms/step - loss: 1.3110 - acc: 0.6578 - val_loss: 1.5254 - val_acc: 0.6359\n",
            "Epoch 6/10\n",
            "571/571 [==============================] - 141s 247ms/step - loss: 1.1551 - acc: 0.6934 - val_loss: 1.3038 - val_acc: 0.6927\n",
            "Epoch 7/10\n",
            "571/571 [==============================] - 142s 248ms/step - loss: 1.0163 - acc: 0.7245 - val_loss: 1.3157 - val_acc: 0.6916\n",
            "Epoch 8/10\n",
            "571/571 [==============================] - 141s 247ms/step - loss: 0.9138 - acc: 0.7504 - val_loss: 1.4788 - val_acc: 0.6709\n",
            "Epoch 9/10\n",
            "571/571 [==============================] - 141s 248ms/step - loss: 0.8338 - acc: 0.7677 - val_loss: 1.4285 - val_acc: 0.6867\n",
            "Epoch 10/10\n",
            "571/571 [==============================] - 142s 249ms/step - loss: 0.7614 - acc: 0.7854 - val_loss: 1.5294 - val_acc: 0.6856\n"
          ],
          "name": "stdout"
        }
      ]
    },
    {
      "cell_type": "code",
      "metadata": {
        "id": "Qf71Oufw015-",
        "colab_type": "code",
        "outputId": "f0eb51b3-d560-4ccf-bfb4-ef90e487ca43",
        "colab": {
          "base_uri": "https://localhost:8080/",
          "height": 573
        }
      },
      "source": [
        "# =============================================================================\n",
        "# GRÁFICAS\n",
        "# =============================================================================\n",
        "\n",
        "#plot loss\n",
        "\n",
        "epochs = np.arange(1,len(own_history.history['loss'])+1)\n",
        "plt.title('Loss over training')\n",
        "plt.xlabel('epoch')\n",
        "plt.ylabel('loss')\n",
        "plt.plot(epochs,own_history.history['loss'],'r',label='training loss')\n",
        "plt.plot(epochs,own_history.history['val_loss'],'b',label='validation loss')\n",
        "plt.legend(loc='best')\n",
        "plt.show()\n",
        "\n",
        "#plot accuracy\n",
        "\n",
        "epochs = np.arange(1,len(own_history.history['acc'])+1)\n",
        "plt.title('Accuracy over training')\n",
        "plt.xlabel('epoch')\n",
        "plt.ylabel('accuracy')\n",
        "plt.plot(epochs,own_history.history['acc'],'r',label='training accuracy')\n",
        "plt.plot(epochs,own_history.history['val_acc'],'b',label='validation accuracy')\n",
        "plt.legend(loc='best')\n",
        "plt.show()"
      ],
      "execution_count": 0,
      "outputs": [
        {
          "output_type": "display_data",
          "data": {
            "image/png": "[encoded data removed]",
            "text/plain": [
              "<Figure size 432x288 with 1 Axes>"
            ]
          },
          "metadata": {
            "tags": []
          }
        },
        {
          "output_type": "display_data",
          "data": {
            "image/png": "[encoded data removed]",
            "text/plain": [
              "<Figure size 432x288 with 1 Axes>"
            ]
          },
          "metadata": {
            "tags": []
          }
        }
      ]
    },
    {
      "cell_type": "code",
      "metadata": {
        "id": "ucqx0TJt1_cv",
        "colab_type": "code",
        "outputId": "711d4532-76f0-4c6b-fad0-a524a2305cc2",
        "colab": {
          "base_uri": "https://localhost:8080/",
          "height": 34
        }
      },
      "source": [
        "# =============================================================================\n",
        "# EVALUACIÓN\n",
        "# =============================================================================\n",
        "loss, accuracy = own_convnet.evaluate(x_test_subset,y_test_subset)"
      ],
      "execution_count": 0,
      "outputs": [
        {
          "output_type": "stream",
          "text": [
            "1829/1829 [==============================] - 1s 451us/step\n"
          ],
          "name": "stdout"
        }
      ]
    },
    {
      "cell_type": "code",
      "metadata": {
        "id": "zYMZNoeAHxXS",
        "colab_type": "code",
        "outputId": "fd8848bf-773b-4d9b-c6b9-a84f3eb59cec",
        "colab": {
          "base_uri": "https://localhost:8080/",
          "height": 34
        }
      },
      "source": [
        "print('Loss {}, accuracy {}'.format(loss,accuracy))"
      ],
      "execution_count": 0,
      "outputs": [
        {
          "output_type": "stream",
          "text": [
            "Loss 1.529397657492436, accuracy 0.6856205577469706\n"
          ],
          "name": "stdout"
        }
      ]
    },
    {
      "cell_type": "code",
      "metadata": {
        "id": "wQ0CWUsoH0z8",
        "colab_type": "code",
        "outputId": "39102fe6-278d-4558-f92e-4061acd9f7d8",
        "colab": {
          "base_uri": "https://localhost:8080/",
          "height": 145
        }
      },
      "source": [
        "# =============================================================================\n",
        "# IMAGEN DE NUESTRO SET DE TEST\n",
        "# =============================================================================\n",
        "# Tomamos una imagen de nuestro test set aleatoriamente:\n",
        "from keras.preprocessing import image \n",
        "\n",
        "SAMPLE = 977\n",
        "\n",
        "img = x_test_subset[SAMPLE,:,:,:]\n",
        "\n",
        "image.array_to_img(img)"
      ],
      "execution_count": 0,
      "outputs": [
        {
          "output_type": "execute_result",
          "data": {
            "image/png": "[encoded data removed]",
            "text/plain": [
              "<PIL.Image.Image image mode=RGB size=128x128 at 0x7F6E51C3E1D0>"
            ]
          },
          "metadata": {
            "tags": []
          },
          "execution_count": 62
        }
      ]
    },
    {
      "cell_type": "code",
      "metadata": {
        "id": "WyWUnqpPIJM0",
        "colab_type": "code",
        "outputId": "41b48302-18d2-4a8c-9afc-8c3137a1d25b",
        "colab": {
          "base_uri": "https://localhost:8080/",
          "height": 34
        }
      },
      "source": [
        "# Generamos las predicciones:\n",
        "predictions = own_convnet.predict(img.reshape(1,128,128,3))\n",
        "\n",
        "# La mayor de las probabilidades será la clasificada:\n",
        "clasification = y[np.argmax(predictions)]\n",
        "percentage = np.max(predictions)*100\n",
        "\n",
        "print('El modelo clasifica la imagen en {} con una precisión de {}%'.format(clasification,round(percentage,2)))"
      ],
      "execution_count": 0,
      "outputs": [
        {
          "output_type": "stream",
          "text": [
            "El modelo clasifica la imagen en car_side con una precisión de 74.84%\n"
          ],
          "name": "stdout"
        }
      ]
    },
    {
      "cell_type": "code",
      "metadata": {
        "id": "fpzUpXosIQY7",
        "colab_type": "code",
        "outputId": "31ad0f0c-bc57-4518-c543-1e32f7b6a44b",
        "colab": {
          "base_uri": "https://localhost:8080/",
          "height": 145
        }
      },
      "source": [
        "# =============================================================================\n",
        "# IMAGEN EXTERNA A CUALQUIER SET\n",
        "# =============================================================================\n",
        "# cargar imagen \n",
        "img2 = image.load_img(BASE_FOLDER+'brain.jpg', target_size=(128,128))\n",
        "x = image.img_to_array(img2) # a array de (128,128,3)\n",
        "x = np.expand_dims(x, axis=0) # a array de (1,128,128,3)\n",
        "img2"
      ],
      "execution_count": 0,
      "outputs": [
        {
          "output_type": "execute_result",
          "data": {
            "image/png": "[encoded data removed]",
            "text/plain": [
              "<PIL.Image.Image image mode=RGB size=128x128 at 0x7F6E51C31DA0>"
            ]
          },
          "metadata": {
            "tags": []
          },
          "execution_count": 66
        }
      ]
    },
    {
      "cell_type": "code",
      "metadata": {
        "id": "kslpl5Y9Ljjt",
        "colab_type": "code",
        "outputId": "862c3776-ada3-474f-c8f8-cc425aba6349",
        "colab": {
          "base_uri": "https://localhost:8080/",
          "height": 34
        }
      },
      "source": [
        "# Generamos las predicciones:\n",
        "predictions = own_convnet.predict(x)\n",
        "\n",
        "# Clasificamos:\n",
        "clasification = y[np.argmax(predictions)]\n",
        "percentage = np.max(predictions)*100\n",
        "\n",
        "print('El modelo clasifica la imagen en {} con una precisión de {}%'.format(clasification,round(percentage,2)))"
      ],
      "execution_count": 0,
      "outputs": [
        {
          "output_type": "stream",
          "text": [
            "El modelo clasifica la imagen en BACKGROUND_Google con una precisión de 100.0%\n"
          ],
          "name": "stdout"
        }
      ]
    }
  ]
}